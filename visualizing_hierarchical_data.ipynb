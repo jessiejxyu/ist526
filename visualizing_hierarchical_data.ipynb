{
  "nbformat": 4,
  "nbformat_minor": 0,
  "metadata": {
    "colab": {
      "name": "visualizing_hierarchical_data.ipynb",
      "provenance": [],
      "toc_visible": true,
      "include_colab_link": true
    },
    "kernelspec": {
      "name": "python3",
      "display_name": "Python 3"
    }
  },
  "cells": [
    {
      "cell_type": "markdown",
      "metadata": {
        "id": "view-in-github",
        "colab_type": "text"
      },
      "source": [
        "<a href=\"https://colab.research.google.com/github/jessiejxyu2/ist526/blob/main/visualizing_hierarchical_data.ipynb\" target=\"_parent\"><img src=\"https://colab.research.google.com/assets/colab-badge.svg\" alt=\"Open In Colab\"/></a>"
      ]
    },
    {
      "cell_type": "markdown",
      "metadata": {
        "id": "jhG6fs7VIfVK"
      },
      "source": [
        "# Import Essential Libraries"
      ]
    },
    {
      "cell_type": "code",
      "metadata": {
        "id": "-FvyRPYSFhua"
      },
      "source": [
        "# python visualization libraries\n",
        "import pandas as pd\n",
        "import numpy as np\n",
        "\n",
        "import math\n",
        "import json\n",
        "\n",
        "\n",
        "import plotly.express as px\n",
        "import plotly.graph_objects as go\n",
        "\n",
        "# for hierarchical data\n",
        "import networkx as nx"
      ],
      "execution_count": null,
      "outputs": []
    },
    {
      "cell_type": "markdown",
      "source": [],
      "metadata": {
        "id": "4ZM6d22c1VkM"
      }
    },
    {
      "cell_type": "markdown",
      "source": [
        "The source code is adopted from [here](https://towardsdatascience.com/visualize-hierarchical-data-using-plotly-and-datapane-7e5abe2686e1)\n",
        "\n"
      ],
      "metadata": {
        "id": "p6JViEunekvS"
      }
    },
    {
      "cell_type": "markdown",
      "source": [
        "# Load Data from GitHub"
      ],
      "metadata": {
        "id": "QN3Hejkc2iFV"
      }
    },
    {
      "cell_type": "code",
      "source": [
        "# ref: https://stackoverflow.com/questions/32400867/pandas-read-csv-from-url\n",
        "\n",
        "url = 'https://raw.githubusercontent.com/smbillah/ist526/main/hierarchical_data.csv'\n",
        "\n",
        "# pandas call to read csv file \n",
        "df = pd.read_csv(url)\n",
        "\n",
        "# quickly show the dataframe\n",
        "df.head()"
      ],
      "metadata": {
        "colab": {
          "base_uri": "https://localhost:8080/",
          "height": 201
        },
        "id": "7s35QV4R2nDt",
        "outputId": "1129c687-dda8-45d8-830e-444c60098ab7"
      },
      "execution_count": null,
      "outputs": [
        {
          "output_type": "execute_result",
          "data": {
            "text/plain": [
              "   Indent Level               Item and Group   Weight              Parent\n",
              "0             0                    All items  100.000                 NaN\n",
              "1             1           Food and beverages   15.157           All items\n",
              "2             2                         Food   14.119  Food and beverages\n",
              "3             3                 Food at home    7.772                Food\n",
              "4             4  Cereals and bakery products    1.001        Food at home"
            ],
            "text/html": [
              "\n",
              "  <div id=\"df-117d6fef-8e0c-4db2-b2d0-1af1bda23cf4\">\n",
              "    <div class=\"colab-df-container\">\n",
              "      <div>\n",
              "<style scoped>\n",
              "    .dataframe tbody tr th:only-of-type {\n",
              "        vertical-align: middle;\n",
              "    }\n",
              "\n",
              "    .dataframe tbody tr th {\n",
              "        vertical-align: top;\n",
              "    }\n",
              "\n",
              "    .dataframe thead th {\n",
              "        text-align: right;\n",
              "    }\n",
              "</style>\n",
              "<table border=\"1\" class=\"dataframe\">\n",
              "  <thead>\n",
              "    <tr style=\"text-align: right;\">\n",
              "      <th></th>\n",
              "      <th>Indent Level</th>\n",
              "      <th>Item and Group</th>\n",
              "      <th>Weight</th>\n",
              "      <th>Parent</th>\n",
              "    </tr>\n",
              "  </thead>\n",
              "  <tbody>\n",
              "    <tr>\n",
              "      <th>0</th>\n",
              "      <td>0</td>\n",
              "      <td>All items</td>\n",
              "      <td>100.000</td>\n",
              "      <td>NaN</td>\n",
              "    </tr>\n",
              "    <tr>\n",
              "      <th>1</th>\n",
              "      <td>1</td>\n",
              "      <td>Food and beverages</td>\n",
              "      <td>15.157</td>\n",
              "      <td>All items</td>\n",
              "    </tr>\n",
              "    <tr>\n",
              "      <th>2</th>\n",
              "      <td>2</td>\n",
              "      <td>Food</td>\n",
              "      <td>14.119</td>\n",
              "      <td>Food and beverages</td>\n",
              "    </tr>\n",
              "    <tr>\n",
              "      <th>3</th>\n",
              "      <td>3</td>\n",
              "      <td>Food at home</td>\n",
              "      <td>7.772</td>\n",
              "      <td>Food</td>\n",
              "    </tr>\n",
              "    <tr>\n",
              "      <th>4</th>\n",
              "      <td>4</td>\n",
              "      <td>Cereals and bakery products</td>\n",
              "      <td>1.001</td>\n",
              "      <td>Food at home</td>\n",
              "    </tr>\n",
              "  </tbody>\n",
              "</table>\n",
              "</div>\n",
              "      <button class=\"colab-df-convert\" onclick=\"convertToInteractive('df-117d6fef-8e0c-4db2-b2d0-1af1bda23cf4')\"\n",
              "              title=\"Convert this dataframe to an interactive table.\"\n",
              "              style=\"display:none;\">\n",
              "        \n",
              "  <svg xmlns=\"http://www.w3.org/2000/svg\" height=\"24px\"viewBox=\"0 0 24 24\"\n",
              "       width=\"24px\">\n",
              "    <path d=\"M0 0h24v24H0V0z\" fill=\"none\"/>\n",
              "    <path d=\"M18.56 5.44l.94 2.06.94-2.06 2.06-.94-2.06-.94-.94-2.06-.94 2.06-2.06.94zm-11 1L8.5 8.5l.94-2.06 2.06-.94-2.06-.94L8.5 2.5l-.94 2.06-2.06.94zm10 10l.94 2.06.94-2.06 2.06-.94-2.06-.94-.94-2.06-.94 2.06-2.06.94z\"/><path d=\"M17.41 7.96l-1.37-1.37c-.4-.4-.92-.59-1.43-.59-.52 0-1.04.2-1.43.59L10.3 9.45l-7.72 7.72c-.78.78-.78 2.05 0 2.83L4 21.41c.39.39.9.59 1.41.59.51 0 1.02-.2 1.41-.59l7.78-7.78 2.81-2.81c.8-.78.8-2.07 0-2.86zM5.41 20L4 18.59l7.72-7.72 1.47 1.35L5.41 20z\"/>\n",
              "  </svg>\n",
              "      </button>\n",
              "      \n",
              "  <style>\n",
              "    .colab-df-container {\n",
              "      display:flex;\n",
              "      flex-wrap:wrap;\n",
              "      gap: 12px;\n",
              "    }\n",
              "\n",
              "    .colab-df-convert {\n",
              "      background-color: #E8F0FE;\n",
              "      border: none;\n",
              "      border-radius: 50%;\n",
              "      cursor: pointer;\n",
              "      display: none;\n",
              "      fill: #1967D2;\n",
              "      height: 32px;\n",
              "      padding: 0 0 0 0;\n",
              "      width: 32px;\n",
              "    }\n",
              "\n",
              "    .colab-df-convert:hover {\n",
              "      background-color: #E2EBFA;\n",
              "      box-shadow: 0px 1px 2px rgba(60, 64, 67, 0.3), 0px 1px 3px 1px rgba(60, 64, 67, 0.15);\n",
              "      fill: #174EA6;\n",
              "    }\n",
              "\n",
              "    [theme=dark] .colab-df-convert {\n",
              "      background-color: #3B4455;\n",
              "      fill: #D2E3FC;\n",
              "    }\n",
              "\n",
              "    [theme=dark] .colab-df-convert:hover {\n",
              "      background-color: #434B5C;\n",
              "      box-shadow: 0px 1px 3px 1px rgba(0, 0, 0, 0.15);\n",
              "      filter: drop-shadow(0px 1px 2px rgba(0, 0, 0, 0.3));\n",
              "      fill: #FFFFFF;\n",
              "    }\n",
              "  </style>\n",
              "\n",
              "      <script>\n",
              "        const buttonEl =\n",
              "          document.querySelector('#df-117d6fef-8e0c-4db2-b2d0-1af1bda23cf4 button.colab-df-convert');\n",
              "        buttonEl.style.display =\n",
              "          google.colab.kernel.accessAllowed ? 'block' : 'none';\n",
              "\n",
              "        async function convertToInteractive(key) {\n",
              "          const element = document.querySelector('#df-117d6fef-8e0c-4db2-b2d0-1af1bda23cf4');\n",
              "          const dataTable =\n",
              "            await google.colab.kernel.invokeFunction('convertToInteractive',\n",
              "                                                     [key], {});\n",
              "          if (!dataTable) return;\n",
              "\n",
              "          const docLinkHtml = 'Like what you see? Visit the ' +\n",
              "            '<a target=\"_blank\" href=https://colab.research.google.com/notebooks/data_table.ipynb>data table notebook</a>'\n",
              "            + ' to learn more about interactive tables.';\n",
              "          element.innerHTML = '';\n",
              "          dataTable['output_type'] = 'display_data';\n",
              "          await google.colab.output.renderOutput(dataTable, element);\n",
              "          const docLink = document.createElement('div');\n",
              "          docLink.innerHTML = docLinkHtml;\n",
              "          element.appendChild(docLink);\n",
              "        }\n",
              "      </script>\n",
              "    </div>\n",
              "  </div>\n",
              "  "
            ]
          },
          "metadata": {},
          "execution_count": 11
        }
      ]
    },
    {
      "cell_type": "code",
      "source": [
        "# it's a good idea to peek at the tail too. \n",
        "# Note, we need display(.) function if more than output is printed\n",
        "display(df.head())\n",
        "display(df.tail())\n",
        "\n",
        "# get column names\n",
        "display(df.columns)"
      ],
      "metadata": {
        "colab": {
          "base_uri": "https://localhost:8080/",
          "height": 401
        },
        "id": "pwQZQcnw31Vz",
        "outputId": "6478c2f7-5800-4d8c-f9b5-e9f8966ff427"
      },
      "execution_count": null,
      "outputs": [
        {
          "output_type": "display_data",
          "data": {
            "text/plain": [
              "   Indent Level               Item and Group   Weight              Parent\n",
              "0             0                    All items  100.000                 NaN\n",
              "1             1           Food and beverages   15.157           All items\n",
              "2             2                         Food   14.119  Food and beverages\n",
              "3             3                 Food at home    7.772                Food\n",
              "4             4  Cereals and bakery products    1.001        Food at home"
            ],
            "text/html": [
              "\n",
              "  <div id=\"df-baba86c3-dce9-4a9f-9148-2d380c2c72a4\">\n",
              "    <div class=\"colab-df-container\">\n",
              "      <div>\n",
              "<style scoped>\n",
              "    .dataframe tbody tr th:only-of-type {\n",
              "        vertical-align: middle;\n",
              "    }\n",
              "\n",
              "    .dataframe tbody tr th {\n",
              "        vertical-align: top;\n",
              "    }\n",
              "\n",
              "    .dataframe thead th {\n",
              "        text-align: right;\n",
              "    }\n",
              "</style>\n",
              "<table border=\"1\" class=\"dataframe\">\n",
              "  <thead>\n",
              "    <tr style=\"text-align: right;\">\n",
              "      <th></th>\n",
              "      <th>Indent Level</th>\n",
              "      <th>Item and Group</th>\n",
              "      <th>Weight</th>\n",
              "      <th>Parent</th>\n",
              "    </tr>\n",
              "  </thead>\n",
              "  <tbody>\n",
              "    <tr>\n",
              "      <th>0</th>\n",
              "      <td>0</td>\n",
              "      <td>All items</td>\n",
              "      <td>100.000</td>\n",
              "      <td>NaN</td>\n",
              "    </tr>\n",
              "    <tr>\n",
              "      <th>1</th>\n",
              "      <td>1</td>\n",
              "      <td>Food and beverages</td>\n",
              "      <td>15.157</td>\n",
              "      <td>All items</td>\n",
              "    </tr>\n",
              "    <tr>\n",
              "      <th>2</th>\n",
              "      <td>2</td>\n",
              "      <td>Food</td>\n",
              "      <td>14.119</td>\n",
              "      <td>Food and beverages</td>\n",
              "    </tr>\n",
              "    <tr>\n",
              "      <th>3</th>\n",
              "      <td>3</td>\n",
              "      <td>Food at home</td>\n",
              "      <td>7.772</td>\n",
              "      <td>Food</td>\n",
              "    </tr>\n",
              "    <tr>\n",
              "      <th>4</th>\n",
              "      <td>4</td>\n",
              "      <td>Cereals and bakery products</td>\n",
              "      <td>1.001</td>\n",
              "      <td>Food at home</td>\n",
              "    </tr>\n",
              "  </tbody>\n",
              "</table>\n",
              "</div>\n",
              "      <button class=\"colab-df-convert\" onclick=\"convertToInteractive('df-baba86c3-dce9-4a9f-9148-2d380c2c72a4')\"\n",
              "              title=\"Convert this dataframe to an interactive table.\"\n",
              "              style=\"display:none;\">\n",
              "        \n",
              "  <svg xmlns=\"http://www.w3.org/2000/svg\" height=\"24px\"viewBox=\"0 0 24 24\"\n",
              "       width=\"24px\">\n",
              "    <path d=\"M0 0h24v24H0V0z\" fill=\"none\"/>\n",
              "    <path d=\"M18.56 5.44l.94 2.06.94-2.06 2.06-.94-2.06-.94-.94-2.06-.94 2.06-2.06.94zm-11 1L8.5 8.5l.94-2.06 2.06-.94-2.06-.94L8.5 2.5l-.94 2.06-2.06.94zm10 10l.94 2.06.94-2.06 2.06-.94-2.06-.94-.94-2.06-.94 2.06-2.06.94z\"/><path d=\"M17.41 7.96l-1.37-1.37c-.4-.4-.92-.59-1.43-.59-.52 0-1.04.2-1.43.59L10.3 9.45l-7.72 7.72c-.78.78-.78 2.05 0 2.83L4 21.41c.39.39.9.59 1.41.59.51 0 1.02-.2 1.41-.59l7.78-7.78 2.81-2.81c.8-.78.8-2.07 0-2.86zM5.41 20L4 18.59l7.72-7.72 1.47 1.35L5.41 20z\"/>\n",
              "  </svg>\n",
              "      </button>\n",
              "      \n",
              "  <style>\n",
              "    .colab-df-container {\n",
              "      display:flex;\n",
              "      flex-wrap:wrap;\n",
              "      gap: 12px;\n",
              "    }\n",
              "\n",
              "    .colab-df-convert {\n",
              "      background-color: #E8F0FE;\n",
              "      border: none;\n",
              "      border-radius: 50%;\n",
              "      cursor: pointer;\n",
              "      display: none;\n",
              "      fill: #1967D2;\n",
              "      height: 32px;\n",
              "      padding: 0 0 0 0;\n",
              "      width: 32px;\n",
              "    }\n",
              "\n",
              "    .colab-df-convert:hover {\n",
              "      background-color: #E2EBFA;\n",
              "      box-shadow: 0px 1px 2px rgba(60, 64, 67, 0.3), 0px 1px 3px 1px rgba(60, 64, 67, 0.15);\n",
              "      fill: #174EA6;\n",
              "    }\n",
              "\n",
              "    [theme=dark] .colab-df-convert {\n",
              "      background-color: #3B4455;\n",
              "      fill: #D2E3FC;\n",
              "    }\n",
              "\n",
              "    [theme=dark] .colab-df-convert:hover {\n",
              "      background-color: #434B5C;\n",
              "      box-shadow: 0px 1px 3px 1px rgba(0, 0, 0, 0.15);\n",
              "      filter: drop-shadow(0px 1px 2px rgba(0, 0, 0, 0.3));\n",
              "      fill: #FFFFFF;\n",
              "    }\n",
              "  </style>\n",
              "\n",
              "      <script>\n",
              "        const buttonEl =\n",
              "          document.querySelector('#df-baba86c3-dce9-4a9f-9148-2d380c2c72a4 button.colab-df-convert');\n",
              "        buttonEl.style.display =\n",
              "          google.colab.kernel.accessAllowed ? 'block' : 'none';\n",
              "\n",
              "        async function convertToInteractive(key) {\n",
              "          const element = document.querySelector('#df-baba86c3-dce9-4a9f-9148-2d380c2c72a4');\n",
              "          const dataTable =\n",
              "            await google.colab.kernel.invokeFunction('convertToInteractive',\n",
              "                                                     [key], {});\n",
              "          if (!dataTable) return;\n",
              "\n",
              "          const docLinkHtml = 'Like what you see? Visit the ' +\n",
              "            '<a target=\"_blank\" href=https://colab.research.google.com/notebooks/data_table.ipynb>data table notebook</a>'\n",
              "            + ' to learn more about interactive tables.';\n",
              "          element.innerHTML = '';\n",
              "          dataTable['output_type'] = 'display_data';\n",
              "          await google.colab.output.renderOutput(dataTable, element);\n",
              "          const docLink = document.createElement('div');\n",
              "          docLink.innerHTML = docLinkHtml;\n",
              "          element.appendChild(docLink);\n",
              "        }\n",
              "      </script>\n",
              "    </div>\n",
              "  </div>\n",
              "  "
            ]
          },
          "metadata": {}
        },
        {
          "output_type": "display_data",
          "data": {
            "text/plain": [
              "     Indent Level                                     Item and Group  Weight  \\\n",
              "289             4                                   Funeral expenses   0.140   \n",
              "290             4                  Laundry and dry cleaning services   0.220   \n",
              "291             4  Apparel services other than laundry and dry cl...   0.030   \n",
              "292             4                                 Financial services   0.229   \n",
              "293             4                                    Unsampled items   0.111   \n",
              "\n",
              "                              Parent  \n",
              "289  Miscellaneous personal services  \n",
              "290  Miscellaneous personal services  \n",
              "291  Miscellaneous personal services  \n",
              "292  Miscellaneous personal services  \n",
              "293  Miscellaneous personal services  "
            ],
            "text/html": [
              "\n",
              "  <div id=\"df-fd7d9cf8-a23d-4a79-be83-2d1acc26e001\">\n",
              "    <div class=\"colab-df-container\">\n",
              "      <div>\n",
              "<style scoped>\n",
              "    .dataframe tbody tr th:only-of-type {\n",
              "        vertical-align: middle;\n",
              "    }\n",
              "\n",
              "    .dataframe tbody tr th {\n",
              "        vertical-align: top;\n",
              "    }\n",
              "\n",
              "    .dataframe thead th {\n",
              "        text-align: right;\n",
              "    }\n",
              "</style>\n",
              "<table border=\"1\" class=\"dataframe\">\n",
              "  <thead>\n",
              "    <tr style=\"text-align: right;\">\n",
              "      <th></th>\n",
              "      <th>Indent Level</th>\n",
              "      <th>Item and Group</th>\n",
              "      <th>Weight</th>\n",
              "      <th>Parent</th>\n",
              "    </tr>\n",
              "  </thead>\n",
              "  <tbody>\n",
              "    <tr>\n",
              "      <th>289</th>\n",
              "      <td>4</td>\n",
              "      <td>Funeral expenses</td>\n",
              "      <td>0.140</td>\n",
              "      <td>Miscellaneous personal services</td>\n",
              "    </tr>\n",
              "    <tr>\n",
              "      <th>290</th>\n",
              "      <td>4</td>\n",
              "      <td>Laundry and dry cleaning services</td>\n",
              "      <td>0.220</td>\n",
              "      <td>Miscellaneous personal services</td>\n",
              "    </tr>\n",
              "    <tr>\n",
              "      <th>291</th>\n",
              "      <td>4</td>\n",
              "      <td>Apparel services other than laundry and dry cl...</td>\n",
              "      <td>0.030</td>\n",
              "      <td>Miscellaneous personal services</td>\n",
              "    </tr>\n",
              "    <tr>\n",
              "      <th>292</th>\n",
              "      <td>4</td>\n",
              "      <td>Financial services</td>\n",
              "      <td>0.229</td>\n",
              "      <td>Miscellaneous personal services</td>\n",
              "    </tr>\n",
              "    <tr>\n",
              "      <th>293</th>\n",
              "      <td>4</td>\n",
              "      <td>Unsampled items</td>\n",
              "      <td>0.111</td>\n",
              "      <td>Miscellaneous personal services</td>\n",
              "    </tr>\n",
              "  </tbody>\n",
              "</table>\n",
              "</div>\n",
              "      <button class=\"colab-df-convert\" onclick=\"convertToInteractive('df-fd7d9cf8-a23d-4a79-be83-2d1acc26e001')\"\n",
              "              title=\"Convert this dataframe to an interactive table.\"\n",
              "              style=\"display:none;\">\n",
              "        \n",
              "  <svg xmlns=\"http://www.w3.org/2000/svg\" height=\"24px\"viewBox=\"0 0 24 24\"\n",
              "       width=\"24px\">\n",
              "    <path d=\"M0 0h24v24H0V0z\" fill=\"none\"/>\n",
              "    <path d=\"M18.56 5.44l.94 2.06.94-2.06 2.06-.94-2.06-.94-.94-2.06-.94 2.06-2.06.94zm-11 1L8.5 8.5l.94-2.06 2.06-.94-2.06-.94L8.5 2.5l-.94 2.06-2.06.94zm10 10l.94 2.06.94-2.06 2.06-.94-2.06-.94-.94-2.06-.94 2.06-2.06.94z\"/><path d=\"M17.41 7.96l-1.37-1.37c-.4-.4-.92-.59-1.43-.59-.52 0-1.04.2-1.43.59L10.3 9.45l-7.72 7.72c-.78.78-.78 2.05 0 2.83L4 21.41c.39.39.9.59 1.41.59.51 0 1.02-.2 1.41-.59l7.78-7.78 2.81-2.81c.8-.78.8-2.07 0-2.86zM5.41 20L4 18.59l7.72-7.72 1.47 1.35L5.41 20z\"/>\n",
              "  </svg>\n",
              "      </button>\n",
              "      \n",
              "  <style>\n",
              "    .colab-df-container {\n",
              "      display:flex;\n",
              "      flex-wrap:wrap;\n",
              "      gap: 12px;\n",
              "    }\n",
              "\n",
              "    .colab-df-convert {\n",
              "      background-color: #E8F0FE;\n",
              "      border: none;\n",
              "      border-radius: 50%;\n",
              "      cursor: pointer;\n",
              "      display: none;\n",
              "      fill: #1967D2;\n",
              "      height: 32px;\n",
              "      padding: 0 0 0 0;\n",
              "      width: 32px;\n",
              "    }\n",
              "\n",
              "    .colab-df-convert:hover {\n",
              "      background-color: #E2EBFA;\n",
              "      box-shadow: 0px 1px 2px rgba(60, 64, 67, 0.3), 0px 1px 3px 1px rgba(60, 64, 67, 0.15);\n",
              "      fill: #174EA6;\n",
              "    }\n",
              "\n",
              "    [theme=dark] .colab-df-convert {\n",
              "      background-color: #3B4455;\n",
              "      fill: #D2E3FC;\n",
              "    }\n",
              "\n",
              "    [theme=dark] .colab-df-convert:hover {\n",
              "      background-color: #434B5C;\n",
              "      box-shadow: 0px 1px 3px 1px rgba(0, 0, 0, 0.15);\n",
              "      filter: drop-shadow(0px 1px 2px rgba(0, 0, 0, 0.3));\n",
              "      fill: #FFFFFF;\n",
              "    }\n",
              "  </style>\n",
              "\n",
              "      <script>\n",
              "        const buttonEl =\n",
              "          document.querySelector('#df-fd7d9cf8-a23d-4a79-be83-2d1acc26e001 button.colab-df-convert');\n",
              "        buttonEl.style.display =\n",
              "          google.colab.kernel.accessAllowed ? 'block' : 'none';\n",
              "\n",
              "        async function convertToInteractive(key) {\n",
              "          const element = document.querySelector('#df-fd7d9cf8-a23d-4a79-be83-2d1acc26e001');\n",
              "          const dataTable =\n",
              "            await google.colab.kernel.invokeFunction('convertToInteractive',\n",
              "                                                     [key], {});\n",
              "          if (!dataTable) return;\n",
              "\n",
              "          const docLinkHtml = 'Like what you see? Visit the ' +\n",
              "            '<a target=\"_blank\" href=https://colab.research.google.com/notebooks/data_table.ipynb>data table notebook</a>'\n",
              "            + ' to learn more about interactive tables.';\n",
              "          element.innerHTML = '';\n",
              "          dataTable['output_type'] = 'display_data';\n",
              "          await google.colab.output.renderOutput(dataTable, element);\n",
              "          const docLink = document.createElement('div');\n",
              "          docLink.innerHTML = docLinkHtml;\n",
              "          element.appendChild(docLink);\n",
              "        }\n",
              "      </script>\n",
              "    </div>\n",
              "  </div>\n",
              "  "
            ]
          },
          "metadata": {}
        },
        {
          "output_type": "display_data",
          "data": {
            "text/plain": [
              "Index(['Indent Level', 'Item and Group', 'Weight', 'Parent'], dtype='object')"
            ]
          },
          "metadata": {}
        }
      ]
    },
    {
      "cell_type": "markdown",
      "source": [
        "\"The data contains 295 different categories spread across 8 different ‘Indent Levels’, from 1— ‘Food and beverages` (15.16% weight), to 8 — ‘Uncooked ground beef’ (0.17% weight). Note that it doesn’t go all the way down to individual products. The items are arranged hierarchically, so each item’s weight will be equal to the sum of its children’s weights.\""
      ],
      "metadata": {
        "id": "WJJ_qhiVfOsT"
      }
    },
    {
      "cell_type": "markdown",
      "source": [
        "## Pre-processing"
      ],
      "metadata": {
        "id": "xafl5aisgPdk"
      }
    },
    {
      "cell_type": "code",
      "source": [
        "# remove NaN with blank, otherwise plotly will be upset\n",
        "df.fillna('', inplace = True)\n",
        "# df.dropna(axis=0, inplace = True)\n",
        "display(df.head())\n"
      ],
      "metadata": {
        "colab": {
          "base_uri": "https://localhost:8080/",
          "height": 201
        },
        "id": "UaN6bsOEgSjH",
        "outputId": "a2d25b94-6630-4219-822b-f5fbf7265e81"
      },
      "execution_count": null,
      "outputs": [
        {
          "output_type": "display_data",
          "data": {
            "text/plain": [
              "   Indent Level               Item and Group   Weight              Parent\n",
              "0             0                    All items  100.000                    \n",
              "1             1           Food and beverages   15.157           All items\n",
              "2             2                         Food   14.119  Food and beverages\n",
              "3             3                 Food at home    7.772                Food\n",
              "4             4  Cereals and bakery products    1.001        Food at home"
            ],
            "text/html": [
              "\n",
              "  <div id=\"df-fa87115c-caea-4382-a73b-ed07106eac8a\">\n",
              "    <div class=\"colab-df-container\">\n",
              "      <div>\n",
              "<style scoped>\n",
              "    .dataframe tbody tr th:only-of-type {\n",
              "        vertical-align: middle;\n",
              "    }\n",
              "\n",
              "    .dataframe tbody tr th {\n",
              "        vertical-align: top;\n",
              "    }\n",
              "\n",
              "    .dataframe thead th {\n",
              "        text-align: right;\n",
              "    }\n",
              "</style>\n",
              "<table border=\"1\" class=\"dataframe\">\n",
              "  <thead>\n",
              "    <tr style=\"text-align: right;\">\n",
              "      <th></th>\n",
              "      <th>Indent Level</th>\n",
              "      <th>Item and Group</th>\n",
              "      <th>Weight</th>\n",
              "      <th>Parent</th>\n",
              "    </tr>\n",
              "  </thead>\n",
              "  <tbody>\n",
              "    <tr>\n",
              "      <th>0</th>\n",
              "      <td>0</td>\n",
              "      <td>All items</td>\n",
              "      <td>100.000</td>\n",
              "      <td></td>\n",
              "    </tr>\n",
              "    <tr>\n",
              "      <th>1</th>\n",
              "      <td>1</td>\n",
              "      <td>Food and beverages</td>\n",
              "      <td>15.157</td>\n",
              "      <td>All items</td>\n",
              "    </tr>\n",
              "    <tr>\n",
              "      <th>2</th>\n",
              "      <td>2</td>\n",
              "      <td>Food</td>\n",
              "      <td>14.119</td>\n",
              "      <td>Food and beverages</td>\n",
              "    </tr>\n",
              "    <tr>\n",
              "      <th>3</th>\n",
              "      <td>3</td>\n",
              "      <td>Food at home</td>\n",
              "      <td>7.772</td>\n",
              "      <td>Food</td>\n",
              "    </tr>\n",
              "    <tr>\n",
              "      <th>4</th>\n",
              "      <td>4</td>\n",
              "      <td>Cereals and bakery products</td>\n",
              "      <td>1.001</td>\n",
              "      <td>Food at home</td>\n",
              "    </tr>\n",
              "  </tbody>\n",
              "</table>\n",
              "</div>\n",
              "      <button class=\"colab-df-convert\" onclick=\"convertToInteractive('df-fa87115c-caea-4382-a73b-ed07106eac8a')\"\n",
              "              title=\"Convert this dataframe to an interactive table.\"\n",
              "              style=\"display:none;\">\n",
              "        \n",
              "  <svg xmlns=\"http://www.w3.org/2000/svg\" height=\"24px\"viewBox=\"0 0 24 24\"\n",
              "       width=\"24px\">\n",
              "    <path d=\"M0 0h24v24H0V0z\" fill=\"none\"/>\n",
              "    <path d=\"M18.56 5.44l.94 2.06.94-2.06 2.06-.94-2.06-.94-.94-2.06-.94 2.06-2.06.94zm-11 1L8.5 8.5l.94-2.06 2.06-.94-2.06-.94L8.5 2.5l-.94 2.06-2.06.94zm10 10l.94 2.06.94-2.06 2.06-.94-2.06-.94-.94-2.06-.94 2.06-2.06.94z\"/><path d=\"M17.41 7.96l-1.37-1.37c-.4-.4-.92-.59-1.43-.59-.52 0-1.04.2-1.43.59L10.3 9.45l-7.72 7.72c-.78.78-.78 2.05 0 2.83L4 21.41c.39.39.9.59 1.41.59.51 0 1.02-.2 1.41-.59l7.78-7.78 2.81-2.81c.8-.78.8-2.07 0-2.86zM5.41 20L4 18.59l7.72-7.72 1.47 1.35L5.41 20z\"/>\n",
              "  </svg>\n",
              "      </button>\n",
              "      \n",
              "  <style>\n",
              "    .colab-df-container {\n",
              "      display:flex;\n",
              "      flex-wrap:wrap;\n",
              "      gap: 12px;\n",
              "    }\n",
              "\n",
              "    .colab-df-convert {\n",
              "      background-color: #E8F0FE;\n",
              "      border: none;\n",
              "      border-radius: 50%;\n",
              "      cursor: pointer;\n",
              "      display: none;\n",
              "      fill: #1967D2;\n",
              "      height: 32px;\n",
              "      padding: 0 0 0 0;\n",
              "      width: 32px;\n",
              "    }\n",
              "\n",
              "    .colab-df-convert:hover {\n",
              "      background-color: #E2EBFA;\n",
              "      box-shadow: 0px 1px 2px rgba(60, 64, 67, 0.3), 0px 1px 3px 1px rgba(60, 64, 67, 0.15);\n",
              "      fill: #174EA6;\n",
              "    }\n",
              "\n",
              "    [theme=dark] .colab-df-convert {\n",
              "      background-color: #3B4455;\n",
              "      fill: #D2E3FC;\n",
              "    }\n",
              "\n",
              "    [theme=dark] .colab-df-convert:hover {\n",
              "      background-color: #434B5C;\n",
              "      box-shadow: 0px 1px 3px 1px rgba(0, 0, 0, 0.15);\n",
              "      filter: drop-shadow(0px 1px 2px rgba(0, 0, 0, 0.3));\n",
              "      fill: #FFFFFF;\n",
              "    }\n",
              "  </style>\n",
              "\n",
              "      <script>\n",
              "        const buttonEl =\n",
              "          document.querySelector('#df-fa87115c-caea-4382-a73b-ed07106eac8a button.colab-df-convert');\n",
              "        buttonEl.style.display =\n",
              "          google.colab.kernel.accessAllowed ? 'block' : 'none';\n",
              "\n",
              "        async function convertToInteractive(key) {\n",
              "          const element = document.querySelector('#df-fa87115c-caea-4382-a73b-ed07106eac8a');\n",
              "          const dataTable =\n",
              "            await google.colab.kernel.invokeFunction('convertToInteractive',\n",
              "                                                     [key], {});\n",
              "          if (!dataTable) return;\n",
              "\n",
              "          const docLinkHtml = 'Like what you see? Visit the ' +\n",
              "            '<a target=\"_blank\" href=https://colab.research.google.com/notebooks/data_table.ipynb>data table notebook</a>'\n",
              "            + ' to learn more about interactive tables.';\n",
              "          element.innerHTML = '';\n",
              "          dataTable['output_type'] = 'display_data';\n",
              "          await google.colab.output.renderOutput(dataTable, element);\n",
              "          const docLink = document.createElement('div');\n",
              "          docLink.innerHTML = docLinkHtml;\n",
              "          element.appendChild(docLink);\n",
              "        }\n",
              "      </script>\n",
              "    </div>\n",
              "  </div>\n",
              "  "
            ]
          },
          "metadata": {}
        }
      ]
    },
    {
      "cell_type": "markdown",
      "source": [
        "# Sunburst Tree"
      ],
      "metadata": {
        "id": "4qSWwKxLZLAF"
      }
    },
    {
      "cell_type": "markdown",
      "source": [
        "## Basic Sunburst Tree"
      ],
      "metadata": {
        "id": "8g5cbGAQfVzx"
      }
    },
    {
      "cell_type": "code",
      "source": [
        "fig = px.sunburst(\n",
        "  df,   \n",
        "  parents = 'Parent',\n",
        "  names = 'Item and Group',\n",
        "  values='Weight'\n",
        "  #color='Indent Level'\n",
        ")\n",
        "\n",
        "fig.update_layout(\n",
        "  title_text=\"Sunburst Diagram\", \n",
        "  font_size=12\n",
        ")\n",
        "\n",
        "fig.show()"
      ],
      "metadata": {
        "colab": {
          "base_uri": "https://localhost:8080/",
          "height": 542
        },
        "id": "6PU5MkpLfY1r",
        "outputId": "77010876-e415-4295-8637-60cee37018d3"
      },
      "execution_count": null,
      "outputs": [
        {
          "output_type": "display_data",
          "data": {
            "text/html": [
              "<html>\n",
              "<head><meta charset=\"utf-8\" /></head>\n",
              "<body>\n",
              "    <div>            <script src=\"https://cdnjs.cloudflare.com/ajax/libs/mathjax/2.7.5/MathJax.js?config=TeX-AMS-MML_SVG\"></script><script type=\"text/javascript\">if (window.MathJax) {MathJax.Hub.Config({SVG: {font: \"STIX-Web\"}});}</script>                <script type=\"text/javascript\">window.PlotlyConfig = {MathJaxConfig: 'local'};</script>\n",
              "        <script src=\"https://cdn.plot.ly/plotly-2.8.3.min.js\"></script>                <div id=\"df197021-028f-478e-8030-4de2a904ca78\" class=\"plotly-graph-div\" style=\"height:525px; width:100%;\"></div>            <script type=\"text/javascript\">                                    window.PLOTLYENV=window.PLOTLYENV || {};                                    if (document.getElementById(\"df197021-028f-478e-8030-4de2a904ca78\")) {                    Plotly.newPlot(                        \"df197021-028f-478e-8030-4de2a904ca78\",                        [{\"domain\":{\"x\":[0.0,1.0],\"y\":[0.0,1.0]},\"hovertemplate\":\"Item and Group=%{label}<br>Weight=%{value}<br>Parent=%{parent}<extra></extra>\",\"labels\":[\"All items\",\"Food and beverages\",\"Food\",\"Food at home\",\"Cereals and bakery products\",\"Cereals and cereal products\",\"Flour and prepared flour mixes\",\"Breakfast cereal\",\"Rice, pasta, cornmeal\",\"Bakery products\",\"Bread\",\"Fresh biscuits, rolls, muffins\",\"Cakes, cupcakes, and cookies\",\"Other bakery products\",\"Meats, poultry, fish, and eggs\",\"Meats, poultry, and fish\",\"Meats\",\"Beef and veal\",\"Uncooked ground beef\",\"Uncooked beef roasts\",\"Uncooked beef steaks\",\"Uncooked other beef and veal\",\"Pork\",\"Bacon, breakfast sausage, and related products\",\"Ham\",\"Pork chops\",\"Other pork including roasts, steaks, and ribs\",\"Other meats\",\"Poultry\",\"Chicken\",\"Other uncooked poultry including turkey\",\"Fish and seafood\",\"Fresh fish and seafood\",\"Processed fish and seafood\",\"Eggs\",\"Dairy and related products\",\"Milk\",\"Cheese and related products\",\"Ice cream and related products\",\"Other dairy and related products\",\"Fruits and vegetables\",\"Fresh fruits and vegetables\",\"Fresh fruits\",\"Apples\",\"Bananas\",\"Citrus fruits\",\"Other fresh fruits\",\"Fresh vegetables\",\"Potatoes\",\"Lettuce\",\"Tomatoes\",\"Other fresh vegetables\",\"Processed fruits and vegetables\",\"Canned fruits and vegetables\",\"Frozen fruits and vegetables\",\"Other processed fruits and vegetables including dried\",\"Nonalcoholic beverages and beverage materials\",\"Juices and nonalcoholic drinks\",\"Carbonated drinks\",\"Frozen noncarbonated juices and drinks\",\"Nonfrozen noncarbonated juices and drinks\",\"Beverage materials including coffee and tea\",\"Coffee\",\"Other beverage materials including tea\",\"Other food at home\",\"Sugar and sweets\",\"Sugar and sugar substitutes\",\"Candy and chewing gum\",\"Other sweets\",\"Fats and oils\",\"Butter and margarine\",\"Salad dressing\",\"Other fats and oils including peanut butter\",\"Other foods\",\"Soups\",\"Frozen and freeze dried prepared foods\",\"Snacks\",\"Spices, seasonings, condiments, sauces\",\"Baby food\",\"Other miscellaneous foods\",\"Food away from home\",\"Full service meals and snacks\",\"Limited service meals and snacks\",\"Food at employee sites and schools\",\"Food from vending machines and mobile vendors\",\"Other food away from home\",\"Beverages\",\"Alcoholic beverages\",\"Alcoholic beverages at home\",\"Beer, ale, and other malt beverages at home\",\"Distilled spirits at home\",\"Wine at home\",\"Alcoholic beverages away from home\",\"Housing\",\"Shelter\",\"Rent of primary residence\",\"Lodging away from home\",\"Housing at school, excluding board\",\"Other lodging away from home including hotels and motels\",\"Owners' equivalent rent of residences\",\"Owners' equivalent rent of primary residence\",\"Unsampled owners' equivalent rent of secondary residences\",\"Tenants' and household insurance\",\"Fuels and utilities\",\"Household energy\",\"Fuel oil and other fuels\",\"Fuel oil\",\"Propane, kerosene, and firewood\",\"Energy services\",\"Electricity\",\"Utility (piped) gas service\",\"Water and sewer and trash collection services\",\"Water and sewerage maintenance\",\"Garbage and trash collection\",\"Household furnishings and operations\",\"Window and floor coverings and other linens\",\"Floor coverings\",\"Window coverings\",\"Other linens\",\"Furniture and bedding\",\"Bedroom furniture\",\"Living room, kitchen, and dining room furniture\",\"Other furniture\",\"Unsampled furniture\",\"Appliances\",\"Major appliances\",\"Other appliances\",\"Unsampled appliances\",\"Other household equipment and furnishings\",\"Clocks, lamps, and decorator items\",\"Indoor plants and flowers\",\"Dishes and flatware\",\"Nonelectric cookware and tableware\",\"Tools, hardware, outdoor equipment and supplies\",\"Tools, hardware and supplies\",\"Outdoor equipment and supplies\",\"Unsampled tools, hardware, outdoor equipment and supplies\",\"Housekeeping supplies\",\"Household cleaning products\",\"Household paper products\",\"Miscellaneous household products\",\"Household operations\",\"Domestic services\",\"Gardening and lawncare services\",\"Moving, storage, freight expense\",\"Repair of household items\",\"Unsampled household operations\",\"Apparel\",\"Men's and boys' apparel\",\"Men's apparel\",\"Men's suits, sport coats, and outerwear\",\"Men''s underwear, nightwear, swimwear, and accessories\",\"Men's shirts and sweaters\",\"Men's pants and shorts\",\"Unsampled men's apparel\",\"Boys' apparel\",\"Women's and girls' apparel\",\"Women's apparel\",\"Women's outerwear\",\"Women's dresses\",\"Women's suits and separates\",\"Women's underwear, nightwear, sportswear, and accessories\",\"Unsampled women's apparel\",\"Girls' apparel\",\"Footwear\",\"Men's footwear\",\"Boys' and girls' footwear\",\"Women's footwear\",\"Infants' and toddlers' apparel\",\"Jewelry and watches\",\"Watches\",\"Jewelry\",\"Transportation\",\"Private transportation\",\"New and used motor vehicles\",\"New vehicles\",\"Used cars and trucks\",\"Leased cars and trucks\",\"Car and truck rental\",\"Unsampled new and used motor vehicles\",\"Motor fuel\",\"Gasoline (all types)\",\"Other motor fuels\",\"Motor vehicle parts and equipment\",\"Tires\",\"Vehicle accessories other than tires\",\"Motor vehicle maintenance and repair\",\"Motor vehicle body work\",\"Motor vehicle maintenance and servicing\",\"Motor vehicle repair\",\"Unsampled service policies\",\"Motor vehicle insurance\",\"Motor vehicle fees\",\"State motor vehicle registration and license fees\",\"Parking and other fees\",\"Unsampled motor vehicle fees\",\"Public transportation\",\"Airline fares\",\"Other intercity transportation\",\"Intracity transportation\",\"Unsampled public transportation\",\"Medical care\",\"Medical care commodities\",\"Medicinal drugs\",\"Prescription drugs\",\"Nonprescription drugs\",\"Medical equipment and supplies\",\"Medical care services\",\"Professional services\",\"Physicians' services\",\"Dental services\",\"Eyeglasses and eye care\",\"Services by other medical professionals\",\"Hospital and related services\",\"Hospital services\",\"Nursing homes and adult day services\",\"Care of invalids and elderly at home\",\"Health insurance\",\"Recreation\",\"Video and audio\",\"Televisions\",\"Cable and satellite television service\",\"Other video equipment\",\"Video discs and other media, including rental of video\",\"Audio equipment\",\"Recorded music and music subscriptions\",\"Unsampled video and audio\",\"Pets, pet products and services\",\"Pets and pet products\",\"Pet services including veterinary\",\"Sporting goods\",\"Sports vehicles including bicycles\",\"Sports equipment\",\"Unsampled sporting goods\",\"Photography\",\"Photographic equipment and supplies\",\"Photographers and photo processing\",\"Unsampled photography\",\"Other recreational goods\",\"Toys\",\"Sewing machines, fabric and supplies\",\"Music instruments and accessories\",\"Unsampled recreation commodities\",\"Other recreation services\",\"Club membership for shopping clubs, fraternal, or other organizations, or participant sports fees\",\"Admissions\",\"Fees for lessons or instructions\",\"Unsampled recreation services\",\"Recreational reading materials\",\"Newspapers and magazines\",\"Recreational books\",\"Unsampled recreational reading materials\",\"Education and communication\",\"Education\",\"Educational books and supplies\",\"Tuition, other school fees, and childcare\",\"College tuition and fees\",\"Elementary and high school tuition and fees\",\"Child care and nursery school\",\"Technical and business school tuition and fees\",\"Unsampled tuition, other school fees, and childcare\",\"Communication\",\"Postage and delivery services\",\"Postage\",\"Delivery services\",\"Information and information processing\",\"Telephone services\",\"Wireless telephone services\",\"Land-line telephone services\",\"Information technology, hardware and services\",\"Computers, peripherals, and smart home assistant devices\",\"Computer software and accessories\",\"Internet services and electronic information providers\",\"Telephone hardware, calculators, and other consumer information items\",\"Unsampled information and information processing\",\"Other goods and services\",\"Tobacco and smoking products\",\"Cigarettes\",\"Tobacco products other than cigarettes\",\"Unsampled tobacco and smoking products\",\"Personal care\",\"Personal care products\",\"Hair, dental, shaving, and miscellaneous personal care products\",\"Cosmetics, perfume, bath, nail preparations and implements\",\"Unsampled personal care products\",\"Personal care services\",\"Haircuts and other personal care services\",\"Miscellaneous personal services\",\"Legal services\",\"Funeral expenses\",\"Laundry and dry cleaning services\",\"Apparel services other than laundry and dry cleaning\",\"Financial services\",\"Unsampled items\"],\"name\":\"\",\"parents\":[\"\",\"All items\",\"Food and beverages\",\"Food\",\"Food at home\",\"Cereals and bakery products\",\"Cereals and cereal products\",\"Cereals and cereal products\",\"Cereals and cereal products\",\"Cereals and bakery products\",\"Bakery products\",\"Bakery products\",\"Bakery products\",\"Bakery products\",\"Food at home\",\"Meats, poultry, fish, and eggs\",\"Meats, poultry, and fish\",\"Meats\",\"Beef and veal\",\"Beef and veal\",\"Beef and veal\",\"Beef and veal\",\"Meats\",\"Pork\",\"Pork\",\"Pork\",\"Pork\",\"Meats\",\"Meats, poultry, and fish\",\"Poultry\",\"Poultry\",\"Meats, poultry, and fish\",\"Fish and seafood\",\"Fish and seafood\",\"Meats, poultry, fish, and eggs\",\"Food at home\",\"Dairy and related products\",\"Dairy and related products\",\"Dairy and related products\",\"Dairy and related products\",\"Food at home\",\"Fruits and vegetables\",\"Fresh fruits and vegetables\",\"Fresh fruits\",\"Fresh fruits\",\"Fresh fruits\",\"Fresh fruits\",\"Fresh fruits and vegetables\",\"Fresh vegetables\",\"Fresh vegetables\",\"Fresh vegetables\",\"Fresh vegetables\",\"Fruits and vegetables\",\"Processed fruits and vegetables\",\"Processed fruits and vegetables\",\"Processed fruits and vegetables\",\"Food at home\",\"Nonalcoholic beverages and beverage materials\",\"Juices and nonalcoholic drinks\",\"Juices and nonalcoholic drinks\",\"Juices and nonalcoholic drinks\",\"Nonalcoholic beverages and beverage materials\",\"Beverage materials including coffee and tea\",\"Beverage materials including coffee and tea\",\"Food at home\",\"Other food at home\",\"Sugar and sweets\",\"Sugar and sweets\",\"Sugar and sweets\",\"Other food at home\",\"Fats and oils\",\"Fats and oils\",\"Fats and oils\",\"Other food at home\",\"Other foods\",\"Other foods\",\"Other foods\",\"Other foods\",\"Other foods\",\"Other foods\",\"Food\",\"Food away from home\",\"Food away from home\",\"Food away from home\",\"Food away from home\",\"Food away from home\",\"Food and beverages\",\"Beverages\",\"Alcoholic beverages\",\"Alcoholic beverages at home\",\"Alcoholic beverages at home\",\"Alcoholic beverages at home\",\"Alcoholic beverages\",\"All items\",\"Housing\",\"Shelter\",\"Shelter\",\"Lodging away from home\",\"Lodging away from home\",\"Shelter\",\"Owners' equivalent rent of residences\",\"Owners' equivalent rent of residences\",\"Shelter\",\"Housing\",\"Fuels and utilities\",\"Household energy\",\"Fuel oil and other fuels\",\"Fuel oil and other fuels\",\"Household energy\",\"Energy services\",\"Energy services\",\"Fuels and utilities\",\"Water and sewer and trash collection services\",\"Water and sewer and trash collection services\",\"Housing\",\"Household furnishings and operations\",\"Window and floor coverings and other linens\",\"Window and floor coverings and other linens\",\"Window and floor coverings and other linens\",\"Household furnishings and operations\",\"Furniture and bedding\",\"Furniture and bedding\",\"Furniture and bedding\",\"Furniture and bedding\",\"Household furnishings and operations\",\"Appliances\",\"Appliances\",\"Appliances\",\"Household furnishings and operations\",\"Other household equipment and furnishings\",\"Other household equipment and furnishings\",\"Other household equipment and furnishings\",\"Other household equipment and furnishings\",\"Household furnishings and operations\",\"Tools, hardware, outdoor equipment and supplies\",\"Tools, hardware, outdoor equipment and supplies\",\"Tools, hardware, outdoor equipment and supplies\",\"Household furnishings and operations\",\"Housekeeping supplies\",\"Housekeeping supplies\",\"Housekeeping supplies\",\"Household furnishings and operations\",\"Household operations\",\"Household operations\",\"Household operations\",\"Household operations\",\"Household operations\",\"All items\",\"Apparel\",\"Men's and boys' apparel\",\"Men's apparel\",\"Men's apparel\",\"Men's apparel\",\"Men's apparel\",\"Men's apparel\",\"Men's and boys' apparel\",\"Apparel\",\"Women's and girls' apparel\",\"Women's apparel\",\"Women's apparel\",\"Women's apparel\",\"Women's apparel\",\"Women's apparel\",\"Women's and girls' apparel\",\"Apparel\",\"Footwear\",\"Footwear\",\"Footwear\",\"Apparel\",\"Apparel\",\"Jewelry and watches\",\"Jewelry and watches\",\"All items\",\"Transportation\",\"Private transportation\",\"New and used motor vehicles\",\"New and used motor vehicles\",\"New and used motor vehicles\",\"New and used motor vehicles\",\"New and used motor vehicles\",\"Private transportation\",\"Motor fuel\",\"Motor fuel\",\"Private transportation\",\"Motor vehicle parts and equipment\",\"Motor vehicle parts and equipment\",\"Private transportation\",\"Motor vehicle maintenance and repair\",\"Motor vehicle maintenance and repair\",\"Motor vehicle maintenance and repair\",\"Motor vehicle maintenance and repair\",\"Private transportation\",\"Private transportation\",\"Motor vehicle fees\",\"Motor vehicle fees\",\"Motor vehicle fees\",\"Transportation\",\"Public transportation\",\"Public transportation\",\"Public transportation\",\"Public transportation\",\"All items\",\"Medical care\",\"Medical care commodities\",\"Medicinal drugs\",\"Medicinal drugs\",\"Medical care commodities\",\"Medical care\",\"Medical care services\",\"Professional services\",\"Professional services\",\"Professional services\",\"Professional services\",\"Medical care services\",\"Hospital and related services\",\"Hospital and related services\",\"Hospital and related services\",\"Medical care services\",\"All items\",\"Recreation\",\"Video and audio\",\"Video and audio\",\"Video and audio\",\"Video and audio\",\"Video and audio\",\"Video and audio\",\"Video and audio\",\"Recreation\",\"Pets, pet products and services\",\"Pets, pet products and services\",\"Recreation\",\"Sporting goods\",\"Sporting goods\",\"Sporting goods\",\"Recreation\",\"Photography\",\"Photography\",\"Photography\",\"Recreation\",\"Other recreational goods\",\"Other recreational goods\",\"Other recreational goods\",\"Other recreational goods\",\"Recreation\",\"Other recreation services\",\"Other recreation services\",\"Other recreation services\",\"Other recreation services\",\"Recreation\",\"Recreational reading materials\",\"Recreational reading materials\",\"Recreational reading materials\",\"All items\",\"Education and communication\",\"Education\",\"Education\",\"Tuition, other school fees, and childcare\",\"Tuition, other school fees, and childcare\",\"Tuition, other school fees, and childcare\",\"Tuition, other school fees, and childcare\",\"Tuition, other school fees, and childcare\",\"Education and communication\",\"Communication\",\"Postage and delivery services\",\"Postage and delivery services\",\"Communication\",\"Information and information processing\",\"Telephone services\",\"Telephone services\",\"Information and information processing\",\"Information technology, hardware and services\",\"Information technology, hardware and services\",\"Information technology, hardware and services\",\"Information technology, hardware and services\",\"Information technology, hardware and services\",\"All items\",\"Other goods and services\",\"Tobacco and smoking products\",\"Tobacco and smoking products\",\"Tobacco and smoking products\",\"Other goods and services\",\"Personal care\",\"Personal care products\",\"Personal care products\",\"Personal care products\",\"Personal care\",\"Personal care services\",\"Personal care\",\"Miscellaneous personal services\",\"Miscellaneous personal services\",\"Miscellaneous personal services\",\"Miscellaneous personal services\",\"Miscellaneous personal services\",\"Miscellaneous personal services\"],\"values\":[100.0,15.157,14.119,7.772,1.001,0.308,0.041,0.142,0.124,0.693,0.2,0.101,0.178,0.214,1.736,1.637,1.026,0.471,0.173,0.073,0.18,0.044,0.322,0.134,0.062,0.052,0.075,0.233,0.333,0.273,0.06,0.278,0.14,0.138,0.099,0.792,0.218,0.266,0.111,0.197,1.341,1.053,0.538,0.073,0.074,0.136,0.254,0.516,0.075,0.068,0.082,0.29,0.288,0.15,0.086,0.052,0.93,0.666,0.278,0.006,0.382,0.264,0.169,0.095,1.972,0.27,0.037,0.18,0.053,0.212,0.063,0.051,0.098,1.489,0.089,0.259,0.34,0.29,0.042,0.469,6.347,3.176,2.787,0.13,0.08,0.174,1.038,1.038,0.58,0.223,0.094,0.263,0.458,42.385,33.316,7.862,0.825,0.118,0.707,24.263,23.044,1.218,0.366,4.387,3.28,0.145,0.084,0.061,3.135,2.425,0.71,1.107,0.81,0.297,4.682,0.271,0.062,0.058,0.151,0.944,0.329,0.454,0.152,0.009,0.22,0.078,0.14,0.003,0.535,0.313,0.093,0.052,0.077,0.892,0.243,0.459,0.19,0.922,0.367,0.235,0.32,0.899,0.302,0.31,0.091,0.116,0.08,2.663,0.666,0.532,0.088,0.158,0.15,0.13,0.005,0.134,1.075,0.875,0.062,0.092,0.446,0.265,0.009,0.2,0.644,0.224,0.136,0.284,0.125,0.153,0.04,0.114,15.16,14.055,7.525,3.756,2.75,0.641,0.134,0.244,2.875,2.811,0.064,0.393,0.249,0.144,1.099,0.059,0.635,0.345,0.06,1.598,0.565,0.297,0.254,0.015,1.105,0.633,0.182,0.287,0.003,8.87,1.58,1.515,1.141,0.374,0.066,7.289,3.662,1.817,1.005,0.365,0.474,2.419,2.221,0.124,0.073,1.209,5.797,1.537,0.091,1.192,0.042,0.076,0.079,0.045,0.012,1.192,0.632,0.56,0.604,0.361,0.232,0.01,0.071,0.026,0.044,0.001,0.356,0.274,0.02,0.046,0.016,1.916,0.689,0.688,0.218,0.321,0.12,0.068,0.05,0.002,6.81,3.033,0.109,2.924,1.569,0.431,0.768,0.037,0.119,3.777,0.111,0.101,0.01,3.666,2.369,1.96,0.41,1.297,0.297,0.018,0.893,0.077,0.012,3.159,0.608,0.529,0.06,0.019,2.551,0.678,0.364,0.306,0.008,0.694,0.694,0.981,0.25,0.14,0.22,0.03,0.229,0.111],\"type\":\"sunburst\"}],                        {\"template\":{\"data\":{\"bar\":[{\"error_x\":{\"color\":\"#2a3f5f\"},\"error_y\":{\"color\":\"#2a3f5f\"},\"marker\":{\"line\":{\"color\":\"#E5ECF6\",\"width\":0.5},\"pattern\":{\"fillmode\":\"overlay\",\"size\":10,\"solidity\":0.2}},\"type\":\"bar\"}],\"barpolar\":[{\"marker\":{\"line\":{\"color\":\"#E5ECF6\",\"width\":0.5},\"pattern\":{\"fillmode\":\"overlay\",\"size\":10,\"solidity\":0.2}},\"type\":\"barpolar\"}],\"carpet\":[{\"aaxis\":{\"endlinecolor\":\"#2a3f5f\",\"gridcolor\":\"white\",\"linecolor\":\"white\",\"minorgridcolor\":\"white\",\"startlinecolor\":\"#2a3f5f\"},\"baxis\":{\"endlinecolor\":\"#2a3f5f\",\"gridcolor\":\"white\",\"linecolor\":\"white\",\"minorgridcolor\":\"white\",\"startlinecolor\":\"#2a3f5f\"},\"type\":\"carpet\"}],\"choropleth\":[{\"colorbar\":{\"outlinewidth\":0,\"ticks\":\"\"},\"type\":\"choropleth\"}],\"contour\":[{\"colorbar\":{\"outlinewidth\":0,\"ticks\":\"\"},\"colorscale\":[[0.0,\"#0d0887\"],[0.1111111111111111,\"#46039f\"],[0.2222222222222222,\"#7201a8\"],[0.3333333333333333,\"#9c179e\"],[0.4444444444444444,\"#bd3786\"],[0.5555555555555556,\"#d8576b\"],[0.6666666666666666,\"#ed7953\"],[0.7777777777777778,\"#fb9f3a\"],[0.8888888888888888,\"#fdca26\"],[1.0,\"#f0f921\"]],\"type\":\"contour\"}],\"contourcarpet\":[{\"colorbar\":{\"outlinewidth\":0,\"ticks\":\"\"},\"type\":\"contourcarpet\"}],\"heatmap\":[{\"colorbar\":{\"outlinewidth\":0,\"ticks\":\"\"},\"colorscale\":[[0.0,\"#0d0887\"],[0.1111111111111111,\"#46039f\"],[0.2222222222222222,\"#7201a8\"],[0.3333333333333333,\"#9c179e\"],[0.4444444444444444,\"#bd3786\"],[0.5555555555555556,\"#d8576b\"],[0.6666666666666666,\"#ed7953\"],[0.7777777777777778,\"#fb9f3a\"],[0.8888888888888888,\"#fdca26\"],[1.0,\"#f0f921\"]],\"type\":\"heatmap\"}],\"heatmapgl\":[{\"colorbar\":{\"outlinewidth\":0,\"ticks\":\"\"},\"colorscale\":[[0.0,\"#0d0887\"],[0.1111111111111111,\"#46039f\"],[0.2222222222222222,\"#7201a8\"],[0.3333333333333333,\"#9c179e\"],[0.4444444444444444,\"#bd3786\"],[0.5555555555555556,\"#d8576b\"],[0.6666666666666666,\"#ed7953\"],[0.7777777777777778,\"#fb9f3a\"],[0.8888888888888888,\"#fdca26\"],[1.0,\"#f0f921\"]],\"type\":\"heatmapgl\"}],\"histogram\":[{\"marker\":{\"pattern\":{\"fillmode\":\"overlay\",\"size\":10,\"solidity\":0.2}},\"type\":\"histogram\"}],\"histogram2d\":[{\"colorbar\":{\"outlinewidth\":0,\"ticks\":\"\"},\"colorscale\":[[0.0,\"#0d0887\"],[0.1111111111111111,\"#46039f\"],[0.2222222222222222,\"#7201a8\"],[0.3333333333333333,\"#9c179e\"],[0.4444444444444444,\"#bd3786\"],[0.5555555555555556,\"#d8576b\"],[0.6666666666666666,\"#ed7953\"],[0.7777777777777778,\"#fb9f3a\"],[0.8888888888888888,\"#fdca26\"],[1.0,\"#f0f921\"]],\"type\":\"histogram2d\"}],\"histogram2dcontour\":[{\"colorbar\":{\"outlinewidth\":0,\"ticks\":\"\"},\"colorscale\":[[0.0,\"#0d0887\"],[0.1111111111111111,\"#46039f\"],[0.2222222222222222,\"#7201a8\"],[0.3333333333333333,\"#9c179e\"],[0.4444444444444444,\"#bd3786\"],[0.5555555555555556,\"#d8576b\"],[0.6666666666666666,\"#ed7953\"],[0.7777777777777778,\"#fb9f3a\"],[0.8888888888888888,\"#fdca26\"],[1.0,\"#f0f921\"]],\"type\":\"histogram2dcontour\"}],\"mesh3d\":[{\"colorbar\":{\"outlinewidth\":0,\"ticks\":\"\"},\"type\":\"mesh3d\"}],\"parcoords\":[{\"line\":{\"colorbar\":{\"outlinewidth\":0,\"ticks\":\"\"}},\"type\":\"parcoords\"}],\"pie\":[{\"automargin\":true,\"type\":\"pie\"}],\"scatter\":[{\"marker\":{\"colorbar\":{\"outlinewidth\":0,\"ticks\":\"\"}},\"type\":\"scatter\"}],\"scatter3d\":[{\"line\":{\"colorbar\":{\"outlinewidth\":0,\"ticks\":\"\"}},\"marker\":{\"colorbar\":{\"outlinewidth\":0,\"ticks\":\"\"}},\"type\":\"scatter3d\"}],\"scattercarpet\":[{\"marker\":{\"colorbar\":{\"outlinewidth\":0,\"ticks\":\"\"}},\"type\":\"scattercarpet\"}],\"scattergeo\":[{\"marker\":{\"colorbar\":{\"outlinewidth\":0,\"ticks\":\"\"}},\"type\":\"scattergeo\"}],\"scattergl\":[{\"marker\":{\"colorbar\":{\"outlinewidth\":0,\"ticks\":\"\"}},\"type\":\"scattergl\"}],\"scattermapbox\":[{\"marker\":{\"colorbar\":{\"outlinewidth\":0,\"ticks\":\"\"}},\"type\":\"scattermapbox\"}],\"scatterpolar\":[{\"marker\":{\"colorbar\":{\"outlinewidth\":0,\"ticks\":\"\"}},\"type\":\"scatterpolar\"}],\"scatterpolargl\":[{\"marker\":{\"colorbar\":{\"outlinewidth\":0,\"ticks\":\"\"}},\"type\":\"scatterpolargl\"}],\"scatterternary\":[{\"marker\":{\"colorbar\":{\"outlinewidth\":0,\"ticks\":\"\"}},\"type\":\"scatterternary\"}],\"surface\":[{\"colorbar\":{\"outlinewidth\":0,\"ticks\":\"\"},\"colorscale\":[[0.0,\"#0d0887\"],[0.1111111111111111,\"#46039f\"],[0.2222222222222222,\"#7201a8\"],[0.3333333333333333,\"#9c179e\"],[0.4444444444444444,\"#bd3786\"],[0.5555555555555556,\"#d8576b\"],[0.6666666666666666,\"#ed7953\"],[0.7777777777777778,\"#fb9f3a\"],[0.8888888888888888,\"#fdca26\"],[1.0,\"#f0f921\"]],\"type\":\"surface\"}],\"table\":[{\"cells\":{\"fill\":{\"color\":\"#EBF0F8\"},\"line\":{\"color\":\"white\"}},\"header\":{\"fill\":{\"color\":\"#C8D4E3\"},\"line\":{\"color\":\"white\"}},\"type\":\"table\"}]},\"layout\":{\"annotationdefaults\":{\"arrowcolor\":\"#2a3f5f\",\"arrowhead\":0,\"arrowwidth\":1},\"autotypenumbers\":\"strict\",\"coloraxis\":{\"colorbar\":{\"outlinewidth\":0,\"ticks\":\"\"}},\"colorscale\":{\"diverging\":[[0,\"#8e0152\"],[0.1,\"#c51b7d\"],[0.2,\"#de77ae\"],[0.3,\"#f1b6da\"],[0.4,\"#fde0ef\"],[0.5,\"#f7f7f7\"],[0.6,\"#e6f5d0\"],[0.7,\"#b8e186\"],[0.8,\"#7fbc41\"],[0.9,\"#4d9221\"],[1,\"#276419\"]],\"sequential\":[[0.0,\"#0d0887\"],[0.1111111111111111,\"#46039f\"],[0.2222222222222222,\"#7201a8\"],[0.3333333333333333,\"#9c179e\"],[0.4444444444444444,\"#bd3786\"],[0.5555555555555556,\"#d8576b\"],[0.6666666666666666,\"#ed7953\"],[0.7777777777777778,\"#fb9f3a\"],[0.8888888888888888,\"#fdca26\"],[1.0,\"#f0f921\"]],\"sequentialminus\":[[0.0,\"#0d0887\"],[0.1111111111111111,\"#46039f\"],[0.2222222222222222,\"#7201a8\"],[0.3333333333333333,\"#9c179e\"],[0.4444444444444444,\"#bd3786\"],[0.5555555555555556,\"#d8576b\"],[0.6666666666666666,\"#ed7953\"],[0.7777777777777778,\"#fb9f3a\"],[0.8888888888888888,\"#fdca26\"],[1.0,\"#f0f921\"]]},\"colorway\":[\"#636efa\",\"#EF553B\",\"#00cc96\",\"#ab63fa\",\"#FFA15A\",\"#19d3f3\",\"#FF6692\",\"#B6E880\",\"#FF97FF\",\"#FECB52\"],\"font\":{\"color\":\"#2a3f5f\"},\"geo\":{\"bgcolor\":\"white\",\"lakecolor\":\"white\",\"landcolor\":\"#E5ECF6\",\"showlakes\":true,\"showland\":true,\"subunitcolor\":\"white\"},\"hoverlabel\":{\"align\":\"left\"},\"hovermode\":\"closest\",\"mapbox\":{\"style\":\"light\"},\"paper_bgcolor\":\"white\",\"plot_bgcolor\":\"#E5ECF6\",\"polar\":{\"angularaxis\":{\"gridcolor\":\"white\",\"linecolor\":\"white\",\"ticks\":\"\"},\"bgcolor\":\"#E5ECF6\",\"radialaxis\":{\"gridcolor\":\"white\",\"linecolor\":\"white\",\"ticks\":\"\"}},\"scene\":{\"xaxis\":{\"backgroundcolor\":\"#E5ECF6\",\"gridcolor\":\"white\",\"gridwidth\":2,\"linecolor\":\"white\",\"showbackground\":true,\"ticks\":\"\",\"zerolinecolor\":\"white\"},\"yaxis\":{\"backgroundcolor\":\"#E5ECF6\",\"gridcolor\":\"white\",\"gridwidth\":2,\"linecolor\":\"white\",\"showbackground\":true,\"ticks\":\"\",\"zerolinecolor\":\"white\"},\"zaxis\":{\"backgroundcolor\":\"#E5ECF6\",\"gridcolor\":\"white\",\"gridwidth\":2,\"linecolor\":\"white\",\"showbackground\":true,\"ticks\":\"\",\"zerolinecolor\":\"white\"}},\"shapedefaults\":{\"line\":{\"color\":\"#2a3f5f\"}},\"ternary\":{\"aaxis\":{\"gridcolor\":\"white\",\"linecolor\":\"white\",\"ticks\":\"\"},\"baxis\":{\"gridcolor\":\"white\",\"linecolor\":\"white\",\"ticks\":\"\"},\"bgcolor\":\"#E5ECF6\",\"caxis\":{\"gridcolor\":\"white\",\"linecolor\":\"white\",\"ticks\":\"\"}},\"title\":{\"x\":0.05},\"xaxis\":{\"automargin\":true,\"gridcolor\":\"white\",\"linecolor\":\"white\",\"ticks\":\"\",\"title\":{\"standoff\":15},\"zerolinecolor\":\"white\",\"zerolinewidth\":2},\"yaxis\":{\"automargin\":true,\"gridcolor\":\"white\",\"linecolor\":\"white\",\"ticks\":\"\",\"title\":{\"standoff\":15},\"zerolinecolor\":\"white\",\"zerolinewidth\":2}}},\"legend\":{\"tracegroupgap\":0},\"margin\":{\"t\":60},\"title\":{\"text\":\"Sunburst Diagram\"},\"font\":{\"size\":12}},                        {\"responsive\": true}                    ).then(function(){\n",
              "                            \n",
              "var gd = document.getElementById('df197021-028f-478e-8030-4de2a904ca78');\n",
              "var x = new MutationObserver(function (mutations, observer) {{\n",
              "        var display = window.getComputedStyle(gd).display;\n",
              "        if (!display || display === 'none') {{\n",
              "            console.log([gd, 'removed!']);\n",
              "            Plotly.purge(gd);\n",
              "            observer.disconnect();\n",
              "        }}\n",
              "}});\n",
              "\n",
              "// Listen for the removal of the full notebook cells\n",
              "var notebookContainer = gd.closest('#notebook-container');\n",
              "if (notebookContainer) {{\n",
              "    x.observe(notebookContainer, {childList: true});\n",
              "}}\n",
              "\n",
              "// Listen for the clearing of the current output cell\n",
              "var outputEl = gd.closest('.output');\n",
              "if (outputEl) {{\n",
              "    x.observe(outputEl, {childList: true});\n",
              "}}\n",
              "\n",
              "                        })                };                            </script>        </div>\n",
              "</body>\n",
              "</html>"
            ]
          },
          "metadata": {}
        }
      ]
    },
    {
      "cell_type": "markdown",
      "source": [
        "## Circular Sunburst and path\n",
        "\n",
        "``Hierarchical data are often stored as a rectangular dataframe, with different columns corresponding to different levels of the hierarchy. px.sunburst can take a path parameter corresponding to a list of columns. Note that id and parent should not be provided if path is given.'' [ref](https://plotly.com/python/sunburst-charts/)"
      ],
      "metadata": {
        "id": "AkML2jQDqX7N"
      }
    },
    {
      "cell_type": "code",
      "source": [
        "# load tips dataset\n",
        "df_tips = px.data.tips()\n",
        "display(df_tips.head())\n",
        "display(df_tips.tail())"
      ],
      "metadata": {
        "colab": {
          "base_uri": "https://localhost:8080/",
          "height": 384
        },
        "id": "F8cwPEU1qcm6",
        "outputId": "57218c4e-24ec-49e0-fb90-b9195a80d798"
      },
      "execution_count": null,
      "outputs": [
        {
          "output_type": "display_data",
          "data": {
            "text/plain": [
              "   total_bill   tip     sex smoker  day    time  size\n",
              "0       16.99  1.01  Female     No  Sun  Dinner     2\n",
              "1       10.34  1.66    Male     No  Sun  Dinner     3\n",
              "2       21.01  3.50    Male     No  Sun  Dinner     3\n",
              "3       23.68  3.31    Male     No  Sun  Dinner     2\n",
              "4       24.59  3.61  Female     No  Sun  Dinner     4"
            ],
            "text/html": [
              "\n",
              "  <div id=\"df-6b087d3e-bba2-4a44-8edf-30174fee0f2f\">\n",
              "    <div class=\"colab-df-container\">\n",
              "      <div>\n",
              "<style scoped>\n",
              "    .dataframe tbody tr th:only-of-type {\n",
              "        vertical-align: middle;\n",
              "    }\n",
              "\n",
              "    .dataframe tbody tr th {\n",
              "        vertical-align: top;\n",
              "    }\n",
              "\n",
              "    .dataframe thead th {\n",
              "        text-align: right;\n",
              "    }\n",
              "</style>\n",
              "<table border=\"1\" class=\"dataframe\">\n",
              "  <thead>\n",
              "    <tr style=\"text-align: right;\">\n",
              "      <th></th>\n",
              "      <th>total_bill</th>\n",
              "      <th>tip</th>\n",
              "      <th>sex</th>\n",
              "      <th>smoker</th>\n",
              "      <th>day</th>\n",
              "      <th>time</th>\n",
              "      <th>size</th>\n",
              "    </tr>\n",
              "  </thead>\n",
              "  <tbody>\n",
              "    <tr>\n",
              "      <th>0</th>\n",
              "      <td>16.99</td>\n",
              "      <td>1.01</td>\n",
              "      <td>Female</td>\n",
              "      <td>No</td>\n",
              "      <td>Sun</td>\n",
              "      <td>Dinner</td>\n",
              "      <td>2</td>\n",
              "    </tr>\n",
              "    <tr>\n",
              "      <th>1</th>\n",
              "      <td>10.34</td>\n",
              "      <td>1.66</td>\n",
              "      <td>Male</td>\n",
              "      <td>No</td>\n",
              "      <td>Sun</td>\n",
              "      <td>Dinner</td>\n",
              "      <td>3</td>\n",
              "    </tr>\n",
              "    <tr>\n",
              "      <th>2</th>\n",
              "      <td>21.01</td>\n",
              "      <td>3.50</td>\n",
              "      <td>Male</td>\n",
              "      <td>No</td>\n",
              "      <td>Sun</td>\n",
              "      <td>Dinner</td>\n",
              "      <td>3</td>\n",
              "    </tr>\n",
              "    <tr>\n",
              "      <th>3</th>\n",
              "      <td>23.68</td>\n",
              "      <td>3.31</td>\n",
              "      <td>Male</td>\n",
              "      <td>No</td>\n",
              "      <td>Sun</td>\n",
              "      <td>Dinner</td>\n",
              "      <td>2</td>\n",
              "    </tr>\n",
              "    <tr>\n",
              "      <th>4</th>\n",
              "      <td>24.59</td>\n",
              "      <td>3.61</td>\n",
              "      <td>Female</td>\n",
              "      <td>No</td>\n",
              "      <td>Sun</td>\n",
              "      <td>Dinner</td>\n",
              "      <td>4</td>\n",
              "    </tr>\n",
              "  </tbody>\n",
              "</table>\n",
              "</div>\n",
              "      <button class=\"colab-df-convert\" onclick=\"convertToInteractive('df-6b087d3e-bba2-4a44-8edf-30174fee0f2f')\"\n",
              "              title=\"Convert this dataframe to an interactive table.\"\n",
              "              style=\"display:none;\">\n",
              "        \n",
              "  <svg xmlns=\"http://www.w3.org/2000/svg\" height=\"24px\"viewBox=\"0 0 24 24\"\n",
              "       width=\"24px\">\n",
              "    <path d=\"M0 0h24v24H0V0z\" fill=\"none\"/>\n",
              "    <path d=\"M18.56 5.44l.94 2.06.94-2.06 2.06-.94-2.06-.94-.94-2.06-.94 2.06-2.06.94zm-11 1L8.5 8.5l.94-2.06 2.06-.94-2.06-.94L8.5 2.5l-.94 2.06-2.06.94zm10 10l.94 2.06.94-2.06 2.06-.94-2.06-.94-.94-2.06-.94 2.06-2.06.94z\"/><path d=\"M17.41 7.96l-1.37-1.37c-.4-.4-.92-.59-1.43-.59-.52 0-1.04.2-1.43.59L10.3 9.45l-7.72 7.72c-.78.78-.78 2.05 0 2.83L4 21.41c.39.39.9.59 1.41.59.51 0 1.02-.2 1.41-.59l7.78-7.78 2.81-2.81c.8-.78.8-2.07 0-2.86zM5.41 20L4 18.59l7.72-7.72 1.47 1.35L5.41 20z\"/>\n",
              "  </svg>\n",
              "      </button>\n",
              "      \n",
              "  <style>\n",
              "    .colab-df-container {\n",
              "      display:flex;\n",
              "      flex-wrap:wrap;\n",
              "      gap: 12px;\n",
              "    }\n",
              "\n",
              "    .colab-df-convert {\n",
              "      background-color: #E8F0FE;\n",
              "      border: none;\n",
              "      border-radius: 50%;\n",
              "      cursor: pointer;\n",
              "      display: none;\n",
              "      fill: #1967D2;\n",
              "      height: 32px;\n",
              "      padding: 0 0 0 0;\n",
              "      width: 32px;\n",
              "    }\n",
              "\n",
              "    .colab-df-convert:hover {\n",
              "      background-color: #E2EBFA;\n",
              "      box-shadow: 0px 1px 2px rgba(60, 64, 67, 0.3), 0px 1px 3px 1px rgba(60, 64, 67, 0.15);\n",
              "      fill: #174EA6;\n",
              "    }\n",
              "\n",
              "    [theme=dark] .colab-df-convert {\n",
              "      background-color: #3B4455;\n",
              "      fill: #D2E3FC;\n",
              "    }\n",
              "\n",
              "    [theme=dark] .colab-df-convert:hover {\n",
              "      background-color: #434B5C;\n",
              "      box-shadow: 0px 1px 3px 1px rgba(0, 0, 0, 0.15);\n",
              "      filter: drop-shadow(0px 1px 2px rgba(0, 0, 0, 0.3));\n",
              "      fill: #FFFFFF;\n",
              "    }\n",
              "  </style>\n",
              "\n",
              "      <script>\n",
              "        const buttonEl =\n",
              "          document.querySelector('#df-6b087d3e-bba2-4a44-8edf-30174fee0f2f button.colab-df-convert');\n",
              "        buttonEl.style.display =\n",
              "          google.colab.kernel.accessAllowed ? 'block' : 'none';\n",
              "\n",
              "        async function convertToInteractive(key) {\n",
              "          const element = document.querySelector('#df-6b087d3e-bba2-4a44-8edf-30174fee0f2f');\n",
              "          const dataTable =\n",
              "            await google.colab.kernel.invokeFunction('convertToInteractive',\n",
              "                                                     [key], {});\n",
              "          if (!dataTable) return;\n",
              "\n",
              "          const docLinkHtml = 'Like what you see? Visit the ' +\n",
              "            '<a target=\"_blank\" href=https://colab.research.google.com/notebooks/data_table.ipynb>data table notebook</a>'\n",
              "            + ' to learn more about interactive tables.';\n",
              "          element.innerHTML = '';\n",
              "          dataTable['output_type'] = 'display_data';\n",
              "          await google.colab.output.renderOutput(dataTable, element);\n",
              "          const docLink = document.createElement('div');\n",
              "          docLink.innerHTML = docLinkHtml;\n",
              "          element.appendChild(docLink);\n",
              "        }\n",
              "      </script>\n",
              "    </div>\n",
              "  </div>\n",
              "  "
            ]
          },
          "metadata": {}
        },
        {
          "output_type": "display_data",
          "data": {
            "text/plain": [
              "     total_bill   tip     sex smoker   day    time  size\n",
              "239       29.03  5.92    Male     No   Sat  Dinner     3\n",
              "240       27.18  2.00  Female    Yes   Sat  Dinner     2\n",
              "241       22.67  2.00    Male    Yes   Sat  Dinner     2\n",
              "242       17.82  1.75    Male     No   Sat  Dinner     2\n",
              "243       18.78  3.00  Female     No  Thur  Dinner     2"
            ],
            "text/html": [
              "\n",
              "  <div id=\"df-bcaba92d-fdf0-498d-b54d-ef315e68c2e7\">\n",
              "    <div class=\"colab-df-container\">\n",
              "      <div>\n",
              "<style scoped>\n",
              "    .dataframe tbody tr th:only-of-type {\n",
              "        vertical-align: middle;\n",
              "    }\n",
              "\n",
              "    .dataframe tbody tr th {\n",
              "        vertical-align: top;\n",
              "    }\n",
              "\n",
              "    .dataframe thead th {\n",
              "        text-align: right;\n",
              "    }\n",
              "</style>\n",
              "<table border=\"1\" class=\"dataframe\">\n",
              "  <thead>\n",
              "    <tr style=\"text-align: right;\">\n",
              "      <th></th>\n",
              "      <th>total_bill</th>\n",
              "      <th>tip</th>\n",
              "      <th>sex</th>\n",
              "      <th>smoker</th>\n",
              "      <th>day</th>\n",
              "      <th>time</th>\n",
              "      <th>size</th>\n",
              "    </tr>\n",
              "  </thead>\n",
              "  <tbody>\n",
              "    <tr>\n",
              "      <th>239</th>\n",
              "      <td>29.03</td>\n",
              "      <td>5.92</td>\n",
              "      <td>Male</td>\n",
              "      <td>No</td>\n",
              "      <td>Sat</td>\n",
              "      <td>Dinner</td>\n",
              "      <td>3</td>\n",
              "    </tr>\n",
              "    <tr>\n",
              "      <th>240</th>\n",
              "      <td>27.18</td>\n",
              "      <td>2.00</td>\n",
              "      <td>Female</td>\n",
              "      <td>Yes</td>\n",
              "      <td>Sat</td>\n",
              "      <td>Dinner</td>\n",
              "      <td>2</td>\n",
              "    </tr>\n",
              "    <tr>\n",
              "      <th>241</th>\n",
              "      <td>22.67</td>\n",
              "      <td>2.00</td>\n",
              "      <td>Male</td>\n",
              "      <td>Yes</td>\n",
              "      <td>Sat</td>\n",
              "      <td>Dinner</td>\n",
              "      <td>2</td>\n",
              "    </tr>\n",
              "    <tr>\n",
              "      <th>242</th>\n",
              "      <td>17.82</td>\n",
              "      <td>1.75</td>\n",
              "      <td>Male</td>\n",
              "      <td>No</td>\n",
              "      <td>Sat</td>\n",
              "      <td>Dinner</td>\n",
              "      <td>2</td>\n",
              "    </tr>\n",
              "    <tr>\n",
              "      <th>243</th>\n",
              "      <td>18.78</td>\n",
              "      <td>3.00</td>\n",
              "      <td>Female</td>\n",
              "      <td>No</td>\n",
              "      <td>Thur</td>\n",
              "      <td>Dinner</td>\n",
              "      <td>2</td>\n",
              "    </tr>\n",
              "  </tbody>\n",
              "</table>\n",
              "</div>\n",
              "      <button class=\"colab-df-convert\" onclick=\"convertToInteractive('df-bcaba92d-fdf0-498d-b54d-ef315e68c2e7')\"\n",
              "              title=\"Convert this dataframe to an interactive table.\"\n",
              "              style=\"display:none;\">\n",
              "        \n",
              "  <svg xmlns=\"http://www.w3.org/2000/svg\" height=\"24px\"viewBox=\"0 0 24 24\"\n",
              "       width=\"24px\">\n",
              "    <path d=\"M0 0h24v24H0V0z\" fill=\"none\"/>\n",
              "    <path d=\"M18.56 5.44l.94 2.06.94-2.06 2.06-.94-2.06-.94-.94-2.06-.94 2.06-2.06.94zm-11 1L8.5 8.5l.94-2.06 2.06-.94-2.06-.94L8.5 2.5l-.94 2.06-2.06.94zm10 10l.94 2.06.94-2.06 2.06-.94-2.06-.94-.94-2.06-.94 2.06-2.06.94z\"/><path d=\"M17.41 7.96l-1.37-1.37c-.4-.4-.92-.59-1.43-.59-.52 0-1.04.2-1.43.59L10.3 9.45l-7.72 7.72c-.78.78-.78 2.05 0 2.83L4 21.41c.39.39.9.59 1.41.59.51 0 1.02-.2 1.41-.59l7.78-7.78 2.81-2.81c.8-.78.8-2.07 0-2.86zM5.41 20L4 18.59l7.72-7.72 1.47 1.35L5.41 20z\"/>\n",
              "  </svg>\n",
              "      </button>\n",
              "      \n",
              "  <style>\n",
              "    .colab-df-container {\n",
              "      display:flex;\n",
              "      flex-wrap:wrap;\n",
              "      gap: 12px;\n",
              "    }\n",
              "\n",
              "    .colab-df-convert {\n",
              "      background-color: #E8F0FE;\n",
              "      border: none;\n",
              "      border-radius: 50%;\n",
              "      cursor: pointer;\n",
              "      display: none;\n",
              "      fill: #1967D2;\n",
              "      height: 32px;\n",
              "      padding: 0 0 0 0;\n",
              "      width: 32px;\n",
              "    }\n",
              "\n",
              "    .colab-df-convert:hover {\n",
              "      background-color: #E2EBFA;\n",
              "      box-shadow: 0px 1px 2px rgba(60, 64, 67, 0.3), 0px 1px 3px 1px rgba(60, 64, 67, 0.15);\n",
              "      fill: #174EA6;\n",
              "    }\n",
              "\n",
              "    [theme=dark] .colab-df-convert {\n",
              "      background-color: #3B4455;\n",
              "      fill: #D2E3FC;\n",
              "    }\n",
              "\n",
              "    [theme=dark] .colab-df-convert:hover {\n",
              "      background-color: #434B5C;\n",
              "      box-shadow: 0px 1px 3px 1px rgba(0, 0, 0, 0.15);\n",
              "      filter: drop-shadow(0px 1px 2px rgba(0, 0, 0, 0.3));\n",
              "      fill: #FFFFFF;\n",
              "    }\n",
              "  </style>\n",
              "\n",
              "      <script>\n",
              "        const buttonEl =\n",
              "          document.querySelector('#df-bcaba92d-fdf0-498d-b54d-ef315e68c2e7 button.colab-df-convert');\n",
              "        buttonEl.style.display =\n",
              "          google.colab.kernel.accessAllowed ? 'block' : 'none';\n",
              "\n",
              "        async function convertToInteractive(key) {\n",
              "          const element = document.querySelector('#df-bcaba92d-fdf0-498d-b54d-ef315e68c2e7');\n",
              "          const dataTable =\n",
              "            await google.colab.kernel.invokeFunction('convertToInteractive',\n",
              "                                                     [key], {});\n",
              "          if (!dataTable) return;\n",
              "\n",
              "          const docLinkHtml = 'Like what you see? Visit the ' +\n",
              "            '<a target=\"_blank\" href=https://colab.research.google.com/notebooks/data_table.ipynb>data table notebook</a>'\n",
              "            + ' to learn more about interactive tables.';\n",
              "          element.innerHTML = '';\n",
              "          dataTable['output_type'] = 'display_data';\n",
              "          await google.colab.output.renderOutput(dataTable, element);\n",
              "          const docLink = document.createElement('div');\n",
              "          docLink.innerHTML = docLinkHtml;\n",
              "          element.appendChild(docLink);\n",
              "        }\n",
              "      </script>\n",
              "    </div>\n",
              "  </div>\n",
              "  "
            ]
          },
          "metadata": {}
        }
      ]
    },
    {
      "cell_type": "markdown",
      "source": [
        "A data frame with 244 observations on the following 8 variables.\n",
        "\n",
        "`TipPercentage`\n",
        "a numeric vector, the tip written as a percentage (0-100) of the total bill\n",
        "\n",
        "`Bill`\n",
        "a numeric vector, the bill amount (dollars)\n",
        "\n",
        "`Tip`\n",
        "a numeric vector, the tip amount (dollars)\n",
        "\n",
        "`Gender`\n",
        "a factor with levels Female Male, gender of the payer of the bill\n",
        "\n",
        "`Smoker`\n",
        "a factor with levels No Yes, whether the party included smokers\n",
        "\n",
        "`Weekday`\n",
        "a factor with levels Friday Saturday Sunday Thursday, day of the week\n",
        "\n",
        "`Time`\n",
        "a factor with levels Day Night, rough time of day\n",
        "\n",
        "`PartySize`\n",
        "a numeric vector, number of people in party"
      ],
      "metadata": {
        "id": "_xnNf__treSF"
      }
    },
    {
      "cell_type": "code",
      "source": [
        "fig = px.sunburst(\n",
        "  df_tips, \n",
        "  path=['day', 'time', 'sex'], \n",
        "  values='total_bill',\n",
        "  color = 'day' \n",
        ")\n",
        "\n",
        "fig.update_layout(\n",
        "  title_text=\"Circular Sunburst Diagram\", \n",
        "  font_size=10\n",
        ")"
      ],
      "metadata": {
        "colab": {
          "base_uri": "https://localhost:8080/",
          "height": 542
        },
        "id": "41q2FKO9soro",
        "outputId": "8b579c27-9abb-4282-ee15-5b71d7160e93"
      },
      "execution_count": null,
      "outputs": [
        {
          "output_type": "display_data",
          "data": {
            "text/html": [
              "<html>\n",
              "<head><meta charset=\"utf-8\" /></head>\n",
              "<body>\n",
              "    <div>            <script src=\"https://cdnjs.cloudflare.com/ajax/libs/mathjax/2.7.5/MathJax.js?config=TeX-AMS-MML_SVG\"></script><script type=\"text/javascript\">if (window.MathJax) {MathJax.Hub.Config({SVG: {font: \"STIX-Web\"}});}</script>                <script type=\"text/javascript\">window.PlotlyConfig = {MathJaxConfig: 'local'};</script>\n",
              "        <script src=\"https://cdn.plot.ly/plotly-2.8.3.min.js\"></script>                <div id=\"5caf8f06-3c51-49e1-bc7d-5f32528b537a\" class=\"plotly-graph-div\" style=\"height:525px; width:100%;\"></div>            <script type=\"text/javascript\">                                    window.PLOTLYENV=window.PLOTLYENV || {};                                    if (document.getElementById(\"5caf8f06-3c51-49e1-bc7d-5f32528b537a\")) {                    Plotly.newPlot(                        \"5caf8f06-3c51-49e1-bc7d-5f32528b537a\",                        [{\"branchvalues\":\"total\",\"customdata\":[[\"Thur\"],[\"Sun\"],[\"Sat\"],[\"Fri\"],[\"Thur\"],[\"Fri\"],[\"Thur\"],[\"Sun\"],[\"Sat\"],[\"Fri\"],[\"Fri\"],[\"Sun\"],[\"Sat\"],[\"Fri\"],[\"Thur\"],[\"Fri\"],[\"Thur\"],[\"Sun\"],[\"Sat\"],[\"Fri\"],[\"Thur\"]],\"domain\":{\"x\":[0.0,1.0],\"y\":[0.0,1.0]},\"hovertemplate\":\"labels=%{label}<br>total_bill=%{value}<br>parent=%{parent}<br>id=%{id}<br>day=%{customdata[0]}<extra></extra>\",\"ids\":[\"Thur\",\"Sun\",\"Sat\",\"Fri\",\"Thur/Lunch\",\"Fri/Lunch\",\"Thur/Dinner\",\"Sun/Dinner\",\"Sat/Dinner\",\"Fri/Dinner\",\"Fri/Dinner/Female\",\"Sun/Dinner/Male\",\"Sat/Dinner/Male\",\"Fri/Dinner/Male\",\"Thur/Lunch/Female\",\"Fri/Lunch/Female\",\"Thur/Dinner/Female\",\"Sun/Dinner/Female\",\"Sat/Dinner/Female\",\"Fri/Lunch/Male\",\"Thur/Lunch/Male\"],\"labels\":[\"Thur\",\"Sun\",\"Sat\",\"Fri\",\"Lunch\",\"Lunch\",\"Dinner\",\"Dinner\",\"Dinner\",\"Dinner\",\"Female\",\"Male\",\"Male\",\"Male\",\"Female\",\"Female\",\"Female\",\"Female\",\"Female\",\"Male\",\"Male\"],\"marker\":{\"colors\":[\"#636efa\",\"#EF553B\",\"#00cc96\",\"#ab63fa\",\"#636efa\",\"#ab63fa\",\"#636efa\",\"#EF553B\",\"#00cc96\",\"#ab63fa\",\"#ab63fa\",\"#EF553B\",\"#00cc96\",\"#ab63fa\",\"#636efa\",\"#ab63fa\",\"#636efa\",\"#EF553B\",\"#00cc96\",\"#ab63fa\",\"#636efa\"]},\"name\":\"\",\"parents\":[\"\",\"\",\"\",\"\",\"Thur\",\"Fri\",\"Thur\",\"Sun\",\"Sat\",\"Fri\",\"Fri/Dinner\",\"Sun/Dinner\",\"Sat/Dinner\",\"Fri/Dinner\",\"Thur/Lunch\",\"Fri/Lunch\",\"Thur/Dinner\",\"Sun/Dinner\",\"Sat/Dinner\",\"Fri/Lunch\",\"Thur/Lunch\"],\"values\":[1096.33,1627.16,1778.4,325.88,1077.55,89.92,18.78,1627.16,1778.4,235.96,71.55,1269.46,1227.35,164.41,516.11,55.760000000000005,18.78,357.7,551.05,34.16,561.4399999999999],\"type\":\"sunburst\"}],                        {\"template\":{\"data\":{\"bar\":[{\"error_x\":{\"color\":\"#2a3f5f\"},\"error_y\":{\"color\":\"#2a3f5f\"},\"marker\":{\"line\":{\"color\":\"#E5ECF6\",\"width\":0.5},\"pattern\":{\"fillmode\":\"overlay\",\"size\":10,\"solidity\":0.2}},\"type\":\"bar\"}],\"barpolar\":[{\"marker\":{\"line\":{\"color\":\"#E5ECF6\",\"width\":0.5},\"pattern\":{\"fillmode\":\"overlay\",\"size\":10,\"solidity\":0.2}},\"type\":\"barpolar\"}],\"carpet\":[{\"aaxis\":{\"endlinecolor\":\"#2a3f5f\",\"gridcolor\":\"white\",\"linecolor\":\"white\",\"minorgridcolor\":\"white\",\"startlinecolor\":\"#2a3f5f\"},\"baxis\":{\"endlinecolor\":\"#2a3f5f\",\"gridcolor\":\"white\",\"linecolor\":\"white\",\"minorgridcolor\":\"white\",\"startlinecolor\":\"#2a3f5f\"},\"type\":\"carpet\"}],\"choropleth\":[{\"colorbar\":{\"outlinewidth\":0,\"ticks\":\"\"},\"type\":\"choropleth\"}],\"contour\":[{\"colorbar\":{\"outlinewidth\":0,\"ticks\":\"\"},\"colorscale\":[[0.0,\"#0d0887\"],[0.1111111111111111,\"#46039f\"],[0.2222222222222222,\"#7201a8\"],[0.3333333333333333,\"#9c179e\"],[0.4444444444444444,\"#bd3786\"],[0.5555555555555556,\"#d8576b\"],[0.6666666666666666,\"#ed7953\"],[0.7777777777777778,\"#fb9f3a\"],[0.8888888888888888,\"#fdca26\"],[1.0,\"#f0f921\"]],\"type\":\"contour\"}],\"contourcarpet\":[{\"colorbar\":{\"outlinewidth\":0,\"ticks\":\"\"},\"type\":\"contourcarpet\"}],\"heatmap\":[{\"colorbar\":{\"outlinewidth\":0,\"ticks\":\"\"},\"colorscale\":[[0.0,\"#0d0887\"],[0.1111111111111111,\"#46039f\"],[0.2222222222222222,\"#7201a8\"],[0.3333333333333333,\"#9c179e\"],[0.4444444444444444,\"#bd3786\"],[0.5555555555555556,\"#d8576b\"],[0.6666666666666666,\"#ed7953\"],[0.7777777777777778,\"#fb9f3a\"],[0.8888888888888888,\"#fdca26\"],[1.0,\"#f0f921\"]],\"type\":\"heatmap\"}],\"heatmapgl\":[{\"colorbar\":{\"outlinewidth\":0,\"ticks\":\"\"},\"colorscale\":[[0.0,\"#0d0887\"],[0.1111111111111111,\"#46039f\"],[0.2222222222222222,\"#7201a8\"],[0.3333333333333333,\"#9c179e\"],[0.4444444444444444,\"#bd3786\"],[0.5555555555555556,\"#d8576b\"],[0.6666666666666666,\"#ed7953\"],[0.7777777777777778,\"#fb9f3a\"],[0.8888888888888888,\"#fdca26\"],[1.0,\"#f0f921\"]],\"type\":\"heatmapgl\"}],\"histogram\":[{\"marker\":{\"pattern\":{\"fillmode\":\"overlay\",\"size\":10,\"solidity\":0.2}},\"type\":\"histogram\"}],\"histogram2d\":[{\"colorbar\":{\"outlinewidth\":0,\"ticks\":\"\"},\"colorscale\":[[0.0,\"#0d0887\"],[0.1111111111111111,\"#46039f\"],[0.2222222222222222,\"#7201a8\"],[0.3333333333333333,\"#9c179e\"],[0.4444444444444444,\"#bd3786\"],[0.5555555555555556,\"#d8576b\"],[0.6666666666666666,\"#ed7953\"],[0.7777777777777778,\"#fb9f3a\"],[0.8888888888888888,\"#fdca26\"],[1.0,\"#f0f921\"]],\"type\":\"histogram2d\"}],\"histogram2dcontour\":[{\"colorbar\":{\"outlinewidth\":0,\"ticks\":\"\"},\"colorscale\":[[0.0,\"#0d0887\"],[0.1111111111111111,\"#46039f\"],[0.2222222222222222,\"#7201a8\"],[0.3333333333333333,\"#9c179e\"],[0.4444444444444444,\"#bd3786\"],[0.5555555555555556,\"#d8576b\"],[0.6666666666666666,\"#ed7953\"],[0.7777777777777778,\"#fb9f3a\"],[0.8888888888888888,\"#fdca26\"],[1.0,\"#f0f921\"]],\"type\":\"histogram2dcontour\"}],\"mesh3d\":[{\"colorbar\":{\"outlinewidth\":0,\"ticks\":\"\"},\"type\":\"mesh3d\"}],\"parcoords\":[{\"line\":{\"colorbar\":{\"outlinewidth\":0,\"ticks\":\"\"}},\"type\":\"parcoords\"}],\"pie\":[{\"automargin\":true,\"type\":\"pie\"}],\"scatter\":[{\"marker\":{\"colorbar\":{\"outlinewidth\":0,\"ticks\":\"\"}},\"type\":\"scatter\"}],\"scatter3d\":[{\"line\":{\"colorbar\":{\"outlinewidth\":0,\"ticks\":\"\"}},\"marker\":{\"colorbar\":{\"outlinewidth\":0,\"ticks\":\"\"}},\"type\":\"scatter3d\"}],\"scattercarpet\":[{\"marker\":{\"colorbar\":{\"outlinewidth\":0,\"ticks\":\"\"}},\"type\":\"scattercarpet\"}],\"scattergeo\":[{\"marker\":{\"colorbar\":{\"outlinewidth\":0,\"ticks\":\"\"}},\"type\":\"scattergeo\"}],\"scattergl\":[{\"marker\":{\"colorbar\":{\"outlinewidth\":0,\"ticks\":\"\"}},\"type\":\"scattergl\"}],\"scattermapbox\":[{\"marker\":{\"colorbar\":{\"outlinewidth\":0,\"ticks\":\"\"}},\"type\":\"scattermapbox\"}],\"scatterpolar\":[{\"marker\":{\"colorbar\":{\"outlinewidth\":0,\"ticks\":\"\"}},\"type\":\"scatterpolar\"}],\"scatterpolargl\":[{\"marker\":{\"colorbar\":{\"outlinewidth\":0,\"ticks\":\"\"}},\"type\":\"scatterpolargl\"}],\"scatterternary\":[{\"marker\":{\"colorbar\":{\"outlinewidth\":0,\"ticks\":\"\"}},\"type\":\"scatterternary\"}],\"surface\":[{\"colorbar\":{\"outlinewidth\":0,\"ticks\":\"\"},\"colorscale\":[[0.0,\"#0d0887\"],[0.1111111111111111,\"#46039f\"],[0.2222222222222222,\"#7201a8\"],[0.3333333333333333,\"#9c179e\"],[0.4444444444444444,\"#bd3786\"],[0.5555555555555556,\"#d8576b\"],[0.6666666666666666,\"#ed7953\"],[0.7777777777777778,\"#fb9f3a\"],[0.8888888888888888,\"#fdca26\"],[1.0,\"#f0f921\"]],\"type\":\"surface\"}],\"table\":[{\"cells\":{\"fill\":{\"color\":\"#EBF0F8\"},\"line\":{\"color\":\"white\"}},\"header\":{\"fill\":{\"color\":\"#C8D4E3\"},\"line\":{\"color\":\"white\"}},\"type\":\"table\"}]},\"layout\":{\"annotationdefaults\":{\"arrowcolor\":\"#2a3f5f\",\"arrowhead\":0,\"arrowwidth\":1},\"autotypenumbers\":\"strict\",\"coloraxis\":{\"colorbar\":{\"outlinewidth\":0,\"ticks\":\"\"}},\"colorscale\":{\"diverging\":[[0,\"#8e0152\"],[0.1,\"#c51b7d\"],[0.2,\"#de77ae\"],[0.3,\"#f1b6da\"],[0.4,\"#fde0ef\"],[0.5,\"#f7f7f7\"],[0.6,\"#e6f5d0\"],[0.7,\"#b8e186\"],[0.8,\"#7fbc41\"],[0.9,\"#4d9221\"],[1,\"#276419\"]],\"sequential\":[[0.0,\"#0d0887\"],[0.1111111111111111,\"#46039f\"],[0.2222222222222222,\"#7201a8\"],[0.3333333333333333,\"#9c179e\"],[0.4444444444444444,\"#bd3786\"],[0.5555555555555556,\"#d8576b\"],[0.6666666666666666,\"#ed7953\"],[0.7777777777777778,\"#fb9f3a\"],[0.8888888888888888,\"#fdca26\"],[1.0,\"#f0f921\"]],\"sequentialminus\":[[0.0,\"#0d0887\"],[0.1111111111111111,\"#46039f\"],[0.2222222222222222,\"#7201a8\"],[0.3333333333333333,\"#9c179e\"],[0.4444444444444444,\"#bd3786\"],[0.5555555555555556,\"#d8576b\"],[0.6666666666666666,\"#ed7953\"],[0.7777777777777778,\"#fb9f3a\"],[0.8888888888888888,\"#fdca26\"],[1.0,\"#f0f921\"]]},\"colorway\":[\"#636efa\",\"#EF553B\",\"#00cc96\",\"#ab63fa\",\"#FFA15A\",\"#19d3f3\",\"#FF6692\",\"#B6E880\",\"#FF97FF\",\"#FECB52\"],\"font\":{\"color\":\"#2a3f5f\"},\"geo\":{\"bgcolor\":\"white\",\"lakecolor\":\"white\",\"landcolor\":\"#E5ECF6\",\"showlakes\":true,\"showland\":true,\"subunitcolor\":\"white\"},\"hoverlabel\":{\"align\":\"left\"},\"hovermode\":\"closest\",\"mapbox\":{\"style\":\"light\"},\"paper_bgcolor\":\"white\",\"plot_bgcolor\":\"#E5ECF6\",\"polar\":{\"angularaxis\":{\"gridcolor\":\"white\",\"linecolor\":\"white\",\"ticks\":\"\"},\"bgcolor\":\"#E5ECF6\",\"radialaxis\":{\"gridcolor\":\"white\",\"linecolor\":\"white\",\"ticks\":\"\"}},\"scene\":{\"xaxis\":{\"backgroundcolor\":\"#E5ECF6\",\"gridcolor\":\"white\",\"gridwidth\":2,\"linecolor\":\"white\",\"showbackground\":true,\"ticks\":\"\",\"zerolinecolor\":\"white\"},\"yaxis\":{\"backgroundcolor\":\"#E5ECF6\",\"gridcolor\":\"white\",\"gridwidth\":2,\"linecolor\":\"white\",\"showbackground\":true,\"ticks\":\"\",\"zerolinecolor\":\"white\"},\"zaxis\":{\"backgroundcolor\":\"#E5ECF6\",\"gridcolor\":\"white\",\"gridwidth\":2,\"linecolor\":\"white\",\"showbackground\":true,\"ticks\":\"\",\"zerolinecolor\":\"white\"}},\"shapedefaults\":{\"line\":{\"color\":\"#2a3f5f\"}},\"ternary\":{\"aaxis\":{\"gridcolor\":\"white\",\"linecolor\":\"white\",\"ticks\":\"\"},\"baxis\":{\"gridcolor\":\"white\",\"linecolor\":\"white\",\"ticks\":\"\"},\"bgcolor\":\"#E5ECF6\",\"caxis\":{\"gridcolor\":\"white\",\"linecolor\":\"white\",\"ticks\":\"\"}},\"title\":{\"x\":0.05},\"xaxis\":{\"automargin\":true,\"gridcolor\":\"white\",\"linecolor\":\"white\",\"ticks\":\"\",\"title\":{\"standoff\":15},\"zerolinecolor\":\"white\",\"zerolinewidth\":2},\"yaxis\":{\"automargin\":true,\"gridcolor\":\"white\",\"linecolor\":\"white\",\"ticks\":\"\",\"title\":{\"standoff\":15},\"zerolinecolor\":\"white\",\"zerolinewidth\":2}}},\"legend\":{\"tracegroupgap\":0},\"margin\":{\"t\":60},\"title\":{\"text\":\"Circular Sunburst Diagram\"},\"font\":{\"size\":10}},                        {\"responsive\": true}                    ).then(function(){\n",
              "                            \n",
              "var gd = document.getElementById('5caf8f06-3c51-49e1-bc7d-5f32528b537a');\n",
              "var x = new MutationObserver(function (mutations, observer) {{\n",
              "        var display = window.getComputedStyle(gd).display;\n",
              "        if (!display || display === 'none') {{\n",
              "            console.log([gd, 'removed!']);\n",
              "            Plotly.purge(gd);\n",
              "            observer.disconnect();\n",
              "        }}\n",
              "}});\n",
              "\n",
              "// Listen for the removal of the full notebook cells\n",
              "var notebookContainer = gd.closest('#notebook-container');\n",
              "if (notebookContainer) {{\n",
              "    x.observe(notebookContainer, {childList: true});\n",
              "}}\n",
              "\n",
              "// Listen for the clearing of the current output cell\n",
              "var outputEl = gd.closest('.output');\n",
              "if (outputEl) {{\n",
              "    x.observe(outputEl, {childList: true});\n",
              "}}\n",
              "\n",
              "                        })                };                            </script>        </div>\n",
              "</body>\n",
              "</html>"
            ]
          },
          "metadata": {}
        }
      ]
    },
    {
      "cell_type": "markdown",
      "source": [
        "# Treemaps"
      ],
      "metadata": {
        "id": "U8XkyVvjvnpY"
      }
    },
    {
      "cell_type": "markdown",
      "source": [
        "## Regular Treemaps\n",
        "[ref](https://plotly.com/python/treemaps/)"
      ],
      "metadata": {
        "id": "_V5JSMPRxKEP"
      }
    },
    {
      "cell_type": "code",
      "source": [
        "fig = px.treemap(\n",
        "  df,   \n",
        "  parents = 'Parent',\n",
        "  names = 'Item and Group',\n",
        "  values='Weight'\n",
        "  #color='Indent Level'\n",
        ")\n",
        "\n",
        "fig.update_layout(\n",
        "  title_text=\"Treemap Diagram\", \n",
        "  font_size=12\n",
        ")\n",
        "\n",
        "fig.show()"
      ],
      "metadata": {
        "colab": {
          "base_uri": "https://localhost:8080/",
          "height": 542
        },
        "id": "uZ-I6XHXwEYQ",
        "outputId": "6b932c90-b5c0-4806-e9bf-2ed15a9d538a"
      },
      "execution_count": null,
      "outputs": [
        {
          "output_type": "display_data",
          "data": {
            "text/html": [
              "<html>\n",
              "<head><meta charset=\"utf-8\" /></head>\n",
              "<body>\n",
              "    <div>            <script src=\"https://cdnjs.cloudflare.com/ajax/libs/mathjax/2.7.5/MathJax.js?config=TeX-AMS-MML_SVG\"></script><script type=\"text/javascript\">if (window.MathJax) {MathJax.Hub.Config({SVG: {font: \"STIX-Web\"}});}</script>                <script type=\"text/javascript\">window.PlotlyConfig = {MathJaxConfig: 'local'};</script>\n",
              "        <script src=\"https://cdn.plot.ly/plotly-2.8.3.min.js\"></script>                <div id=\"db1ad534-dbf4-4257-81be-85daa9b071cb\" class=\"plotly-graph-div\" style=\"height:525px; width:100%;\"></div>            <script type=\"text/javascript\">                                    window.PLOTLYENV=window.PLOTLYENV || {};                                    if (document.getElementById(\"db1ad534-dbf4-4257-81be-85daa9b071cb\")) {                    Plotly.newPlot(                        \"db1ad534-dbf4-4257-81be-85daa9b071cb\",                        [{\"domain\":{\"x\":[0.0,1.0],\"y\":[0.0,1.0]},\"hovertemplate\":\"Item and Group=%{label}<br>Weight=%{value}<br>Parent=%{parent}<extra></extra>\",\"labels\":[\"All items\",\"Food and beverages\",\"Food\",\"Food at home\",\"Cereals and bakery products\",\"Cereals and cereal products\",\"Flour and prepared flour mixes\",\"Breakfast cereal\",\"Rice, pasta, cornmeal\",\"Bakery products\",\"Bread\",\"Fresh biscuits, rolls, muffins\",\"Cakes, cupcakes, and cookies\",\"Other bakery products\",\"Meats, poultry, fish, and eggs\",\"Meats, poultry, and fish\",\"Meats\",\"Beef and veal\",\"Uncooked ground beef\",\"Uncooked beef roasts\",\"Uncooked beef steaks\",\"Uncooked other beef and veal\",\"Pork\",\"Bacon, breakfast sausage, and related products\",\"Ham\",\"Pork chops\",\"Other pork including roasts, steaks, and ribs\",\"Other meats\",\"Poultry\",\"Chicken\",\"Other uncooked poultry including turkey\",\"Fish and seafood\",\"Fresh fish and seafood\",\"Processed fish and seafood\",\"Eggs\",\"Dairy and related products\",\"Milk\",\"Cheese and related products\",\"Ice cream and related products\",\"Other dairy and related products\",\"Fruits and vegetables\",\"Fresh fruits and vegetables\",\"Fresh fruits\",\"Apples\",\"Bananas\",\"Citrus fruits\",\"Other fresh fruits\",\"Fresh vegetables\",\"Potatoes\",\"Lettuce\",\"Tomatoes\",\"Other fresh vegetables\",\"Processed fruits and vegetables\",\"Canned fruits and vegetables\",\"Frozen fruits and vegetables\",\"Other processed fruits and vegetables including dried\",\"Nonalcoholic beverages and beverage materials\",\"Juices and nonalcoholic drinks\",\"Carbonated drinks\",\"Frozen noncarbonated juices and drinks\",\"Nonfrozen noncarbonated juices and drinks\",\"Beverage materials including coffee and tea\",\"Coffee\",\"Other beverage materials including tea\",\"Other food at home\",\"Sugar and sweets\",\"Sugar and sugar substitutes\",\"Candy and chewing gum\",\"Other sweets\",\"Fats and oils\",\"Butter and margarine\",\"Salad dressing\",\"Other fats and oils including peanut butter\",\"Other foods\",\"Soups\",\"Frozen and freeze dried prepared foods\",\"Snacks\",\"Spices, seasonings, condiments, sauces\",\"Baby food\",\"Other miscellaneous foods\",\"Food away from home\",\"Full service meals and snacks\",\"Limited service meals and snacks\",\"Food at employee sites and schools\",\"Food from vending machines and mobile vendors\",\"Other food away from home\",\"Beverages\",\"Alcoholic beverages\",\"Alcoholic beverages at home\",\"Beer, ale, and other malt beverages at home\",\"Distilled spirits at home\",\"Wine at home\",\"Alcoholic beverages away from home\",\"Housing\",\"Shelter\",\"Rent of primary residence\",\"Lodging away from home\",\"Housing at school, excluding board\",\"Other lodging away from home including hotels and motels\",\"Owners' equivalent rent of residences\",\"Owners' equivalent rent of primary residence\",\"Unsampled owners' equivalent rent of secondary residences\",\"Tenants' and household insurance\",\"Fuels and utilities\",\"Household energy\",\"Fuel oil and other fuels\",\"Fuel oil\",\"Propane, kerosene, and firewood\",\"Energy services\",\"Electricity\",\"Utility (piped) gas service\",\"Water and sewer and trash collection services\",\"Water and sewerage maintenance\",\"Garbage and trash collection\",\"Household furnishings and operations\",\"Window and floor coverings and other linens\",\"Floor coverings\",\"Window coverings\",\"Other linens\",\"Furniture and bedding\",\"Bedroom furniture\",\"Living room, kitchen, and dining room furniture\",\"Other furniture\",\"Unsampled furniture\",\"Appliances\",\"Major appliances\",\"Other appliances\",\"Unsampled appliances\",\"Other household equipment and furnishings\",\"Clocks, lamps, and decorator items\",\"Indoor plants and flowers\",\"Dishes and flatware\",\"Nonelectric cookware and tableware\",\"Tools, hardware, outdoor equipment and supplies\",\"Tools, hardware and supplies\",\"Outdoor equipment and supplies\",\"Unsampled tools, hardware, outdoor equipment and supplies\",\"Housekeeping supplies\",\"Household cleaning products\",\"Household paper products\",\"Miscellaneous household products\",\"Household operations\",\"Domestic services\",\"Gardening and lawncare services\",\"Moving, storage, freight expense\",\"Repair of household items\",\"Unsampled household operations\",\"Apparel\",\"Men's and boys' apparel\",\"Men's apparel\",\"Men's suits, sport coats, and outerwear\",\"Men''s underwear, nightwear, swimwear, and accessories\",\"Men's shirts and sweaters\",\"Men's pants and shorts\",\"Unsampled men's apparel\",\"Boys' apparel\",\"Women's and girls' apparel\",\"Women's apparel\",\"Women's outerwear\",\"Women's dresses\",\"Women's suits and separates\",\"Women's underwear, nightwear, sportswear, and accessories\",\"Unsampled women's apparel\",\"Girls' apparel\",\"Footwear\",\"Men's footwear\",\"Boys' and girls' footwear\",\"Women's footwear\",\"Infants' and toddlers' apparel\",\"Jewelry and watches\",\"Watches\",\"Jewelry\",\"Transportation\",\"Private transportation\",\"New and used motor vehicles\",\"New vehicles\",\"Used cars and trucks\",\"Leased cars and trucks\",\"Car and truck rental\",\"Unsampled new and used motor vehicles\",\"Motor fuel\",\"Gasoline (all types)\",\"Other motor fuels\",\"Motor vehicle parts and equipment\",\"Tires\",\"Vehicle accessories other than tires\",\"Motor vehicle maintenance and repair\",\"Motor vehicle body work\",\"Motor vehicle maintenance and servicing\",\"Motor vehicle repair\",\"Unsampled service policies\",\"Motor vehicle insurance\",\"Motor vehicle fees\",\"State motor vehicle registration and license fees\",\"Parking and other fees\",\"Unsampled motor vehicle fees\",\"Public transportation\",\"Airline fares\",\"Other intercity transportation\",\"Intracity transportation\",\"Unsampled public transportation\",\"Medical care\",\"Medical care commodities\",\"Medicinal drugs\",\"Prescription drugs\",\"Nonprescription drugs\",\"Medical equipment and supplies\",\"Medical care services\",\"Professional services\",\"Physicians' services\",\"Dental services\",\"Eyeglasses and eye care\",\"Services by other medical professionals\",\"Hospital and related services\",\"Hospital services\",\"Nursing homes and adult day services\",\"Care of invalids and elderly at home\",\"Health insurance\",\"Recreation\",\"Video and audio\",\"Televisions\",\"Cable and satellite television service\",\"Other video equipment\",\"Video discs and other media, including rental of video\",\"Audio equipment\",\"Recorded music and music subscriptions\",\"Unsampled video and audio\",\"Pets, pet products and services\",\"Pets and pet products\",\"Pet services including veterinary\",\"Sporting goods\",\"Sports vehicles including bicycles\",\"Sports equipment\",\"Unsampled sporting goods\",\"Photography\",\"Photographic equipment and supplies\",\"Photographers and photo processing\",\"Unsampled photography\",\"Other recreational goods\",\"Toys\",\"Sewing machines, fabric and supplies\",\"Music instruments and accessories\",\"Unsampled recreation commodities\",\"Other recreation services\",\"Club membership for shopping clubs, fraternal, or other organizations, or participant sports fees\",\"Admissions\",\"Fees for lessons or instructions\",\"Unsampled recreation services\",\"Recreational reading materials\",\"Newspapers and magazines\",\"Recreational books\",\"Unsampled recreational reading materials\",\"Education and communication\",\"Education\",\"Educational books and supplies\",\"Tuition, other school fees, and childcare\",\"College tuition and fees\",\"Elementary and high school tuition and fees\",\"Child care and nursery school\",\"Technical and business school tuition and fees\",\"Unsampled tuition, other school fees, and childcare\",\"Communication\",\"Postage and delivery services\",\"Postage\",\"Delivery services\",\"Information and information processing\",\"Telephone services\",\"Wireless telephone services\",\"Land-line telephone services\",\"Information technology, hardware and services\",\"Computers, peripherals, and smart home assistant devices\",\"Computer software and accessories\",\"Internet services and electronic information providers\",\"Telephone hardware, calculators, and other consumer information items\",\"Unsampled information and information processing\",\"Other goods and services\",\"Tobacco and smoking products\",\"Cigarettes\",\"Tobacco products other than cigarettes\",\"Unsampled tobacco and smoking products\",\"Personal care\",\"Personal care products\",\"Hair, dental, shaving, and miscellaneous personal care products\",\"Cosmetics, perfume, bath, nail preparations and implements\",\"Unsampled personal care products\",\"Personal care services\",\"Haircuts and other personal care services\",\"Miscellaneous personal services\",\"Legal services\",\"Funeral expenses\",\"Laundry and dry cleaning services\",\"Apparel services other than laundry and dry cleaning\",\"Financial services\",\"Unsampled items\"],\"name\":\"\",\"parents\":[\"\",\"All items\",\"Food and beverages\",\"Food\",\"Food at home\",\"Cereals and bakery products\",\"Cereals and cereal products\",\"Cereals and cereal products\",\"Cereals and cereal products\",\"Cereals and bakery products\",\"Bakery products\",\"Bakery products\",\"Bakery products\",\"Bakery products\",\"Food at home\",\"Meats, poultry, fish, and eggs\",\"Meats, poultry, and fish\",\"Meats\",\"Beef and veal\",\"Beef and veal\",\"Beef and veal\",\"Beef and veal\",\"Meats\",\"Pork\",\"Pork\",\"Pork\",\"Pork\",\"Meats\",\"Meats, poultry, and fish\",\"Poultry\",\"Poultry\",\"Meats, poultry, and fish\",\"Fish and seafood\",\"Fish and seafood\",\"Meats, poultry, fish, and eggs\",\"Food at home\",\"Dairy and related products\",\"Dairy and related products\",\"Dairy and related products\",\"Dairy and related products\",\"Food at home\",\"Fruits and vegetables\",\"Fresh fruits and vegetables\",\"Fresh fruits\",\"Fresh fruits\",\"Fresh fruits\",\"Fresh fruits\",\"Fresh fruits and vegetables\",\"Fresh vegetables\",\"Fresh vegetables\",\"Fresh vegetables\",\"Fresh vegetables\",\"Fruits and vegetables\",\"Processed fruits and vegetables\",\"Processed fruits and vegetables\",\"Processed fruits and vegetables\",\"Food at home\",\"Nonalcoholic beverages and beverage materials\",\"Juices and nonalcoholic drinks\",\"Juices and nonalcoholic drinks\",\"Juices and nonalcoholic drinks\",\"Nonalcoholic beverages and beverage materials\",\"Beverage materials including coffee and tea\",\"Beverage materials including coffee and tea\",\"Food at home\",\"Other food at home\",\"Sugar and sweets\",\"Sugar and sweets\",\"Sugar and sweets\",\"Other food at home\",\"Fats and oils\",\"Fats and oils\",\"Fats and oils\",\"Other food at home\",\"Other foods\",\"Other foods\",\"Other foods\",\"Other foods\",\"Other foods\",\"Other foods\",\"Food\",\"Food away from home\",\"Food away from home\",\"Food away from home\",\"Food away from home\",\"Food away from home\",\"Food and beverages\",\"Beverages\",\"Alcoholic beverages\",\"Alcoholic beverages at home\",\"Alcoholic beverages at home\",\"Alcoholic beverages at home\",\"Alcoholic beverages\",\"All items\",\"Housing\",\"Shelter\",\"Shelter\",\"Lodging away from home\",\"Lodging away from home\",\"Shelter\",\"Owners' equivalent rent of residences\",\"Owners' equivalent rent of residences\",\"Shelter\",\"Housing\",\"Fuels and utilities\",\"Household energy\",\"Fuel oil and other fuels\",\"Fuel oil and other fuels\",\"Household energy\",\"Energy services\",\"Energy services\",\"Fuels and utilities\",\"Water and sewer and trash collection services\",\"Water and sewer and trash collection services\",\"Housing\",\"Household furnishings and operations\",\"Window and floor coverings and other linens\",\"Window and floor coverings and other linens\",\"Window and floor coverings and other linens\",\"Household furnishings and operations\",\"Furniture and bedding\",\"Furniture and bedding\",\"Furniture and bedding\",\"Furniture and bedding\",\"Household furnishings and operations\",\"Appliances\",\"Appliances\",\"Appliances\",\"Household furnishings and operations\",\"Other household equipment and furnishings\",\"Other household equipment and furnishings\",\"Other household equipment and furnishings\",\"Other household equipment and furnishings\",\"Household furnishings and operations\",\"Tools, hardware, outdoor equipment and supplies\",\"Tools, hardware, outdoor equipment and supplies\",\"Tools, hardware, outdoor equipment and supplies\",\"Household furnishings and operations\",\"Housekeeping supplies\",\"Housekeeping supplies\",\"Housekeeping supplies\",\"Household furnishings and operations\",\"Household operations\",\"Household operations\",\"Household operations\",\"Household operations\",\"Household operations\",\"All items\",\"Apparel\",\"Men's and boys' apparel\",\"Men's apparel\",\"Men's apparel\",\"Men's apparel\",\"Men's apparel\",\"Men's apparel\",\"Men's and boys' apparel\",\"Apparel\",\"Women's and girls' apparel\",\"Women's apparel\",\"Women's apparel\",\"Women's apparel\",\"Women's apparel\",\"Women's apparel\",\"Women's and girls' apparel\",\"Apparel\",\"Footwear\",\"Footwear\",\"Footwear\",\"Apparel\",\"Apparel\",\"Jewelry and watches\",\"Jewelry and watches\",\"All items\",\"Transportation\",\"Private transportation\",\"New and used motor vehicles\",\"New and used motor vehicles\",\"New and used motor vehicles\",\"New and used motor vehicles\",\"New and used motor vehicles\",\"Private transportation\",\"Motor fuel\",\"Motor fuel\",\"Private transportation\",\"Motor vehicle parts and equipment\",\"Motor vehicle parts and equipment\",\"Private transportation\",\"Motor vehicle maintenance and repair\",\"Motor vehicle maintenance and repair\",\"Motor vehicle maintenance and repair\",\"Motor vehicle maintenance and repair\",\"Private transportation\",\"Private transportation\",\"Motor vehicle fees\",\"Motor vehicle fees\",\"Motor vehicle fees\",\"Transportation\",\"Public transportation\",\"Public transportation\",\"Public transportation\",\"Public transportation\",\"All items\",\"Medical care\",\"Medical care commodities\",\"Medicinal drugs\",\"Medicinal drugs\",\"Medical care commodities\",\"Medical care\",\"Medical care services\",\"Professional services\",\"Professional services\",\"Professional services\",\"Professional services\",\"Medical care services\",\"Hospital and related services\",\"Hospital and related services\",\"Hospital and related services\",\"Medical care services\",\"All items\",\"Recreation\",\"Video and audio\",\"Video and audio\",\"Video and audio\",\"Video and audio\",\"Video and audio\",\"Video and audio\",\"Video and audio\",\"Recreation\",\"Pets, pet products and services\",\"Pets, pet products and services\",\"Recreation\",\"Sporting goods\",\"Sporting goods\",\"Sporting goods\",\"Recreation\",\"Photography\",\"Photography\",\"Photography\",\"Recreation\",\"Other recreational goods\",\"Other recreational goods\",\"Other recreational goods\",\"Other recreational goods\",\"Recreation\",\"Other recreation services\",\"Other recreation services\",\"Other recreation services\",\"Other recreation services\",\"Recreation\",\"Recreational reading materials\",\"Recreational reading materials\",\"Recreational reading materials\",\"All items\",\"Education and communication\",\"Education\",\"Education\",\"Tuition, other school fees, and childcare\",\"Tuition, other school fees, and childcare\",\"Tuition, other school fees, and childcare\",\"Tuition, other school fees, and childcare\",\"Tuition, other school fees, and childcare\",\"Education and communication\",\"Communication\",\"Postage and delivery services\",\"Postage and delivery services\",\"Communication\",\"Information and information processing\",\"Telephone services\",\"Telephone services\",\"Information and information processing\",\"Information technology, hardware and services\",\"Information technology, hardware and services\",\"Information technology, hardware and services\",\"Information technology, hardware and services\",\"Information technology, hardware and services\",\"All items\",\"Other goods and services\",\"Tobacco and smoking products\",\"Tobacco and smoking products\",\"Tobacco and smoking products\",\"Other goods and services\",\"Personal care\",\"Personal care products\",\"Personal care products\",\"Personal care products\",\"Personal care\",\"Personal care services\",\"Personal care\",\"Miscellaneous personal services\",\"Miscellaneous personal services\",\"Miscellaneous personal services\",\"Miscellaneous personal services\",\"Miscellaneous personal services\",\"Miscellaneous personal services\"],\"values\":[100.0,15.157,14.119,7.772,1.001,0.308,0.041,0.142,0.124,0.693,0.2,0.101,0.178,0.214,1.736,1.637,1.026,0.471,0.173,0.073,0.18,0.044,0.322,0.134,0.062,0.052,0.075,0.233,0.333,0.273,0.06,0.278,0.14,0.138,0.099,0.792,0.218,0.266,0.111,0.197,1.341,1.053,0.538,0.073,0.074,0.136,0.254,0.516,0.075,0.068,0.082,0.29,0.288,0.15,0.086,0.052,0.93,0.666,0.278,0.006,0.382,0.264,0.169,0.095,1.972,0.27,0.037,0.18,0.053,0.212,0.063,0.051,0.098,1.489,0.089,0.259,0.34,0.29,0.042,0.469,6.347,3.176,2.787,0.13,0.08,0.174,1.038,1.038,0.58,0.223,0.094,0.263,0.458,42.385,33.316,7.862,0.825,0.118,0.707,24.263,23.044,1.218,0.366,4.387,3.28,0.145,0.084,0.061,3.135,2.425,0.71,1.107,0.81,0.297,4.682,0.271,0.062,0.058,0.151,0.944,0.329,0.454,0.152,0.009,0.22,0.078,0.14,0.003,0.535,0.313,0.093,0.052,0.077,0.892,0.243,0.459,0.19,0.922,0.367,0.235,0.32,0.899,0.302,0.31,0.091,0.116,0.08,2.663,0.666,0.532,0.088,0.158,0.15,0.13,0.005,0.134,1.075,0.875,0.062,0.092,0.446,0.265,0.009,0.2,0.644,0.224,0.136,0.284,0.125,0.153,0.04,0.114,15.16,14.055,7.525,3.756,2.75,0.641,0.134,0.244,2.875,2.811,0.064,0.393,0.249,0.144,1.099,0.059,0.635,0.345,0.06,1.598,0.565,0.297,0.254,0.015,1.105,0.633,0.182,0.287,0.003,8.87,1.58,1.515,1.141,0.374,0.066,7.289,3.662,1.817,1.005,0.365,0.474,2.419,2.221,0.124,0.073,1.209,5.797,1.537,0.091,1.192,0.042,0.076,0.079,0.045,0.012,1.192,0.632,0.56,0.604,0.361,0.232,0.01,0.071,0.026,0.044,0.001,0.356,0.274,0.02,0.046,0.016,1.916,0.689,0.688,0.218,0.321,0.12,0.068,0.05,0.002,6.81,3.033,0.109,2.924,1.569,0.431,0.768,0.037,0.119,3.777,0.111,0.101,0.01,3.666,2.369,1.96,0.41,1.297,0.297,0.018,0.893,0.077,0.012,3.159,0.608,0.529,0.06,0.019,2.551,0.678,0.364,0.306,0.008,0.694,0.694,0.981,0.25,0.14,0.22,0.03,0.229,0.111],\"type\":\"treemap\"}],                        {\"template\":{\"data\":{\"bar\":[{\"error_x\":{\"color\":\"#2a3f5f\"},\"error_y\":{\"color\":\"#2a3f5f\"},\"marker\":{\"line\":{\"color\":\"#E5ECF6\",\"width\":0.5},\"pattern\":{\"fillmode\":\"overlay\",\"size\":10,\"solidity\":0.2}},\"type\":\"bar\"}],\"barpolar\":[{\"marker\":{\"line\":{\"color\":\"#E5ECF6\",\"width\":0.5},\"pattern\":{\"fillmode\":\"overlay\",\"size\":10,\"solidity\":0.2}},\"type\":\"barpolar\"}],\"carpet\":[{\"aaxis\":{\"endlinecolor\":\"#2a3f5f\",\"gridcolor\":\"white\",\"linecolor\":\"white\",\"minorgridcolor\":\"white\",\"startlinecolor\":\"#2a3f5f\"},\"baxis\":{\"endlinecolor\":\"#2a3f5f\",\"gridcolor\":\"white\",\"linecolor\":\"white\",\"minorgridcolor\":\"white\",\"startlinecolor\":\"#2a3f5f\"},\"type\":\"carpet\"}],\"choropleth\":[{\"colorbar\":{\"outlinewidth\":0,\"ticks\":\"\"},\"type\":\"choropleth\"}],\"contour\":[{\"colorbar\":{\"outlinewidth\":0,\"ticks\":\"\"},\"colorscale\":[[0.0,\"#0d0887\"],[0.1111111111111111,\"#46039f\"],[0.2222222222222222,\"#7201a8\"],[0.3333333333333333,\"#9c179e\"],[0.4444444444444444,\"#bd3786\"],[0.5555555555555556,\"#d8576b\"],[0.6666666666666666,\"#ed7953\"],[0.7777777777777778,\"#fb9f3a\"],[0.8888888888888888,\"#fdca26\"],[1.0,\"#f0f921\"]],\"type\":\"contour\"}],\"contourcarpet\":[{\"colorbar\":{\"outlinewidth\":0,\"ticks\":\"\"},\"type\":\"contourcarpet\"}],\"heatmap\":[{\"colorbar\":{\"outlinewidth\":0,\"ticks\":\"\"},\"colorscale\":[[0.0,\"#0d0887\"],[0.1111111111111111,\"#46039f\"],[0.2222222222222222,\"#7201a8\"],[0.3333333333333333,\"#9c179e\"],[0.4444444444444444,\"#bd3786\"],[0.5555555555555556,\"#d8576b\"],[0.6666666666666666,\"#ed7953\"],[0.7777777777777778,\"#fb9f3a\"],[0.8888888888888888,\"#fdca26\"],[1.0,\"#f0f921\"]],\"type\":\"heatmap\"}],\"heatmapgl\":[{\"colorbar\":{\"outlinewidth\":0,\"ticks\":\"\"},\"colorscale\":[[0.0,\"#0d0887\"],[0.1111111111111111,\"#46039f\"],[0.2222222222222222,\"#7201a8\"],[0.3333333333333333,\"#9c179e\"],[0.4444444444444444,\"#bd3786\"],[0.5555555555555556,\"#d8576b\"],[0.6666666666666666,\"#ed7953\"],[0.7777777777777778,\"#fb9f3a\"],[0.8888888888888888,\"#fdca26\"],[1.0,\"#f0f921\"]],\"type\":\"heatmapgl\"}],\"histogram\":[{\"marker\":{\"pattern\":{\"fillmode\":\"overlay\",\"size\":10,\"solidity\":0.2}},\"type\":\"histogram\"}],\"histogram2d\":[{\"colorbar\":{\"outlinewidth\":0,\"ticks\":\"\"},\"colorscale\":[[0.0,\"#0d0887\"],[0.1111111111111111,\"#46039f\"],[0.2222222222222222,\"#7201a8\"],[0.3333333333333333,\"#9c179e\"],[0.4444444444444444,\"#bd3786\"],[0.5555555555555556,\"#d8576b\"],[0.6666666666666666,\"#ed7953\"],[0.7777777777777778,\"#fb9f3a\"],[0.8888888888888888,\"#fdca26\"],[1.0,\"#f0f921\"]],\"type\":\"histogram2d\"}],\"histogram2dcontour\":[{\"colorbar\":{\"outlinewidth\":0,\"ticks\":\"\"},\"colorscale\":[[0.0,\"#0d0887\"],[0.1111111111111111,\"#46039f\"],[0.2222222222222222,\"#7201a8\"],[0.3333333333333333,\"#9c179e\"],[0.4444444444444444,\"#bd3786\"],[0.5555555555555556,\"#d8576b\"],[0.6666666666666666,\"#ed7953\"],[0.7777777777777778,\"#fb9f3a\"],[0.8888888888888888,\"#fdca26\"],[1.0,\"#f0f921\"]],\"type\":\"histogram2dcontour\"}],\"mesh3d\":[{\"colorbar\":{\"outlinewidth\":0,\"ticks\":\"\"},\"type\":\"mesh3d\"}],\"parcoords\":[{\"line\":{\"colorbar\":{\"outlinewidth\":0,\"ticks\":\"\"}},\"type\":\"parcoords\"}],\"pie\":[{\"automargin\":true,\"type\":\"pie\"}],\"scatter\":[{\"marker\":{\"colorbar\":{\"outlinewidth\":0,\"ticks\":\"\"}},\"type\":\"scatter\"}],\"scatter3d\":[{\"line\":{\"colorbar\":{\"outlinewidth\":0,\"ticks\":\"\"}},\"marker\":{\"colorbar\":{\"outlinewidth\":0,\"ticks\":\"\"}},\"type\":\"scatter3d\"}],\"scattercarpet\":[{\"marker\":{\"colorbar\":{\"outlinewidth\":0,\"ticks\":\"\"}},\"type\":\"scattercarpet\"}],\"scattergeo\":[{\"marker\":{\"colorbar\":{\"outlinewidth\":0,\"ticks\":\"\"}},\"type\":\"scattergeo\"}],\"scattergl\":[{\"marker\":{\"colorbar\":{\"outlinewidth\":0,\"ticks\":\"\"}},\"type\":\"scattergl\"}],\"scattermapbox\":[{\"marker\":{\"colorbar\":{\"outlinewidth\":0,\"ticks\":\"\"}},\"type\":\"scattermapbox\"}],\"scatterpolar\":[{\"marker\":{\"colorbar\":{\"outlinewidth\":0,\"ticks\":\"\"}},\"type\":\"scatterpolar\"}],\"scatterpolargl\":[{\"marker\":{\"colorbar\":{\"outlinewidth\":0,\"ticks\":\"\"}},\"type\":\"scatterpolargl\"}],\"scatterternary\":[{\"marker\":{\"colorbar\":{\"outlinewidth\":0,\"ticks\":\"\"}},\"type\":\"scatterternary\"}],\"surface\":[{\"colorbar\":{\"outlinewidth\":0,\"ticks\":\"\"},\"colorscale\":[[0.0,\"#0d0887\"],[0.1111111111111111,\"#46039f\"],[0.2222222222222222,\"#7201a8\"],[0.3333333333333333,\"#9c179e\"],[0.4444444444444444,\"#bd3786\"],[0.5555555555555556,\"#d8576b\"],[0.6666666666666666,\"#ed7953\"],[0.7777777777777778,\"#fb9f3a\"],[0.8888888888888888,\"#fdca26\"],[1.0,\"#f0f921\"]],\"type\":\"surface\"}],\"table\":[{\"cells\":{\"fill\":{\"color\":\"#EBF0F8\"},\"line\":{\"color\":\"white\"}},\"header\":{\"fill\":{\"color\":\"#C8D4E3\"},\"line\":{\"color\":\"white\"}},\"type\":\"table\"}]},\"layout\":{\"annotationdefaults\":{\"arrowcolor\":\"#2a3f5f\",\"arrowhead\":0,\"arrowwidth\":1},\"autotypenumbers\":\"strict\",\"coloraxis\":{\"colorbar\":{\"outlinewidth\":0,\"ticks\":\"\"}},\"colorscale\":{\"diverging\":[[0,\"#8e0152\"],[0.1,\"#c51b7d\"],[0.2,\"#de77ae\"],[0.3,\"#f1b6da\"],[0.4,\"#fde0ef\"],[0.5,\"#f7f7f7\"],[0.6,\"#e6f5d0\"],[0.7,\"#b8e186\"],[0.8,\"#7fbc41\"],[0.9,\"#4d9221\"],[1,\"#276419\"]],\"sequential\":[[0.0,\"#0d0887\"],[0.1111111111111111,\"#46039f\"],[0.2222222222222222,\"#7201a8\"],[0.3333333333333333,\"#9c179e\"],[0.4444444444444444,\"#bd3786\"],[0.5555555555555556,\"#d8576b\"],[0.6666666666666666,\"#ed7953\"],[0.7777777777777778,\"#fb9f3a\"],[0.8888888888888888,\"#fdca26\"],[1.0,\"#f0f921\"]],\"sequentialminus\":[[0.0,\"#0d0887\"],[0.1111111111111111,\"#46039f\"],[0.2222222222222222,\"#7201a8\"],[0.3333333333333333,\"#9c179e\"],[0.4444444444444444,\"#bd3786\"],[0.5555555555555556,\"#d8576b\"],[0.6666666666666666,\"#ed7953\"],[0.7777777777777778,\"#fb9f3a\"],[0.8888888888888888,\"#fdca26\"],[1.0,\"#f0f921\"]]},\"colorway\":[\"#636efa\",\"#EF553B\",\"#00cc96\",\"#ab63fa\",\"#FFA15A\",\"#19d3f3\",\"#FF6692\",\"#B6E880\",\"#FF97FF\",\"#FECB52\"],\"font\":{\"color\":\"#2a3f5f\"},\"geo\":{\"bgcolor\":\"white\",\"lakecolor\":\"white\",\"landcolor\":\"#E5ECF6\",\"showlakes\":true,\"showland\":true,\"subunitcolor\":\"white\"},\"hoverlabel\":{\"align\":\"left\"},\"hovermode\":\"closest\",\"mapbox\":{\"style\":\"light\"},\"paper_bgcolor\":\"white\",\"plot_bgcolor\":\"#E5ECF6\",\"polar\":{\"angularaxis\":{\"gridcolor\":\"white\",\"linecolor\":\"white\",\"ticks\":\"\"},\"bgcolor\":\"#E5ECF6\",\"radialaxis\":{\"gridcolor\":\"white\",\"linecolor\":\"white\",\"ticks\":\"\"}},\"scene\":{\"xaxis\":{\"backgroundcolor\":\"#E5ECF6\",\"gridcolor\":\"white\",\"gridwidth\":2,\"linecolor\":\"white\",\"showbackground\":true,\"ticks\":\"\",\"zerolinecolor\":\"white\"},\"yaxis\":{\"backgroundcolor\":\"#E5ECF6\",\"gridcolor\":\"white\",\"gridwidth\":2,\"linecolor\":\"white\",\"showbackground\":true,\"ticks\":\"\",\"zerolinecolor\":\"white\"},\"zaxis\":{\"backgroundcolor\":\"#E5ECF6\",\"gridcolor\":\"white\",\"gridwidth\":2,\"linecolor\":\"white\",\"showbackground\":true,\"ticks\":\"\",\"zerolinecolor\":\"white\"}},\"shapedefaults\":{\"line\":{\"color\":\"#2a3f5f\"}},\"ternary\":{\"aaxis\":{\"gridcolor\":\"white\",\"linecolor\":\"white\",\"ticks\":\"\"},\"baxis\":{\"gridcolor\":\"white\",\"linecolor\":\"white\",\"ticks\":\"\"},\"bgcolor\":\"#E5ECF6\",\"caxis\":{\"gridcolor\":\"white\",\"linecolor\":\"white\",\"ticks\":\"\"}},\"title\":{\"x\":0.05},\"xaxis\":{\"automargin\":true,\"gridcolor\":\"white\",\"linecolor\":\"white\",\"ticks\":\"\",\"title\":{\"standoff\":15},\"zerolinecolor\":\"white\",\"zerolinewidth\":2},\"yaxis\":{\"automargin\":true,\"gridcolor\":\"white\",\"linecolor\":\"white\",\"ticks\":\"\",\"title\":{\"standoff\":15},\"zerolinecolor\":\"white\",\"zerolinewidth\":2}}},\"legend\":{\"tracegroupgap\":0},\"margin\":{\"t\":60},\"title\":{\"text\":\"Treemap Diagram\"},\"font\":{\"size\":12}},                        {\"responsive\": true}                    ).then(function(){\n",
              "                            \n",
              "var gd = document.getElementById('db1ad534-dbf4-4257-81be-85daa9b071cb');\n",
              "var x = new MutationObserver(function (mutations, observer) {{\n",
              "        var display = window.getComputedStyle(gd).display;\n",
              "        if (!display || display === 'none') {{\n",
              "            console.log([gd, 'removed!']);\n",
              "            Plotly.purge(gd);\n",
              "            observer.disconnect();\n",
              "        }}\n",
              "}});\n",
              "\n",
              "// Listen for the removal of the full notebook cells\n",
              "var notebookContainer = gd.closest('#notebook-container');\n",
              "if (notebookContainer) {{\n",
              "    x.observe(notebookContainer, {childList: true});\n",
              "}}\n",
              "\n",
              "// Listen for the clearing of the current output cell\n",
              "var outputEl = gd.closest('.output');\n",
              "if (outputEl) {{\n",
              "    x.observe(outputEl, {childList: true});\n",
              "}}\n",
              "\n",
              "                        })                };                            </script>        </div>\n",
              "</body>\n",
              "</html>"
            ]
          },
          "metadata": {}
        }
      ]
    },
    {
      "cell_type": "code",
      "source": [
        "# adding a root color often helps\n",
        "\n",
        "fig = px.treemap(\n",
        "  df,   \n",
        "  parents = 'Parent',\n",
        "  names = 'Item and Group',\n",
        "  values='Weight'\n",
        "  #color='Indent Level'\n",
        ")\n",
        "\n",
        "fig.update_layout(\n",
        "  title_text=\"Treemap Diagram\", \n",
        "  font_size=12,\n",
        "  margin = dict(t=50, l=25, r=25, b=25)\n",
        ")\n",
        "\n",
        "fig.update_traces(\n",
        "  root_color=\"lightgrey\"\n",
        ")\n",
        "\n",
        "fig.show()"
      ],
      "metadata": {
        "colab": {
          "base_uri": "https://localhost:8080/",
          "height": 542
        },
        "id": "_LgqKz-6wrJF",
        "outputId": "5b90b4e9-4708-40b2-dff9-2dcf1c80d056"
      },
      "execution_count": null,
      "outputs": [
        {
          "output_type": "display_data",
          "data": {
            "text/html": [
              "<html>\n",
              "<head><meta charset=\"utf-8\" /></head>\n",
              "<body>\n",
              "    <div>            <script src=\"https://cdnjs.cloudflare.com/ajax/libs/mathjax/2.7.5/MathJax.js?config=TeX-AMS-MML_SVG\"></script><script type=\"text/javascript\">if (window.MathJax) {MathJax.Hub.Config({SVG: {font: \"STIX-Web\"}});}</script>                <script type=\"text/javascript\">window.PlotlyConfig = {MathJaxConfig: 'local'};</script>\n",
              "        <script src=\"https://cdn.plot.ly/plotly-2.8.3.min.js\"></script>                <div id=\"6de7833a-6c76-4112-94a1-bd9a4240703e\" class=\"plotly-graph-div\" style=\"height:525px; width:100%;\"></div>            <script type=\"text/javascript\">                                    window.PLOTLYENV=window.PLOTLYENV || {};                                    if (document.getElementById(\"6de7833a-6c76-4112-94a1-bd9a4240703e\")) {                    Plotly.newPlot(                        \"6de7833a-6c76-4112-94a1-bd9a4240703e\",                        [{\"domain\":{\"x\":[0.0,1.0],\"y\":[0.0,1.0]},\"hovertemplate\":\"Item and Group=%{label}<br>Weight=%{value}<br>Parent=%{parent}<extra></extra>\",\"labels\":[\"All items\",\"Food and beverages\",\"Food\",\"Food at home\",\"Cereals and bakery products\",\"Cereals and cereal products\",\"Flour and prepared flour mixes\",\"Breakfast cereal\",\"Rice, pasta, cornmeal\",\"Bakery products\",\"Bread\",\"Fresh biscuits, rolls, muffins\",\"Cakes, cupcakes, and cookies\",\"Other bakery products\",\"Meats, poultry, fish, and eggs\",\"Meats, poultry, and fish\",\"Meats\",\"Beef and veal\",\"Uncooked ground beef\",\"Uncooked beef roasts\",\"Uncooked beef steaks\",\"Uncooked other beef and veal\",\"Pork\",\"Bacon, breakfast sausage, and related products\",\"Ham\",\"Pork chops\",\"Other pork including roasts, steaks, and ribs\",\"Other meats\",\"Poultry\",\"Chicken\",\"Other uncooked poultry including turkey\",\"Fish and seafood\",\"Fresh fish and seafood\",\"Processed fish and seafood\",\"Eggs\",\"Dairy and related products\",\"Milk\",\"Cheese and related products\",\"Ice cream and related products\",\"Other dairy and related products\",\"Fruits and vegetables\",\"Fresh fruits and vegetables\",\"Fresh fruits\",\"Apples\",\"Bananas\",\"Citrus fruits\",\"Other fresh fruits\",\"Fresh vegetables\",\"Potatoes\",\"Lettuce\",\"Tomatoes\",\"Other fresh vegetables\",\"Processed fruits and vegetables\",\"Canned fruits and vegetables\",\"Frozen fruits and vegetables\",\"Other processed fruits and vegetables including dried\",\"Nonalcoholic beverages and beverage materials\",\"Juices and nonalcoholic drinks\",\"Carbonated drinks\",\"Frozen noncarbonated juices and drinks\",\"Nonfrozen noncarbonated juices and drinks\",\"Beverage materials including coffee and tea\",\"Coffee\",\"Other beverage materials including tea\",\"Other food at home\",\"Sugar and sweets\",\"Sugar and sugar substitutes\",\"Candy and chewing gum\",\"Other sweets\",\"Fats and oils\",\"Butter and margarine\",\"Salad dressing\",\"Other fats and oils including peanut butter\",\"Other foods\",\"Soups\",\"Frozen and freeze dried prepared foods\",\"Snacks\",\"Spices, seasonings, condiments, sauces\",\"Baby food\",\"Other miscellaneous foods\",\"Food away from home\",\"Full service meals and snacks\",\"Limited service meals and snacks\",\"Food at employee sites and schools\",\"Food from vending machines and mobile vendors\",\"Other food away from home\",\"Beverages\",\"Alcoholic beverages\",\"Alcoholic beverages at home\",\"Beer, ale, and other malt beverages at home\",\"Distilled spirits at home\",\"Wine at home\",\"Alcoholic beverages away from home\",\"Housing\",\"Shelter\",\"Rent of primary residence\",\"Lodging away from home\",\"Housing at school, excluding board\",\"Other lodging away from home including hotels and motels\",\"Owners' equivalent rent of residences\",\"Owners' equivalent rent of primary residence\",\"Unsampled owners' equivalent rent of secondary residences\",\"Tenants' and household insurance\",\"Fuels and utilities\",\"Household energy\",\"Fuel oil and other fuels\",\"Fuel oil\",\"Propane, kerosene, and firewood\",\"Energy services\",\"Electricity\",\"Utility (piped) gas service\",\"Water and sewer and trash collection services\",\"Water and sewerage maintenance\",\"Garbage and trash collection\",\"Household furnishings and operations\",\"Window and floor coverings and other linens\",\"Floor coverings\",\"Window coverings\",\"Other linens\",\"Furniture and bedding\",\"Bedroom furniture\",\"Living room, kitchen, and dining room furniture\",\"Other furniture\",\"Unsampled furniture\",\"Appliances\",\"Major appliances\",\"Other appliances\",\"Unsampled appliances\",\"Other household equipment and furnishings\",\"Clocks, lamps, and decorator items\",\"Indoor plants and flowers\",\"Dishes and flatware\",\"Nonelectric cookware and tableware\",\"Tools, hardware, outdoor equipment and supplies\",\"Tools, hardware and supplies\",\"Outdoor equipment and supplies\",\"Unsampled tools, hardware, outdoor equipment and supplies\",\"Housekeeping supplies\",\"Household cleaning products\",\"Household paper products\",\"Miscellaneous household products\",\"Household operations\",\"Domestic services\",\"Gardening and lawncare services\",\"Moving, storage, freight expense\",\"Repair of household items\",\"Unsampled household operations\",\"Apparel\",\"Men's and boys' apparel\",\"Men's apparel\",\"Men's suits, sport coats, and outerwear\",\"Men''s underwear, nightwear, swimwear, and accessories\",\"Men's shirts and sweaters\",\"Men's pants and shorts\",\"Unsampled men's apparel\",\"Boys' apparel\",\"Women's and girls' apparel\",\"Women's apparel\",\"Women's outerwear\",\"Women's dresses\",\"Women's suits and separates\",\"Women's underwear, nightwear, sportswear, and accessories\",\"Unsampled women's apparel\",\"Girls' apparel\",\"Footwear\",\"Men's footwear\",\"Boys' and girls' footwear\",\"Women's footwear\",\"Infants' and toddlers' apparel\",\"Jewelry and watches\",\"Watches\",\"Jewelry\",\"Transportation\",\"Private transportation\",\"New and used motor vehicles\",\"New vehicles\",\"Used cars and trucks\",\"Leased cars and trucks\",\"Car and truck rental\",\"Unsampled new and used motor vehicles\",\"Motor fuel\",\"Gasoline (all types)\",\"Other motor fuels\",\"Motor vehicle parts and equipment\",\"Tires\",\"Vehicle accessories other than tires\",\"Motor vehicle maintenance and repair\",\"Motor vehicle body work\",\"Motor vehicle maintenance and servicing\",\"Motor vehicle repair\",\"Unsampled service policies\",\"Motor vehicle insurance\",\"Motor vehicle fees\",\"State motor vehicle registration and license fees\",\"Parking and other fees\",\"Unsampled motor vehicle fees\",\"Public transportation\",\"Airline fares\",\"Other intercity transportation\",\"Intracity transportation\",\"Unsampled public transportation\",\"Medical care\",\"Medical care commodities\",\"Medicinal drugs\",\"Prescription drugs\",\"Nonprescription drugs\",\"Medical equipment and supplies\",\"Medical care services\",\"Professional services\",\"Physicians' services\",\"Dental services\",\"Eyeglasses and eye care\",\"Services by other medical professionals\",\"Hospital and related services\",\"Hospital services\",\"Nursing homes and adult day services\",\"Care of invalids and elderly at home\",\"Health insurance\",\"Recreation\",\"Video and audio\",\"Televisions\",\"Cable and satellite television service\",\"Other video equipment\",\"Video discs and other media, including rental of video\",\"Audio equipment\",\"Recorded music and music subscriptions\",\"Unsampled video and audio\",\"Pets, pet products and services\",\"Pets and pet products\",\"Pet services including veterinary\",\"Sporting goods\",\"Sports vehicles including bicycles\",\"Sports equipment\",\"Unsampled sporting goods\",\"Photography\",\"Photographic equipment and supplies\",\"Photographers and photo processing\",\"Unsampled photography\",\"Other recreational goods\",\"Toys\",\"Sewing machines, fabric and supplies\",\"Music instruments and accessories\",\"Unsampled recreation commodities\",\"Other recreation services\",\"Club membership for shopping clubs, fraternal, or other organizations, or participant sports fees\",\"Admissions\",\"Fees for lessons or instructions\",\"Unsampled recreation services\",\"Recreational reading materials\",\"Newspapers and magazines\",\"Recreational books\",\"Unsampled recreational reading materials\",\"Education and communication\",\"Education\",\"Educational books and supplies\",\"Tuition, other school fees, and childcare\",\"College tuition and fees\",\"Elementary and high school tuition and fees\",\"Child care and nursery school\",\"Technical and business school tuition and fees\",\"Unsampled tuition, other school fees, and childcare\",\"Communication\",\"Postage and delivery services\",\"Postage\",\"Delivery services\",\"Information and information processing\",\"Telephone services\",\"Wireless telephone services\",\"Land-line telephone services\",\"Information technology, hardware and services\",\"Computers, peripherals, and smart home assistant devices\",\"Computer software and accessories\",\"Internet services and electronic information providers\",\"Telephone hardware, calculators, and other consumer information items\",\"Unsampled information and information processing\",\"Other goods and services\",\"Tobacco and smoking products\",\"Cigarettes\",\"Tobacco products other than cigarettes\",\"Unsampled tobacco and smoking products\",\"Personal care\",\"Personal care products\",\"Hair, dental, shaving, and miscellaneous personal care products\",\"Cosmetics, perfume, bath, nail preparations and implements\",\"Unsampled personal care products\",\"Personal care services\",\"Haircuts and other personal care services\",\"Miscellaneous personal services\",\"Legal services\",\"Funeral expenses\",\"Laundry and dry cleaning services\",\"Apparel services other than laundry and dry cleaning\",\"Financial services\",\"Unsampled items\"],\"name\":\"\",\"parents\":[\"\",\"All items\",\"Food and beverages\",\"Food\",\"Food at home\",\"Cereals and bakery products\",\"Cereals and cereal products\",\"Cereals and cereal products\",\"Cereals and cereal products\",\"Cereals and bakery products\",\"Bakery products\",\"Bakery products\",\"Bakery products\",\"Bakery products\",\"Food at home\",\"Meats, poultry, fish, and eggs\",\"Meats, poultry, and fish\",\"Meats\",\"Beef and veal\",\"Beef and veal\",\"Beef and veal\",\"Beef and veal\",\"Meats\",\"Pork\",\"Pork\",\"Pork\",\"Pork\",\"Meats\",\"Meats, poultry, and fish\",\"Poultry\",\"Poultry\",\"Meats, poultry, and fish\",\"Fish and seafood\",\"Fish and seafood\",\"Meats, poultry, fish, and eggs\",\"Food at home\",\"Dairy and related products\",\"Dairy and related products\",\"Dairy and related products\",\"Dairy and related products\",\"Food at home\",\"Fruits and vegetables\",\"Fresh fruits and vegetables\",\"Fresh fruits\",\"Fresh fruits\",\"Fresh fruits\",\"Fresh fruits\",\"Fresh fruits and vegetables\",\"Fresh vegetables\",\"Fresh vegetables\",\"Fresh vegetables\",\"Fresh vegetables\",\"Fruits and vegetables\",\"Processed fruits and vegetables\",\"Processed fruits and vegetables\",\"Processed fruits and vegetables\",\"Food at home\",\"Nonalcoholic beverages and beverage materials\",\"Juices and nonalcoholic drinks\",\"Juices and nonalcoholic drinks\",\"Juices and nonalcoholic drinks\",\"Nonalcoholic beverages and beverage materials\",\"Beverage materials including coffee and tea\",\"Beverage materials including coffee and tea\",\"Food at home\",\"Other food at home\",\"Sugar and sweets\",\"Sugar and sweets\",\"Sugar and sweets\",\"Other food at home\",\"Fats and oils\",\"Fats and oils\",\"Fats and oils\",\"Other food at home\",\"Other foods\",\"Other foods\",\"Other foods\",\"Other foods\",\"Other foods\",\"Other foods\",\"Food\",\"Food away from home\",\"Food away from home\",\"Food away from home\",\"Food away from home\",\"Food away from home\",\"Food and beverages\",\"Beverages\",\"Alcoholic beverages\",\"Alcoholic beverages at home\",\"Alcoholic beverages at home\",\"Alcoholic beverages at home\",\"Alcoholic beverages\",\"All items\",\"Housing\",\"Shelter\",\"Shelter\",\"Lodging away from home\",\"Lodging away from home\",\"Shelter\",\"Owners' equivalent rent of residences\",\"Owners' equivalent rent of residences\",\"Shelter\",\"Housing\",\"Fuels and utilities\",\"Household energy\",\"Fuel oil and other fuels\",\"Fuel oil and other fuels\",\"Household energy\",\"Energy services\",\"Energy services\",\"Fuels and utilities\",\"Water and sewer and trash collection services\",\"Water and sewer and trash collection services\",\"Housing\",\"Household furnishings and operations\",\"Window and floor coverings and other linens\",\"Window and floor coverings and other linens\",\"Window and floor coverings and other linens\",\"Household furnishings and operations\",\"Furniture and bedding\",\"Furniture and bedding\",\"Furniture and bedding\",\"Furniture and bedding\",\"Household furnishings and operations\",\"Appliances\",\"Appliances\",\"Appliances\",\"Household furnishings and operations\",\"Other household equipment and furnishings\",\"Other household equipment and furnishings\",\"Other household equipment and furnishings\",\"Other household equipment and furnishings\",\"Household furnishings and operations\",\"Tools, hardware, outdoor equipment and supplies\",\"Tools, hardware, outdoor equipment and supplies\",\"Tools, hardware, outdoor equipment and supplies\",\"Household furnishings and operations\",\"Housekeeping supplies\",\"Housekeeping supplies\",\"Housekeeping supplies\",\"Household furnishings and operations\",\"Household operations\",\"Household operations\",\"Household operations\",\"Household operations\",\"Household operations\",\"All items\",\"Apparel\",\"Men's and boys' apparel\",\"Men's apparel\",\"Men's apparel\",\"Men's apparel\",\"Men's apparel\",\"Men's apparel\",\"Men's and boys' apparel\",\"Apparel\",\"Women's and girls' apparel\",\"Women's apparel\",\"Women's apparel\",\"Women's apparel\",\"Women's apparel\",\"Women's apparel\",\"Women's and girls' apparel\",\"Apparel\",\"Footwear\",\"Footwear\",\"Footwear\",\"Apparel\",\"Apparel\",\"Jewelry and watches\",\"Jewelry and watches\",\"All items\",\"Transportation\",\"Private transportation\",\"New and used motor vehicles\",\"New and used motor vehicles\",\"New and used motor vehicles\",\"New and used motor vehicles\",\"New and used motor vehicles\",\"Private transportation\",\"Motor fuel\",\"Motor fuel\",\"Private transportation\",\"Motor vehicle parts and equipment\",\"Motor vehicle parts and equipment\",\"Private transportation\",\"Motor vehicle maintenance and repair\",\"Motor vehicle maintenance and repair\",\"Motor vehicle maintenance and repair\",\"Motor vehicle maintenance and repair\",\"Private transportation\",\"Private transportation\",\"Motor vehicle fees\",\"Motor vehicle fees\",\"Motor vehicle fees\",\"Transportation\",\"Public transportation\",\"Public transportation\",\"Public transportation\",\"Public transportation\",\"All items\",\"Medical care\",\"Medical care commodities\",\"Medicinal drugs\",\"Medicinal drugs\",\"Medical care commodities\",\"Medical care\",\"Medical care services\",\"Professional services\",\"Professional services\",\"Professional services\",\"Professional services\",\"Medical care services\",\"Hospital and related services\",\"Hospital and related services\",\"Hospital and related services\",\"Medical care services\",\"All items\",\"Recreation\",\"Video and audio\",\"Video and audio\",\"Video and audio\",\"Video and audio\",\"Video and audio\",\"Video and audio\",\"Video and audio\",\"Recreation\",\"Pets, pet products and services\",\"Pets, pet products and services\",\"Recreation\",\"Sporting goods\",\"Sporting goods\",\"Sporting goods\",\"Recreation\",\"Photography\",\"Photography\",\"Photography\",\"Recreation\",\"Other recreational goods\",\"Other recreational goods\",\"Other recreational goods\",\"Other recreational goods\",\"Recreation\",\"Other recreation services\",\"Other recreation services\",\"Other recreation services\",\"Other recreation services\",\"Recreation\",\"Recreational reading materials\",\"Recreational reading materials\",\"Recreational reading materials\",\"All items\",\"Education and communication\",\"Education\",\"Education\",\"Tuition, other school fees, and childcare\",\"Tuition, other school fees, and childcare\",\"Tuition, other school fees, and childcare\",\"Tuition, other school fees, and childcare\",\"Tuition, other school fees, and childcare\",\"Education and communication\",\"Communication\",\"Postage and delivery services\",\"Postage and delivery services\",\"Communication\",\"Information and information processing\",\"Telephone services\",\"Telephone services\",\"Information and information processing\",\"Information technology, hardware and services\",\"Information technology, hardware and services\",\"Information technology, hardware and services\",\"Information technology, hardware and services\",\"Information technology, hardware and services\",\"All items\",\"Other goods and services\",\"Tobacco and smoking products\",\"Tobacco and smoking products\",\"Tobacco and smoking products\",\"Other goods and services\",\"Personal care\",\"Personal care products\",\"Personal care products\",\"Personal care products\",\"Personal care\",\"Personal care services\",\"Personal care\",\"Miscellaneous personal services\",\"Miscellaneous personal services\",\"Miscellaneous personal services\",\"Miscellaneous personal services\",\"Miscellaneous personal services\",\"Miscellaneous personal services\"],\"values\":[100.0,15.157,14.119,7.772,1.001,0.308,0.041,0.142,0.124,0.693,0.2,0.101,0.178,0.214,1.736,1.637,1.026,0.471,0.173,0.073,0.18,0.044,0.322,0.134,0.062,0.052,0.075,0.233,0.333,0.273,0.06,0.278,0.14,0.138,0.099,0.792,0.218,0.266,0.111,0.197,1.341,1.053,0.538,0.073,0.074,0.136,0.254,0.516,0.075,0.068,0.082,0.29,0.288,0.15,0.086,0.052,0.93,0.666,0.278,0.006,0.382,0.264,0.169,0.095,1.972,0.27,0.037,0.18,0.053,0.212,0.063,0.051,0.098,1.489,0.089,0.259,0.34,0.29,0.042,0.469,6.347,3.176,2.787,0.13,0.08,0.174,1.038,1.038,0.58,0.223,0.094,0.263,0.458,42.385,33.316,7.862,0.825,0.118,0.707,24.263,23.044,1.218,0.366,4.387,3.28,0.145,0.084,0.061,3.135,2.425,0.71,1.107,0.81,0.297,4.682,0.271,0.062,0.058,0.151,0.944,0.329,0.454,0.152,0.009,0.22,0.078,0.14,0.003,0.535,0.313,0.093,0.052,0.077,0.892,0.243,0.459,0.19,0.922,0.367,0.235,0.32,0.899,0.302,0.31,0.091,0.116,0.08,2.663,0.666,0.532,0.088,0.158,0.15,0.13,0.005,0.134,1.075,0.875,0.062,0.092,0.446,0.265,0.009,0.2,0.644,0.224,0.136,0.284,0.125,0.153,0.04,0.114,15.16,14.055,7.525,3.756,2.75,0.641,0.134,0.244,2.875,2.811,0.064,0.393,0.249,0.144,1.099,0.059,0.635,0.345,0.06,1.598,0.565,0.297,0.254,0.015,1.105,0.633,0.182,0.287,0.003,8.87,1.58,1.515,1.141,0.374,0.066,7.289,3.662,1.817,1.005,0.365,0.474,2.419,2.221,0.124,0.073,1.209,5.797,1.537,0.091,1.192,0.042,0.076,0.079,0.045,0.012,1.192,0.632,0.56,0.604,0.361,0.232,0.01,0.071,0.026,0.044,0.001,0.356,0.274,0.02,0.046,0.016,1.916,0.689,0.688,0.218,0.321,0.12,0.068,0.05,0.002,6.81,3.033,0.109,2.924,1.569,0.431,0.768,0.037,0.119,3.777,0.111,0.101,0.01,3.666,2.369,1.96,0.41,1.297,0.297,0.018,0.893,0.077,0.012,3.159,0.608,0.529,0.06,0.019,2.551,0.678,0.364,0.306,0.008,0.694,0.694,0.981,0.25,0.14,0.22,0.03,0.229,0.111],\"type\":\"treemap\",\"root\":{\"color\":\"lightgrey\"}}],                        {\"template\":{\"data\":{\"bar\":[{\"error_x\":{\"color\":\"#2a3f5f\"},\"error_y\":{\"color\":\"#2a3f5f\"},\"marker\":{\"line\":{\"color\":\"#E5ECF6\",\"width\":0.5},\"pattern\":{\"fillmode\":\"overlay\",\"size\":10,\"solidity\":0.2}},\"type\":\"bar\"}],\"barpolar\":[{\"marker\":{\"line\":{\"color\":\"#E5ECF6\",\"width\":0.5},\"pattern\":{\"fillmode\":\"overlay\",\"size\":10,\"solidity\":0.2}},\"type\":\"barpolar\"}],\"carpet\":[{\"aaxis\":{\"endlinecolor\":\"#2a3f5f\",\"gridcolor\":\"white\",\"linecolor\":\"white\",\"minorgridcolor\":\"white\",\"startlinecolor\":\"#2a3f5f\"},\"baxis\":{\"endlinecolor\":\"#2a3f5f\",\"gridcolor\":\"white\",\"linecolor\":\"white\",\"minorgridcolor\":\"white\",\"startlinecolor\":\"#2a3f5f\"},\"type\":\"carpet\"}],\"choropleth\":[{\"colorbar\":{\"outlinewidth\":0,\"ticks\":\"\"},\"type\":\"choropleth\"}],\"contour\":[{\"colorbar\":{\"outlinewidth\":0,\"ticks\":\"\"},\"colorscale\":[[0.0,\"#0d0887\"],[0.1111111111111111,\"#46039f\"],[0.2222222222222222,\"#7201a8\"],[0.3333333333333333,\"#9c179e\"],[0.4444444444444444,\"#bd3786\"],[0.5555555555555556,\"#d8576b\"],[0.6666666666666666,\"#ed7953\"],[0.7777777777777778,\"#fb9f3a\"],[0.8888888888888888,\"#fdca26\"],[1.0,\"#f0f921\"]],\"type\":\"contour\"}],\"contourcarpet\":[{\"colorbar\":{\"outlinewidth\":0,\"ticks\":\"\"},\"type\":\"contourcarpet\"}],\"heatmap\":[{\"colorbar\":{\"outlinewidth\":0,\"ticks\":\"\"},\"colorscale\":[[0.0,\"#0d0887\"],[0.1111111111111111,\"#46039f\"],[0.2222222222222222,\"#7201a8\"],[0.3333333333333333,\"#9c179e\"],[0.4444444444444444,\"#bd3786\"],[0.5555555555555556,\"#d8576b\"],[0.6666666666666666,\"#ed7953\"],[0.7777777777777778,\"#fb9f3a\"],[0.8888888888888888,\"#fdca26\"],[1.0,\"#f0f921\"]],\"type\":\"heatmap\"}],\"heatmapgl\":[{\"colorbar\":{\"outlinewidth\":0,\"ticks\":\"\"},\"colorscale\":[[0.0,\"#0d0887\"],[0.1111111111111111,\"#46039f\"],[0.2222222222222222,\"#7201a8\"],[0.3333333333333333,\"#9c179e\"],[0.4444444444444444,\"#bd3786\"],[0.5555555555555556,\"#d8576b\"],[0.6666666666666666,\"#ed7953\"],[0.7777777777777778,\"#fb9f3a\"],[0.8888888888888888,\"#fdca26\"],[1.0,\"#f0f921\"]],\"type\":\"heatmapgl\"}],\"histogram\":[{\"marker\":{\"pattern\":{\"fillmode\":\"overlay\",\"size\":10,\"solidity\":0.2}},\"type\":\"histogram\"}],\"histogram2d\":[{\"colorbar\":{\"outlinewidth\":0,\"ticks\":\"\"},\"colorscale\":[[0.0,\"#0d0887\"],[0.1111111111111111,\"#46039f\"],[0.2222222222222222,\"#7201a8\"],[0.3333333333333333,\"#9c179e\"],[0.4444444444444444,\"#bd3786\"],[0.5555555555555556,\"#d8576b\"],[0.6666666666666666,\"#ed7953\"],[0.7777777777777778,\"#fb9f3a\"],[0.8888888888888888,\"#fdca26\"],[1.0,\"#f0f921\"]],\"type\":\"histogram2d\"}],\"histogram2dcontour\":[{\"colorbar\":{\"outlinewidth\":0,\"ticks\":\"\"},\"colorscale\":[[0.0,\"#0d0887\"],[0.1111111111111111,\"#46039f\"],[0.2222222222222222,\"#7201a8\"],[0.3333333333333333,\"#9c179e\"],[0.4444444444444444,\"#bd3786\"],[0.5555555555555556,\"#d8576b\"],[0.6666666666666666,\"#ed7953\"],[0.7777777777777778,\"#fb9f3a\"],[0.8888888888888888,\"#fdca26\"],[1.0,\"#f0f921\"]],\"type\":\"histogram2dcontour\"}],\"mesh3d\":[{\"colorbar\":{\"outlinewidth\":0,\"ticks\":\"\"},\"type\":\"mesh3d\"}],\"parcoords\":[{\"line\":{\"colorbar\":{\"outlinewidth\":0,\"ticks\":\"\"}},\"type\":\"parcoords\"}],\"pie\":[{\"automargin\":true,\"type\":\"pie\"}],\"scatter\":[{\"marker\":{\"colorbar\":{\"outlinewidth\":0,\"ticks\":\"\"}},\"type\":\"scatter\"}],\"scatter3d\":[{\"line\":{\"colorbar\":{\"outlinewidth\":0,\"ticks\":\"\"}},\"marker\":{\"colorbar\":{\"outlinewidth\":0,\"ticks\":\"\"}},\"type\":\"scatter3d\"}],\"scattercarpet\":[{\"marker\":{\"colorbar\":{\"outlinewidth\":0,\"ticks\":\"\"}},\"type\":\"scattercarpet\"}],\"scattergeo\":[{\"marker\":{\"colorbar\":{\"outlinewidth\":0,\"ticks\":\"\"}},\"type\":\"scattergeo\"}],\"scattergl\":[{\"marker\":{\"colorbar\":{\"outlinewidth\":0,\"ticks\":\"\"}},\"type\":\"scattergl\"}],\"scattermapbox\":[{\"marker\":{\"colorbar\":{\"outlinewidth\":0,\"ticks\":\"\"}},\"type\":\"scattermapbox\"}],\"scatterpolar\":[{\"marker\":{\"colorbar\":{\"outlinewidth\":0,\"ticks\":\"\"}},\"type\":\"scatterpolar\"}],\"scatterpolargl\":[{\"marker\":{\"colorbar\":{\"outlinewidth\":0,\"ticks\":\"\"}},\"type\":\"scatterpolargl\"}],\"scatterternary\":[{\"marker\":{\"colorbar\":{\"outlinewidth\":0,\"ticks\":\"\"}},\"type\":\"scatterternary\"}],\"surface\":[{\"colorbar\":{\"outlinewidth\":0,\"ticks\":\"\"},\"colorscale\":[[0.0,\"#0d0887\"],[0.1111111111111111,\"#46039f\"],[0.2222222222222222,\"#7201a8\"],[0.3333333333333333,\"#9c179e\"],[0.4444444444444444,\"#bd3786\"],[0.5555555555555556,\"#d8576b\"],[0.6666666666666666,\"#ed7953\"],[0.7777777777777778,\"#fb9f3a\"],[0.8888888888888888,\"#fdca26\"],[1.0,\"#f0f921\"]],\"type\":\"surface\"}],\"table\":[{\"cells\":{\"fill\":{\"color\":\"#EBF0F8\"},\"line\":{\"color\":\"white\"}},\"header\":{\"fill\":{\"color\":\"#C8D4E3\"},\"line\":{\"color\":\"white\"}},\"type\":\"table\"}]},\"layout\":{\"annotationdefaults\":{\"arrowcolor\":\"#2a3f5f\",\"arrowhead\":0,\"arrowwidth\":1},\"autotypenumbers\":\"strict\",\"coloraxis\":{\"colorbar\":{\"outlinewidth\":0,\"ticks\":\"\"}},\"colorscale\":{\"diverging\":[[0,\"#8e0152\"],[0.1,\"#c51b7d\"],[0.2,\"#de77ae\"],[0.3,\"#f1b6da\"],[0.4,\"#fde0ef\"],[0.5,\"#f7f7f7\"],[0.6,\"#e6f5d0\"],[0.7,\"#b8e186\"],[0.8,\"#7fbc41\"],[0.9,\"#4d9221\"],[1,\"#276419\"]],\"sequential\":[[0.0,\"#0d0887\"],[0.1111111111111111,\"#46039f\"],[0.2222222222222222,\"#7201a8\"],[0.3333333333333333,\"#9c179e\"],[0.4444444444444444,\"#bd3786\"],[0.5555555555555556,\"#d8576b\"],[0.6666666666666666,\"#ed7953\"],[0.7777777777777778,\"#fb9f3a\"],[0.8888888888888888,\"#fdca26\"],[1.0,\"#f0f921\"]],\"sequentialminus\":[[0.0,\"#0d0887\"],[0.1111111111111111,\"#46039f\"],[0.2222222222222222,\"#7201a8\"],[0.3333333333333333,\"#9c179e\"],[0.4444444444444444,\"#bd3786\"],[0.5555555555555556,\"#d8576b\"],[0.6666666666666666,\"#ed7953\"],[0.7777777777777778,\"#fb9f3a\"],[0.8888888888888888,\"#fdca26\"],[1.0,\"#f0f921\"]]},\"colorway\":[\"#636efa\",\"#EF553B\",\"#00cc96\",\"#ab63fa\",\"#FFA15A\",\"#19d3f3\",\"#FF6692\",\"#B6E880\",\"#FF97FF\",\"#FECB52\"],\"font\":{\"color\":\"#2a3f5f\"},\"geo\":{\"bgcolor\":\"white\",\"lakecolor\":\"white\",\"landcolor\":\"#E5ECF6\",\"showlakes\":true,\"showland\":true,\"subunitcolor\":\"white\"},\"hoverlabel\":{\"align\":\"left\"},\"hovermode\":\"closest\",\"mapbox\":{\"style\":\"light\"},\"paper_bgcolor\":\"white\",\"plot_bgcolor\":\"#E5ECF6\",\"polar\":{\"angularaxis\":{\"gridcolor\":\"white\",\"linecolor\":\"white\",\"ticks\":\"\"},\"bgcolor\":\"#E5ECF6\",\"radialaxis\":{\"gridcolor\":\"white\",\"linecolor\":\"white\",\"ticks\":\"\"}},\"scene\":{\"xaxis\":{\"backgroundcolor\":\"#E5ECF6\",\"gridcolor\":\"white\",\"gridwidth\":2,\"linecolor\":\"white\",\"showbackground\":true,\"ticks\":\"\",\"zerolinecolor\":\"white\"},\"yaxis\":{\"backgroundcolor\":\"#E5ECF6\",\"gridcolor\":\"white\",\"gridwidth\":2,\"linecolor\":\"white\",\"showbackground\":true,\"ticks\":\"\",\"zerolinecolor\":\"white\"},\"zaxis\":{\"backgroundcolor\":\"#E5ECF6\",\"gridcolor\":\"white\",\"gridwidth\":2,\"linecolor\":\"white\",\"showbackground\":true,\"ticks\":\"\",\"zerolinecolor\":\"white\"}},\"shapedefaults\":{\"line\":{\"color\":\"#2a3f5f\"}},\"ternary\":{\"aaxis\":{\"gridcolor\":\"white\",\"linecolor\":\"white\",\"ticks\":\"\"},\"baxis\":{\"gridcolor\":\"white\",\"linecolor\":\"white\",\"ticks\":\"\"},\"bgcolor\":\"#E5ECF6\",\"caxis\":{\"gridcolor\":\"white\",\"linecolor\":\"white\",\"ticks\":\"\"}},\"title\":{\"x\":0.05},\"xaxis\":{\"automargin\":true,\"gridcolor\":\"white\",\"linecolor\":\"white\",\"ticks\":\"\",\"title\":{\"standoff\":15},\"zerolinecolor\":\"white\",\"zerolinewidth\":2},\"yaxis\":{\"automargin\":true,\"gridcolor\":\"white\",\"linecolor\":\"white\",\"ticks\":\"\",\"title\":{\"standoff\":15},\"zerolinecolor\":\"white\",\"zerolinewidth\":2}}},\"legend\":{\"tracegroupgap\":0},\"margin\":{\"t\":50,\"l\":25,\"r\":25,\"b\":25},\"title\":{\"text\":\"Treemap Diagram\"},\"font\":{\"size\":12}},                        {\"responsive\": true}                    ).then(function(){\n",
              "                            \n",
              "var gd = document.getElementById('6de7833a-6c76-4112-94a1-bd9a4240703e');\n",
              "var x = new MutationObserver(function (mutations, observer) {{\n",
              "        var display = window.getComputedStyle(gd).display;\n",
              "        if (!display || display === 'none') {{\n",
              "            console.log([gd, 'removed!']);\n",
              "            Plotly.purge(gd);\n",
              "            observer.disconnect();\n",
              "        }}\n",
              "}});\n",
              "\n",
              "// Listen for the removal of the full notebook cells\n",
              "var notebookContainer = gd.closest('#notebook-container');\n",
              "if (notebookContainer) {{\n",
              "    x.observe(notebookContainer, {childList: true});\n",
              "}}\n",
              "\n",
              "// Listen for the clearing of the current output cell\n",
              "var outputEl = gd.closest('.output');\n",
              "if (outputEl) {{\n",
              "    x.observe(outputEl, {childList: true});\n",
              "}}\n",
              "\n",
              "                        })                };                            </script>        </div>\n",
              "</body>\n",
              "</html>"
            ]
          },
          "metadata": {}
        }
      ]
    },
    {
      "cell_type": "markdown",
      "source": [
        "## Treemaps for rectangular dataframe"
      ],
      "metadata": {
        "id": "D4jhSSYFxN8i"
      }
    },
    {
      "cell_type": "code",
      "source": [
        "fig = px.treemap(\n",
        "  df_tips, \n",
        "  path=[px.Constant('all'), 'day', 'time', 'sex'], # adding a dummy constant as the root\n",
        "  values='total_bill'  \n",
        ")\n",
        "\n",
        "fig.update_layout(\n",
        "  title_text=\"Treemap Diagram\", \n",
        "  font_size=12,\n",
        "  margin = dict(t=50, l=25, r=25, b=25)\n",
        ")\n",
        "\n",
        "fig.update_traces(\n",
        "  root_color=\"lightgrey\"\n",
        ")\n",
        "\n",
        "fig.show()"
      ],
      "metadata": {
        "colab": {
          "base_uri": "https://localhost:8080/",
          "height": 542
        },
        "id": "1w-lwY-7xUIo",
        "outputId": "f0eb5c72-054d-4ed7-82e2-704c2960ab98"
      },
      "execution_count": null,
      "outputs": [
        {
          "output_type": "display_data",
          "data": {
            "text/html": [
              "<html>\n",
              "<head><meta charset=\"utf-8\" /></head>\n",
              "<body>\n",
              "    <div>            <script src=\"https://cdnjs.cloudflare.com/ajax/libs/mathjax/2.7.5/MathJax.js?config=TeX-AMS-MML_SVG\"></script><script type=\"text/javascript\">if (window.MathJax) {MathJax.Hub.Config({SVG: {font: \"STIX-Web\"}});}</script>                <script type=\"text/javascript\">window.PlotlyConfig = {MathJaxConfig: 'local'};</script>\n",
              "        <script src=\"https://cdn.plot.ly/plotly-2.8.3.min.js\"></script>                <div id=\"a8808809-e1f5-4d4d-a6e9-b632f250a963\" class=\"plotly-graph-div\" style=\"height:525px; width:100%;\"></div>            <script type=\"text/javascript\">                                    window.PLOTLYENV=window.PLOTLYENV || {};                                    if (document.getElementById(\"a8808809-e1f5-4d4d-a6e9-b632f250a963\")) {                    Plotly.newPlot(                        \"a8808809-e1f5-4d4d-a6e9-b632f250a963\",                        [{\"branchvalues\":\"total\",\"domain\":{\"x\":[0.0,1.0],\"y\":[0.0,1.0]},\"hovertemplate\":\"labels=%{label}<br>total_bill=%{value}<br>parent=%{parent}<br>id=%{id}<extra></extra>\",\"ids\":[\"all/Fri/Dinner/Female\",\"all/Sat/Dinner/Female\",\"all/Sun/Dinner/Female\",\"all/Thur/Dinner/Female\",\"all/Fri/Lunch/Female\",\"all/Thur/Lunch/Female\",\"all/Fri/Dinner/Male\",\"all/Sat/Dinner/Male\",\"all/Sun/Dinner/Male\",\"all/Fri/Lunch/Male\",\"all/Thur/Lunch/Male\",\"all/Fri/Dinner\",\"all/Sat/Dinner\",\"all/Sun/Dinner\",\"all/Thur/Dinner\",\"all/Fri/Lunch\",\"all/Thur/Lunch\",\"all/Fri\",\"all/Sat\",\"all/Sun\",\"all/Thur\",\"all\"],\"labels\":[\"Female\",\"Female\",\"Female\",\"Female\",\"Female\",\"Female\",\"Male\",\"Male\",\"Male\",\"Male\",\"Male\",\"Dinner\",\"Dinner\",\"Dinner\",\"Dinner\",\"Lunch\",\"Lunch\",\"Fri\",\"Sat\",\"Sun\",\"Thur\",\"all\"],\"name\":\"\",\"parents\":[\"all/Fri/Dinner\",\"all/Sat/Dinner\",\"all/Sun/Dinner\",\"all/Thur/Dinner\",\"all/Fri/Lunch\",\"all/Thur/Lunch\",\"all/Fri/Dinner\",\"all/Sat/Dinner\",\"all/Sun/Dinner\",\"all/Fri/Lunch\",\"all/Thur/Lunch\",\"all/Fri\",\"all/Sat\",\"all/Sun\",\"all/Thur\",\"all/Fri\",\"all/Thur\",\"all\",\"all\",\"all\",\"all\",\"\"],\"values\":[71.55,551.05,357.7,18.78,55.760000000000005,516.11,164.41,1227.35,1269.46,34.16,561.4399999999999,235.96,1778.4,1627.16,18.78,89.92,1077.55,325.88,1778.4,1627.16,1096.33,4827.7699999999995],\"type\":\"treemap\",\"root\":{\"color\":\"lightgrey\"}}],                        {\"template\":{\"data\":{\"bar\":[{\"error_x\":{\"color\":\"#2a3f5f\"},\"error_y\":{\"color\":\"#2a3f5f\"},\"marker\":{\"line\":{\"color\":\"#E5ECF6\",\"width\":0.5},\"pattern\":{\"fillmode\":\"overlay\",\"size\":10,\"solidity\":0.2}},\"type\":\"bar\"}],\"barpolar\":[{\"marker\":{\"line\":{\"color\":\"#E5ECF6\",\"width\":0.5},\"pattern\":{\"fillmode\":\"overlay\",\"size\":10,\"solidity\":0.2}},\"type\":\"barpolar\"}],\"carpet\":[{\"aaxis\":{\"endlinecolor\":\"#2a3f5f\",\"gridcolor\":\"white\",\"linecolor\":\"white\",\"minorgridcolor\":\"white\",\"startlinecolor\":\"#2a3f5f\"},\"baxis\":{\"endlinecolor\":\"#2a3f5f\",\"gridcolor\":\"white\",\"linecolor\":\"white\",\"minorgridcolor\":\"white\",\"startlinecolor\":\"#2a3f5f\"},\"type\":\"carpet\"}],\"choropleth\":[{\"colorbar\":{\"outlinewidth\":0,\"ticks\":\"\"},\"type\":\"choropleth\"}],\"contour\":[{\"colorbar\":{\"outlinewidth\":0,\"ticks\":\"\"},\"colorscale\":[[0.0,\"#0d0887\"],[0.1111111111111111,\"#46039f\"],[0.2222222222222222,\"#7201a8\"],[0.3333333333333333,\"#9c179e\"],[0.4444444444444444,\"#bd3786\"],[0.5555555555555556,\"#d8576b\"],[0.6666666666666666,\"#ed7953\"],[0.7777777777777778,\"#fb9f3a\"],[0.8888888888888888,\"#fdca26\"],[1.0,\"#f0f921\"]],\"type\":\"contour\"}],\"contourcarpet\":[{\"colorbar\":{\"outlinewidth\":0,\"ticks\":\"\"},\"type\":\"contourcarpet\"}],\"heatmap\":[{\"colorbar\":{\"outlinewidth\":0,\"ticks\":\"\"},\"colorscale\":[[0.0,\"#0d0887\"],[0.1111111111111111,\"#46039f\"],[0.2222222222222222,\"#7201a8\"],[0.3333333333333333,\"#9c179e\"],[0.4444444444444444,\"#bd3786\"],[0.5555555555555556,\"#d8576b\"],[0.6666666666666666,\"#ed7953\"],[0.7777777777777778,\"#fb9f3a\"],[0.8888888888888888,\"#fdca26\"],[1.0,\"#f0f921\"]],\"type\":\"heatmap\"}],\"heatmapgl\":[{\"colorbar\":{\"outlinewidth\":0,\"ticks\":\"\"},\"colorscale\":[[0.0,\"#0d0887\"],[0.1111111111111111,\"#46039f\"],[0.2222222222222222,\"#7201a8\"],[0.3333333333333333,\"#9c179e\"],[0.4444444444444444,\"#bd3786\"],[0.5555555555555556,\"#d8576b\"],[0.6666666666666666,\"#ed7953\"],[0.7777777777777778,\"#fb9f3a\"],[0.8888888888888888,\"#fdca26\"],[1.0,\"#f0f921\"]],\"type\":\"heatmapgl\"}],\"histogram\":[{\"marker\":{\"pattern\":{\"fillmode\":\"overlay\",\"size\":10,\"solidity\":0.2}},\"type\":\"histogram\"}],\"histogram2d\":[{\"colorbar\":{\"outlinewidth\":0,\"ticks\":\"\"},\"colorscale\":[[0.0,\"#0d0887\"],[0.1111111111111111,\"#46039f\"],[0.2222222222222222,\"#7201a8\"],[0.3333333333333333,\"#9c179e\"],[0.4444444444444444,\"#bd3786\"],[0.5555555555555556,\"#d8576b\"],[0.6666666666666666,\"#ed7953\"],[0.7777777777777778,\"#fb9f3a\"],[0.8888888888888888,\"#fdca26\"],[1.0,\"#f0f921\"]],\"type\":\"histogram2d\"}],\"histogram2dcontour\":[{\"colorbar\":{\"outlinewidth\":0,\"ticks\":\"\"},\"colorscale\":[[0.0,\"#0d0887\"],[0.1111111111111111,\"#46039f\"],[0.2222222222222222,\"#7201a8\"],[0.3333333333333333,\"#9c179e\"],[0.4444444444444444,\"#bd3786\"],[0.5555555555555556,\"#d8576b\"],[0.6666666666666666,\"#ed7953\"],[0.7777777777777778,\"#fb9f3a\"],[0.8888888888888888,\"#fdca26\"],[1.0,\"#f0f921\"]],\"type\":\"histogram2dcontour\"}],\"mesh3d\":[{\"colorbar\":{\"outlinewidth\":0,\"ticks\":\"\"},\"type\":\"mesh3d\"}],\"parcoords\":[{\"line\":{\"colorbar\":{\"outlinewidth\":0,\"ticks\":\"\"}},\"type\":\"parcoords\"}],\"pie\":[{\"automargin\":true,\"type\":\"pie\"}],\"scatter\":[{\"marker\":{\"colorbar\":{\"outlinewidth\":0,\"ticks\":\"\"}},\"type\":\"scatter\"}],\"scatter3d\":[{\"line\":{\"colorbar\":{\"outlinewidth\":0,\"ticks\":\"\"}},\"marker\":{\"colorbar\":{\"outlinewidth\":0,\"ticks\":\"\"}},\"type\":\"scatter3d\"}],\"scattercarpet\":[{\"marker\":{\"colorbar\":{\"outlinewidth\":0,\"ticks\":\"\"}},\"type\":\"scattercarpet\"}],\"scattergeo\":[{\"marker\":{\"colorbar\":{\"outlinewidth\":0,\"ticks\":\"\"}},\"type\":\"scattergeo\"}],\"scattergl\":[{\"marker\":{\"colorbar\":{\"outlinewidth\":0,\"ticks\":\"\"}},\"type\":\"scattergl\"}],\"scattermapbox\":[{\"marker\":{\"colorbar\":{\"outlinewidth\":0,\"ticks\":\"\"}},\"type\":\"scattermapbox\"}],\"scatterpolar\":[{\"marker\":{\"colorbar\":{\"outlinewidth\":0,\"ticks\":\"\"}},\"type\":\"scatterpolar\"}],\"scatterpolargl\":[{\"marker\":{\"colorbar\":{\"outlinewidth\":0,\"ticks\":\"\"}},\"type\":\"scatterpolargl\"}],\"scatterternary\":[{\"marker\":{\"colorbar\":{\"outlinewidth\":0,\"ticks\":\"\"}},\"type\":\"scatterternary\"}],\"surface\":[{\"colorbar\":{\"outlinewidth\":0,\"ticks\":\"\"},\"colorscale\":[[0.0,\"#0d0887\"],[0.1111111111111111,\"#46039f\"],[0.2222222222222222,\"#7201a8\"],[0.3333333333333333,\"#9c179e\"],[0.4444444444444444,\"#bd3786\"],[0.5555555555555556,\"#d8576b\"],[0.6666666666666666,\"#ed7953\"],[0.7777777777777778,\"#fb9f3a\"],[0.8888888888888888,\"#fdca26\"],[1.0,\"#f0f921\"]],\"type\":\"surface\"}],\"table\":[{\"cells\":{\"fill\":{\"color\":\"#EBF0F8\"},\"line\":{\"color\":\"white\"}},\"header\":{\"fill\":{\"color\":\"#C8D4E3\"},\"line\":{\"color\":\"white\"}},\"type\":\"table\"}]},\"layout\":{\"annotationdefaults\":{\"arrowcolor\":\"#2a3f5f\",\"arrowhead\":0,\"arrowwidth\":1},\"autotypenumbers\":\"strict\",\"coloraxis\":{\"colorbar\":{\"outlinewidth\":0,\"ticks\":\"\"}},\"colorscale\":{\"diverging\":[[0,\"#8e0152\"],[0.1,\"#c51b7d\"],[0.2,\"#de77ae\"],[0.3,\"#f1b6da\"],[0.4,\"#fde0ef\"],[0.5,\"#f7f7f7\"],[0.6,\"#e6f5d0\"],[0.7,\"#b8e186\"],[0.8,\"#7fbc41\"],[0.9,\"#4d9221\"],[1,\"#276419\"]],\"sequential\":[[0.0,\"#0d0887\"],[0.1111111111111111,\"#46039f\"],[0.2222222222222222,\"#7201a8\"],[0.3333333333333333,\"#9c179e\"],[0.4444444444444444,\"#bd3786\"],[0.5555555555555556,\"#d8576b\"],[0.6666666666666666,\"#ed7953\"],[0.7777777777777778,\"#fb9f3a\"],[0.8888888888888888,\"#fdca26\"],[1.0,\"#f0f921\"]],\"sequentialminus\":[[0.0,\"#0d0887\"],[0.1111111111111111,\"#46039f\"],[0.2222222222222222,\"#7201a8\"],[0.3333333333333333,\"#9c179e\"],[0.4444444444444444,\"#bd3786\"],[0.5555555555555556,\"#d8576b\"],[0.6666666666666666,\"#ed7953\"],[0.7777777777777778,\"#fb9f3a\"],[0.8888888888888888,\"#fdca26\"],[1.0,\"#f0f921\"]]},\"colorway\":[\"#636efa\",\"#EF553B\",\"#00cc96\",\"#ab63fa\",\"#FFA15A\",\"#19d3f3\",\"#FF6692\",\"#B6E880\",\"#FF97FF\",\"#FECB52\"],\"font\":{\"color\":\"#2a3f5f\"},\"geo\":{\"bgcolor\":\"white\",\"lakecolor\":\"white\",\"landcolor\":\"#E5ECF6\",\"showlakes\":true,\"showland\":true,\"subunitcolor\":\"white\"},\"hoverlabel\":{\"align\":\"left\"},\"hovermode\":\"closest\",\"mapbox\":{\"style\":\"light\"},\"paper_bgcolor\":\"white\",\"plot_bgcolor\":\"#E5ECF6\",\"polar\":{\"angularaxis\":{\"gridcolor\":\"white\",\"linecolor\":\"white\",\"ticks\":\"\"},\"bgcolor\":\"#E5ECF6\",\"radialaxis\":{\"gridcolor\":\"white\",\"linecolor\":\"white\",\"ticks\":\"\"}},\"scene\":{\"xaxis\":{\"backgroundcolor\":\"#E5ECF6\",\"gridcolor\":\"white\",\"gridwidth\":2,\"linecolor\":\"white\",\"showbackground\":true,\"ticks\":\"\",\"zerolinecolor\":\"white\"},\"yaxis\":{\"backgroundcolor\":\"#E5ECF6\",\"gridcolor\":\"white\",\"gridwidth\":2,\"linecolor\":\"white\",\"showbackground\":true,\"ticks\":\"\",\"zerolinecolor\":\"white\"},\"zaxis\":{\"backgroundcolor\":\"#E5ECF6\",\"gridcolor\":\"white\",\"gridwidth\":2,\"linecolor\":\"white\",\"showbackground\":true,\"ticks\":\"\",\"zerolinecolor\":\"white\"}},\"shapedefaults\":{\"line\":{\"color\":\"#2a3f5f\"}},\"ternary\":{\"aaxis\":{\"gridcolor\":\"white\",\"linecolor\":\"white\",\"ticks\":\"\"},\"baxis\":{\"gridcolor\":\"white\",\"linecolor\":\"white\",\"ticks\":\"\"},\"bgcolor\":\"#E5ECF6\",\"caxis\":{\"gridcolor\":\"white\",\"linecolor\":\"white\",\"ticks\":\"\"}},\"title\":{\"x\":0.05},\"xaxis\":{\"automargin\":true,\"gridcolor\":\"white\",\"linecolor\":\"white\",\"ticks\":\"\",\"title\":{\"standoff\":15},\"zerolinecolor\":\"white\",\"zerolinewidth\":2},\"yaxis\":{\"automargin\":true,\"gridcolor\":\"white\",\"linecolor\":\"white\",\"ticks\":\"\",\"title\":{\"standoff\":15},\"zerolinecolor\":\"white\",\"zerolinewidth\":2}}},\"legend\":{\"tracegroupgap\":0},\"margin\":{\"t\":50,\"l\":25,\"r\":25,\"b\":25},\"title\":{\"text\":\"Treemap Diagram\"},\"font\":{\"size\":12}},                        {\"responsive\": true}                    ).then(function(){\n",
              "                            \n",
              "var gd = document.getElementById('a8808809-e1f5-4d4d-a6e9-b632f250a963');\n",
              "var x = new MutationObserver(function (mutations, observer) {{\n",
              "        var display = window.getComputedStyle(gd).display;\n",
              "        if (!display || display === 'none') {{\n",
              "            console.log([gd, 'removed!']);\n",
              "            Plotly.purge(gd);\n",
              "            observer.disconnect();\n",
              "        }}\n",
              "}});\n",
              "\n",
              "// Listen for the removal of the full notebook cells\n",
              "var notebookContainer = gd.closest('#notebook-container');\n",
              "if (notebookContainer) {{\n",
              "    x.observe(notebookContainer, {childList: true});\n",
              "}}\n",
              "\n",
              "// Listen for the clearing of the current output cell\n",
              "var outputEl = gd.closest('.output');\n",
              "if (outputEl) {{\n",
              "    x.observe(outputEl, {childList: true});\n",
              "}}\n",
              "\n",
              "                        })                };                            </script>        </div>\n",
              "</body>\n",
              "</html>"
            ]
          },
          "metadata": {}
        }
      ]
    },
    {
      "cell_type": "markdown",
      "source": [
        "## Another example with map/geo data"
      ],
      "metadata": {
        "id": "ZkunOwthyE7O"
      }
    },
    {
      "cell_type": "code",
      "source": [
        "df_country = px.data.gapminder().query(\"year == 2007\")\n",
        "display(df_country.head())"
      ],
      "metadata": {
        "colab": {
          "base_uri": "https://localhost:8080/",
          "height": 201
        },
        "id": "upw9GcgjyCKi",
        "outputId": "8194ff5e-41bc-4b40-f4aa-a17a3d911614"
      },
      "execution_count": null,
      "outputs": [
        {
          "output_type": "display_data",
          "data": {
            "text/plain": [
              "        country continent  year  lifeExp       pop     gdpPercap iso_alpha  \\\n",
              "11  Afghanistan      Asia  2007   43.828  31889923    974.580338       AFG   \n",
              "23      Albania    Europe  2007   76.423   3600523   5937.029526       ALB   \n",
              "35      Algeria    Africa  2007   72.301  33333216   6223.367465       DZA   \n",
              "47       Angola    Africa  2007   42.731  12420476   4797.231267       AGO   \n",
              "59    Argentina  Americas  2007   75.320  40301927  12779.379640       ARG   \n",
              "\n",
              "    iso_num  \n",
              "11        4  \n",
              "23        8  \n",
              "35       12  \n",
              "47       24  \n",
              "59       32  "
            ],
            "text/html": [
              "\n",
              "  <div id=\"df-1631c681-d976-4f72-9a27-f011a3fcd29b\">\n",
              "    <div class=\"colab-df-container\">\n",
              "      <div>\n",
              "<style scoped>\n",
              "    .dataframe tbody tr th:only-of-type {\n",
              "        vertical-align: middle;\n",
              "    }\n",
              "\n",
              "    .dataframe tbody tr th {\n",
              "        vertical-align: top;\n",
              "    }\n",
              "\n",
              "    .dataframe thead th {\n",
              "        text-align: right;\n",
              "    }\n",
              "</style>\n",
              "<table border=\"1\" class=\"dataframe\">\n",
              "  <thead>\n",
              "    <tr style=\"text-align: right;\">\n",
              "      <th></th>\n",
              "      <th>country</th>\n",
              "      <th>continent</th>\n",
              "      <th>year</th>\n",
              "      <th>lifeExp</th>\n",
              "      <th>pop</th>\n",
              "      <th>gdpPercap</th>\n",
              "      <th>iso_alpha</th>\n",
              "      <th>iso_num</th>\n",
              "    </tr>\n",
              "  </thead>\n",
              "  <tbody>\n",
              "    <tr>\n",
              "      <th>11</th>\n",
              "      <td>Afghanistan</td>\n",
              "      <td>Asia</td>\n",
              "      <td>2007</td>\n",
              "      <td>43.828</td>\n",
              "      <td>31889923</td>\n",
              "      <td>974.580338</td>\n",
              "      <td>AFG</td>\n",
              "      <td>4</td>\n",
              "    </tr>\n",
              "    <tr>\n",
              "      <th>23</th>\n",
              "      <td>Albania</td>\n",
              "      <td>Europe</td>\n",
              "      <td>2007</td>\n",
              "      <td>76.423</td>\n",
              "      <td>3600523</td>\n",
              "      <td>5937.029526</td>\n",
              "      <td>ALB</td>\n",
              "      <td>8</td>\n",
              "    </tr>\n",
              "    <tr>\n",
              "      <th>35</th>\n",
              "      <td>Algeria</td>\n",
              "      <td>Africa</td>\n",
              "      <td>2007</td>\n",
              "      <td>72.301</td>\n",
              "      <td>33333216</td>\n",
              "      <td>6223.367465</td>\n",
              "      <td>DZA</td>\n",
              "      <td>12</td>\n",
              "    </tr>\n",
              "    <tr>\n",
              "      <th>47</th>\n",
              "      <td>Angola</td>\n",
              "      <td>Africa</td>\n",
              "      <td>2007</td>\n",
              "      <td>42.731</td>\n",
              "      <td>12420476</td>\n",
              "      <td>4797.231267</td>\n",
              "      <td>AGO</td>\n",
              "      <td>24</td>\n",
              "    </tr>\n",
              "    <tr>\n",
              "      <th>59</th>\n",
              "      <td>Argentina</td>\n",
              "      <td>Americas</td>\n",
              "      <td>2007</td>\n",
              "      <td>75.320</td>\n",
              "      <td>40301927</td>\n",
              "      <td>12779.379640</td>\n",
              "      <td>ARG</td>\n",
              "      <td>32</td>\n",
              "    </tr>\n",
              "  </tbody>\n",
              "</table>\n",
              "</div>\n",
              "      <button class=\"colab-df-convert\" onclick=\"convertToInteractive('df-1631c681-d976-4f72-9a27-f011a3fcd29b')\"\n",
              "              title=\"Convert this dataframe to an interactive table.\"\n",
              "              style=\"display:none;\">\n",
              "        \n",
              "  <svg xmlns=\"http://www.w3.org/2000/svg\" height=\"24px\"viewBox=\"0 0 24 24\"\n",
              "       width=\"24px\">\n",
              "    <path d=\"M0 0h24v24H0V0z\" fill=\"none\"/>\n",
              "    <path d=\"M18.56 5.44l.94 2.06.94-2.06 2.06-.94-2.06-.94-.94-2.06-.94 2.06-2.06.94zm-11 1L8.5 8.5l.94-2.06 2.06-.94-2.06-.94L8.5 2.5l-.94 2.06-2.06.94zm10 10l.94 2.06.94-2.06 2.06-.94-2.06-.94-.94-2.06-.94 2.06-2.06.94z\"/><path d=\"M17.41 7.96l-1.37-1.37c-.4-.4-.92-.59-1.43-.59-.52 0-1.04.2-1.43.59L10.3 9.45l-7.72 7.72c-.78.78-.78 2.05 0 2.83L4 21.41c.39.39.9.59 1.41.59.51 0 1.02-.2 1.41-.59l7.78-7.78 2.81-2.81c.8-.78.8-2.07 0-2.86zM5.41 20L4 18.59l7.72-7.72 1.47 1.35L5.41 20z\"/>\n",
              "  </svg>\n",
              "      </button>\n",
              "      \n",
              "  <style>\n",
              "    .colab-df-container {\n",
              "      display:flex;\n",
              "      flex-wrap:wrap;\n",
              "      gap: 12px;\n",
              "    }\n",
              "\n",
              "    .colab-df-convert {\n",
              "      background-color: #E8F0FE;\n",
              "      border: none;\n",
              "      border-radius: 50%;\n",
              "      cursor: pointer;\n",
              "      display: none;\n",
              "      fill: #1967D2;\n",
              "      height: 32px;\n",
              "      padding: 0 0 0 0;\n",
              "      width: 32px;\n",
              "    }\n",
              "\n",
              "    .colab-df-convert:hover {\n",
              "      background-color: #E2EBFA;\n",
              "      box-shadow: 0px 1px 2px rgba(60, 64, 67, 0.3), 0px 1px 3px 1px rgba(60, 64, 67, 0.15);\n",
              "      fill: #174EA6;\n",
              "    }\n",
              "\n",
              "    [theme=dark] .colab-df-convert {\n",
              "      background-color: #3B4455;\n",
              "      fill: #D2E3FC;\n",
              "    }\n",
              "\n",
              "    [theme=dark] .colab-df-convert:hover {\n",
              "      background-color: #434B5C;\n",
              "      box-shadow: 0px 1px 3px 1px rgba(0, 0, 0, 0.15);\n",
              "      filter: drop-shadow(0px 1px 2px rgba(0, 0, 0, 0.3));\n",
              "      fill: #FFFFFF;\n",
              "    }\n",
              "  </style>\n",
              "\n",
              "      <script>\n",
              "        const buttonEl =\n",
              "          document.querySelector('#df-1631c681-d976-4f72-9a27-f011a3fcd29b button.colab-df-convert');\n",
              "        buttonEl.style.display =\n",
              "          google.colab.kernel.accessAllowed ? 'block' : 'none';\n",
              "\n",
              "        async function convertToInteractive(key) {\n",
              "          const element = document.querySelector('#df-1631c681-d976-4f72-9a27-f011a3fcd29b');\n",
              "          const dataTable =\n",
              "            await google.colab.kernel.invokeFunction('convertToInteractive',\n",
              "                                                     [key], {});\n",
              "          if (!dataTable) return;\n",
              "\n",
              "          const docLinkHtml = 'Like what you see? Visit the ' +\n",
              "            '<a target=\"_blank\" href=https://colab.research.google.com/notebooks/data_table.ipynb>data table notebook</a>'\n",
              "            + ' to learn more about interactive tables.';\n",
              "          element.innerHTML = '';\n",
              "          dataTable['output_type'] = 'display_data';\n",
              "          await google.colab.output.renderOutput(dataTable, element);\n",
              "          const docLink = document.createElement('div');\n",
              "          docLink.innerHTML = docLinkHtml;\n",
              "          element.appendChild(docLink);\n",
              "        }\n",
              "      </script>\n",
              "    </div>\n",
              "  </div>\n",
              "  "
            ]
          },
          "metadata": {}
        }
      ]
    },
    {
      "cell_type": "code",
      "source": [
        "fig = px.treemap(\n",
        "  df_country, \n",
        "  path=[px.Constant(\"world\"), 'continent', 'country'], \n",
        "  values='pop',\n",
        "  color='lifeExp', \n",
        "  hover_data=['iso_alpha'], \n",
        "  color_continuous_scale='RdBu',  \n",
        ")\n",
        "\n",
        "fig.update_layout(\n",
        "  margin = dict(t=50, l=25, r=25, b=25)\n",
        ")\n",
        "\n",
        "fig.show()"
      ],
      "metadata": {
        "colab": {
          "base_uri": "https://localhost:8080/",
          "height": 542
        },
        "id": "uvsrzSmTyoVz",
        "outputId": "2e959ca4-7c82-42c4-d7e3-6877509b05cb"
      },
      "execution_count": null,
      "outputs": [
        {
          "output_type": "display_data",
          "data": {
            "text/html": [
              "<html>\n",
              "<head><meta charset=\"utf-8\" /></head>\n",
              "<body>\n",
              "    <div>            <script src=\"https://cdnjs.cloudflare.com/ajax/libs/mathjax/2.7.5/MathJax.js?config=TeX-AMS-MML_SVG\"></script><script type=\"text/javascript\">if (window.MathJax) {MathJax.Hub.Config({SVG: {font: \"STIX-Web\"}});}</script>                <script type=\"text/javascript\">window.PlotlyConfig = {MathJaxConfig: 'local'};</script>\n",
              "        <script src=\"https://cdn.plot.ly/plotly-2.8.3.min.js\"></script>                <div id=\"c88aad96-8af6-4e4e-9880-ae8a332f2f29\" class=\"plotly-graph-div\" style=\"height:525px; width:100%;\"></div>            <script type=\"text/javascript\">                                    window.PLOTLYENV=window.PLOTLYENV || {};                                    if (document.getElementById(\"c88aad96-8af6-4e4e-9880-ae8a332f2f29\")) {                    Plotly.newPlot(                        \"c88aad96-8af6-4e4e-9880-ae8a332f2f29\",                        [{\"branchvalues\":\"total\",\"customdata\":[[\"AFG\",43.828],[\"ALB\",76.423],[\"DZA\",72.301],[\"AGO\",42.731],[\"ARG\",75.32],[\"AUS\",81.235],[\"AUT\",79.829],[\"BHR\",75.635],[\"BGD\",64.062],[\"BEL\",79.441],[\"BEN\",56.728],[\"BOL\",65.554],[\"BIH\",74.852],[\"BWA\",50.728],[\"BRA\",72.39],[\"BGR\",73.005],[\"BFA\",52.295],[\"BDI\",49.58],[\"KHM\",59.723],[\"CMR\",50.43],[\"CAN\",80.65300000000002],[\"CAF\",44.74100000000001],[\"TCD\",50.651],[\"CHL\",78.553],[\"CHN\",72.961],[\"COL\",72.889],[\"COM\",65.152],[\"COD\",46.462],[\"COG\",55.322],[\"CRI\",78.782],[\"CIV\",48.328],[\"HRV\",75.748],[\"CUB\",78.273],[\"CZE\",76.486],[\"DNK\",78.332],[\"DJI\",54.791],[\"DOM\",72.235],[\"ECU\",74.994],[\"EGY\",71.33800000000002],[\"SLV\",71.878],[\"GNQ\",51.57899999999999],[\"ERI\",58.03999999999999],[\"ETH\",52.947],[\"FIN\",79.313],[\"FRA\",80.65699999999998],[\"GAB\",56.73500000000001],[\"GMB\",59.448],[\"DEU\",79.406],[\"GHA\",60.02199999999999],[\"GRC\",79.483],[\"GTM\",70.259],[\"GIN\",56.007],[\"GNB\",46.38800000000001],[\"HTI\",60.916],[\"HND\",70.19800000000001],[\"HKG\",82.208],[\"HUN\",73.33800000000002],[\"ISL\",81.757],[\"IND\",64.69800000000001],[\"IDN\",70.65],[\"IRN\",70.964],[\"IRQ\",59.545],[\"IRL\",78.885],[\"ISR\",80.745],[\"ITA\",80.546],[\"JAM\",72.567],[\"JPN\",82.603],[\"JOR\",72.535],[\"KEN\",54.11],[\"KOR\",67.297],[\"KOR\",78.623],[\"KWT\",77.58800000000002],[\"LBN\",71.993],[\"LSO\",42.592],[\"LBR\",45.678],[\"LBY\",73.952],[\"MDG\",59.443000000000005],[\"MWI\",48.303],[\"MYS\",74.241],[\"MLI\",54.467],[\"MRT\",64.164],[\"MUS\",72.801],[\"MEX\",76.195],[\"MNG\",66.803],[\"MNE\",74.543],[\"MAR\",71.164],[\"MOZ\",42.082],[\"MMR\",62.06900000000001],[\"NAM\",52.90600000000001],[\"NPL\",63.785],[\"NLD\",79.762],[\"NZL\",80.204],[\"NIC\",72.899],[\"NER\",56.867],[\"NGA\",46.859],[\"NOR\",80.196],[\"OMN\",75.64],[\"PAK\",65.483],[\"PAN\",75.53699999999998],[\"PRY\",71.752],[\"PER\",71.421],[\"PHL\",71.688],[\"POL\",75.563],[\"PRT\",78.098],[\"PRI\",78.74600000000002],[\"REU\",76.442],[\"ROU\",72.476],[\"RWA\",46.242],[\"STP\",65.528],[\"SAU\",72.777],[\"SEN\",63.062],[\"SRB\",74.002],[\"SLE\",42.56800000000001],[\"SGP\",79.972],[\"SVK\",74.663],[\"SVN\",77.926],[\"SOM\",48.159],[\"ZAF\",49.339],[\"ESP\",80.941],[\"LKA\",72.396],[\"SDN\",58.55599999999999],[\"SWZ\",39.613],[\"SWE\",80.884],[\"CHE\",81.70100000000002],[\"SYR\",74.143],[\"TWN\",78.4],[\"TZA\",52.517],[\"THA\",70.616],[\"TGO\",58.42],[\"TTO\",69.819],[\"TUN\",73.923],[\"TUR\",71.777],[\"UGA\",51.542],[\"GBR\",79.425],[\"USA\",78.242],[\"URY\",76.384],[\"VEN\",73.747],[\"VNM\",74.249],[\"PSE\",73.422],[\"YEM\",62.698],[\"ZMB\",42.38399999999999],[\"ZWE\",43.487],[\"(?)\",54.56441057558197],[\"(?)\",75.35668222743027],[\"(?)\",69.44386304205017],[\"(?)\",77.89057081069897],[\"(?)\",81.06215400970112],[\"(?)\",68.91909251904043]],\"domain\":{\"x\":[0.0,1.0],\"y\":[0.0,1.0]},\"hovertemplate\":\"labels=%{label}<br>pop=%{value}<br>parent=%{parent}<br>id=%{id}<br>iso_alpha=%{customdata[0]}<br>lifeExp=%{color}<extra></extra>\",\"ids\":[\"world/Asia/Afghanistan\",\"world/Europe/Albania\",\"world/Africa/Algeria\",\"world/Africa/Angola\",\"world/Americas/Argentina\",\"world/Oceania/Australia\",\"world/Europe/Austria\",\"world/Asia/Bahrain\",\"world/Asia/Bangladesh\",\"world/Europe/Belgium\",\"world/Africa/Benin\",\"world/Americas/Bolivia\",\"world/Europe/Bosnia and Herzegovina\",\"world/Africa/Botswana\",\"world/Americas/Brazil\",\"world/Europe/Bulgaria\",\"world/Africa/Burkina Faso\",\"world/Africa/Burundi\",\"world/Asia/Cambodia\",\"world/Africa/Cameroon\",\"world/Americas/Canada\",\"world/Africa/Central African Republic\",\"world/Africa/Chad\",\"world/Americas/Chile\",\"world/Asia/China\",\"world/Americas/Colombia\",\"world/Africa/Comoros\",\"world/Africa/Congo, Dem. Rep.\",\"world/Africa/Congo, Rep.\",\"world/Americas/Costa Rica\",\"world/Africa/Cote d'Ivoire\",\"world/Europe/Croatia\",\"world/Americas/Cuba\",\"world/Europe/Czech Republic\",\"world/Europe/Denmark\",\"world/Africa/Djibouti\",\"world/Americas/Dominican Republic\",\"world/Americas/Ecuador\",\"world/Africa/Egypt\",\"world/Americas/El Salvador\",\"world/Africa/Equatorial Guinea\",\"world/Africa/Eritrea\",\"world/Africa/Ethiopia\",\"world/Europe/Finland\",\"world/Europe/France\",\"world/Africa/Gabon\",\"world/Africa/Gambia\",\"world/Europe/Germany\",\"world/Africa/Ghana\",\"world/Europe/Greece\",\"world/Americas/Guatemala\",\"world/Africa/Guinea\",\"world/Africa/Guinea-Bissau\",\"world/Americas/Haiti\",\"world/Americas/Honduras\",\"world/Asia/Hong Kong, China\",\"world/Europe/Hungary\",\"world/Europe/Iceland\",\"world/Asia/India\",\"world/Asia/Indonesia\",\"world/Asia/Iran\",\"world/Asia/Iraq\",\"world/Europe/Ireland\",\"world/Asia/Israel\",\"world/Europe/Italy\",\"world/Americas/Jamaica\",\"world/Asia/Japan\",\"world/Asia/Jordan\",\"world/Africa/Kenya\",\"world/Asia/Korea, Dem. Rep.\",\"world/Asia/Korea, Rep.\",\"world/Asia/Kuwait\",\"world/Asia/Lebanon\",\"world/Africa/Lesotho\",\"world/Africa/Liberia\",\"world/Africa/Libya\",\"world/Africa/Madagascar\",\"world/Africa/Malawi\",\"world/Asia/Malaysia\",\"world/Africa/Mali\",\"world/Africa/Mauritania\",\"world/Africa/Mauritius\",\"world/Americas/Mexico\",\"world/Asia/Mongolia\",\"world/Europe/Montenegro\",\"world/Africa/Morocco\",\"world/Africa/Mozambique\",\"world/Asia/Myanmar\",\"world/Africa/Namibia\",\"world/Asia/Nepal\",\"world/Europe/Netherlands\",\"world/Oceania/New Zealand\",\"world/Americas/Nicaragua\",\"world/Africa/Niger\",\"world/Africa/Nigeria\",\"world/Europe/Norway\",\"world/Asia/Oman\",\"world/Asia/Pakistan\",\"world/Americas/Panama\",\"world/Americas/Paraguay\",\"world/Americas/Peru\",\"world/Asia/Philippines\",\"world/Europe/Poland\",\"world/Europe/Portugal\",\"world/Americas/Puerto Rico\",\"world/Africa/Reunion\",\"world/Europe/Romania\",\"world/Africa/Rwanda\",\"world/Africa/Sao Tome and Principe\",\"world/Asia/Saudi Arabia\",\"world/Africa/Senegal\",\"world/Europe/Serbia\",\"world/Africa/Sierra Leone\",\"world/Asia/Singapore\",\"world/Europe/Slovak Republic\",\"world/Europe/Slovenia\",\"world/Africa/Somalia\",\"world/Africa/South Africa\",\"world/Europe/Spain\",\"world/Asia/Sri Lanka\",\"world/Africa/Sudan\",\"world/Africa/Swaziland\",\"world/Europe/Sweden\",\"world/Europe/Switzerland\",\"world/Asia/Syria\",\"world/Asia/Taiwan\",\"world/Africa/Tanzania\",\"world/Asia/Thailand\",\"world/Africa/Togo\",\"world/Americas/Trinidad and Tobago\",\"world/Africa/Tunisia\",\"world/Europe/Turkey\",\"world/Africa/Uganda\",\"world/Europe/United Kingdom\",\"world/Americas/United States\",\"world/Americas/Uruguay\",\"world/Americas/Venezuela\",\"world/Asia/Vietnam\",\"world/Asia/West Bank and Gaza\",\"world/Asia/Yemen, Rep.\",\"world/Africa/Zambia\",\"world/Africa/Zimbabwe\",\"world/Africa\",\"world/Americas\",\"world/Asia\",\"world/Europe\",\"world/Oceania\",\"world\"],\"labels\":[\"Afghanistan\",\"Albania\",\"Algeria\",\"Angola\",\"Argentina\",\"Australia\",\"Austria\",\"Bahrain\",\"Bangladesh\",\"Belgium\",\"Benin\",\"Bolivia\",\"Bosnia and Herzegovina\",\"Botswana\",\"Brazil\",\"Bulgaria\",\"Burkina Faso\",\"Burundi\",\"Cambodia\",\"Cameroon\",\"Canada\",\"Central African Republic\",\"Chad\",\"Chile\",\"China\",\"Colombia\",\"Comoros\",\"Congo, Dem. Rep.\",\"Congo, Rep.\",\"Costa Rica\",\"Cote d'Ivoire\",\"Croatia\",\"Cuba\",\"Czech Republic\",\"Denmark\",\"Djibouti\",\"Dominican Republic\",\"Ecuador\",\"Egypt\",\"El Salvador\",\"Equatorial Guinea\",\"Eritrea\",\"Ethiopia\",\"Finland\",\"France\",\"Gabon\",\"Gambia\",\"Germany\",\"Ghana\",\"Greece\",\"Guatemala\",\"Guinea\",\"Guinea-Bissau\",\"Haiti\",\"Honduras\",\"Hong Kong, China\",\"Hungary\",\"Iceland\",\"India\",\"Indonesia\",\"Iran\",\"Iraq\",\"Ireland\",\"Israel\",\"Italy\",\"Jamaica\",\"Japan\",\"Jordan\",\"Kenya\",\"Korea, Dem. Rep.\",\"Korea, Rep.\",\"Kuwait\",\"Lebanon\",\"Lesotho\",\"Liberia\",\"Libya\",\"Madagascar\",\"Malawi\",\"Malaysia\",\"Mali\",\"Mauritania\",\"Mauritius\",\"Mexico\",\"Mongolia\",\"Montenegro\",\"Morocco\",\"Mozambique\",\"Myanmar\",\"Namibia\",\"Nepal\",\"Netherlands\",\"New Zealand\",\"Nicaragua\",\"Niger\",\"Nigeria\",\"Norway\",\"Oman\",\"Pakistan\",\"Panama\",\"Paraguay\",\"Peru\",\"Philippines\",\"Poland\",\"Portugal\",\"Puerto Rico\",\"Reunion\",\"Romania\",\"Rwanda\",\"Sao Tome and Principe\",\"Saudi Arabia\",\"Senegal\",\"Serbia\",\"Sierra Leone\",\"Singapore\",\"Slovak Republic\",\"Slovenia\",\"Somalia\",\"South Africa\",\"Spain\",\"Sri Lanka\",\"Sudan\",\"Swaziland\",\"Sweden\",\"Switzerland\",\"Syria\",\"Taiwan\",\"Tanzania\",\"Thailand\",\"Togo\",\"Trinidad and Tobago\",\"Tunisia\",\"Turkey\",\"Uganda\",\"United Kingdom\",\"United States\",\"Uruguay\",\"Venezuela\",\"Vietnam\",\"West Bank and Gaza\",\"Yemen, Rep.\",\"Zambia\",\"Zimbabwe\",\"Africa\",\"Americas\",\"Asia\",\"Europe\",\"Oceania\",\"world\"],\"marker\":{\"coloraxis\":\"coloraxis\",\"colors\":[43.828,76.423,72.301,42.731,75.32,81.235,79.829,75.635,64.062,79.441,56.728,65.554,74.852,50.728,72.39,73.005,52.295,49.58,59.723,50.43,80.65300000000002,44.74100000000001,50.651,78.553,72.961,72.889,65.152,46.462,55.322,78.782,48.328,75.748,78.273,76.486,78.332,54.791,72.235,74.994,71.33800000000002,71.878,51.57899999999999,58.03999999999999,52.947,79.313,80.65699999999998,56.73500000000001,59.448,79.406,60.02199999999999,79.483,70.259,56.007,46.38800000000001,60.916,70.19800000000001,82.208,73.33800000000002,81.757,64.69800000000001,70.65,70.964,59.545,78.885,80.745,80.546,72.567,82.603,72.535,54.11,67.297,78.623,77.58800000000002,71.993,42.592,45.678,73.952,59.443000000000005,48.303,74.241,54.467,64.164,72.801,76.195,66.803,74.543,71.164,42.082,62.06900000000001,52.90600000000001,63.785,79.762,80.204,72.899,56.867,46.859,80.196,75.64,65.483,75.53699999999998,71.752,71.421,71.688,75.563,78.098,78.74600000000002,76.442,72.476,46.242,65.528,72.777,63.062,74.002,42.56800000000001,79.972,74.663,77.926,48.159,49.339,80.941,72.396,58.55599999999999,39.613,80.884,81.70100000000002,74.143,78.4,52.517,70.616,58.42,69.819,73.923,71.777,51.542,79.425,78.242,76.384,73.747,74.249,73.422,62.698,42.38399999999999,43.487,54.56441057558197,75.35668222743027,69.44386304205017,77.89057081069897,81.06215400970112,68.91909251904043]},\"name\":\"\",\"parents\":[\"world/Asia\",\"world/Europe\",\"world/Africa\",\"world/Africa\",\"world/Americas\",\"world/Oceania\",\"world/Europe\",\"world/Asia\",\"world/Asia\",\"world/Europe\",\"world/Africa\",\"world/Americas\",\"world/Europe\",\"world/Africa\",\"world/Americas\",\"world/Europe\",\"world/Africa\",\"world/Africa\",\"world/Asia\",\"world/Africa\",\"world/Americas\",\"world/Africa\",\"world/Africa\",\"world/Americas\",\"world/Asia\",\"world/Americas\",\"world/Africa\",\"world/Africa\",\"world/Africa\",\"world/Americas\",\"world/Africa\",\"world/Europe\",\"world/Americas\",\"world/Europe\",\"world/Europe\",\"world/Africa\",\"world/Americas\",\"world/Americas\",\"world/Africa\",\"world/Americas\",\"world/Africa\",\"world/Africa\",\"world/Africa\",\"world/Europe\",\"world/Europe\",\"world/Africa\",\"world/Africa\",\"world/Europe\",\"world/Africa\",\"world/Europe\",\"world/Americas\",\"world/Africa\",\"world/Africa\",\"world/Americas\",\"world/Americas\",\"world/Asia\",\"world/Europe\",\"world/Europe\",\"world/Asia\",\"world/Asia\",\"world/Asia\",\"world/Asia\",\"world/Europe\",\"world/Asia\",\"world/Europe\",\"world/Americas\",\"world/Asia\",\"world/Asia\",\"world/Africa\",\"world/Asia\",\"world/Asia\",\"world/Asia\",\"world/Asia\",\"world/Africa\",\"world/Africa\",\"world/Africa\",\"world/Africa\",\"world/Africa\",\"world/Asia\",\"world/Africa\",\"world/Africa\",\"world/Africa\",\"world/Americas\",\"world/Asia\",\"world/Europe\",\"world/Africa\",\"world/Africa\",\"world/Asia\",\"world/Africa\",\"world/Asia\",\"world/Europe\",\"world/Oceania\",\"world/Americas\",\"world/Africa\",\"world/Africa\",\"world/Europe\",\"world/Asia\",\"world/Asia\",\"world/Americas\",\"world/Americas\",\"world/Americas\",\"world/Asia\",\"world/Europe\",\"world/Europe\",\"world/Americas\",\"world/Africa\",\"world/Europe\",\"world/Africa\",\"world/Africa\",\"world/Asia\",\"world/Africa\",\"world/Europe\",\"world/Africa\",\"world/Asia\",\"world/Europe\",\"world/Europe\",\"world/Africa\",\"world/Africa\",\"world/Europe\",\"world/Asia\",\"world/Africa\",\"world/Africa\",\"world/Europe\",\"world/Europe\",\"world/Asia\",\"world/Asia\",\"world/Africa\",\"world/Asia\",\"world/Africa\",\"world/Americas\",\"world/Africa\",\"world/Europe\",\"world/Africa\",\"world/Europe\",\"world/Americas\",\"world/Americas\",\"world/Americas\",\"world/Asia\",\"world/Asia\",\"world/Asia\",\"world/Africa\",\"world/Africa\",\"world\",\"world\",\"world\",\"world\",\"world\",\"\"],\"values\":[31889923,3600523,33333216,12420476,40301927,20434176,8199783,708573,150448339,10392226,8078314,9119152,4552198,1639131,190010647,7322858,14326203,8390505,14131858,17696293,33390141,4369038,10238807,16284741,1318683096,44227550,710960,64606759,3800610,4133884,18013409,4493312,11416987,10228744,5468120,496374,9319622,13755680,80264543,6939688,551201,4906585,76511887,5238460,61083916,1454867,1688359,82400996,22873338,10706290,12572928,9947814,1472041,8502814,7483763,6980412,9956108,301931,1110396331,223547000,69453570,27499638,4109086,6426679,58147733,2780132,127467972,6053193,35610177,23301725,49044790,2505559,3921278,2012649,3193942,6036914,19167654,13327079,24821286,12031795,3270065,1250882,108700891,2874127,684736,33757175,19951656,47761980,2055080,28901790,16570613,4115771,5675356,12894865,135031164,4627926,3204897,169270617,3242173,6667147,28674757,91077287,38518241,10642836,3942491,798094,22276056,8860588,199579,27601038,12267493,10150265,6144562,4553009,5447502,2009245,9118773,43997828,40448191,20378239,42292929,1133066,9031088,7554661,19314747,23174294,38139640,65068149,5701579,1056608,10276158,71158647,29170398,60776238,301139947,3447496,26084662,85262356,4018332,22211743,11746035,12311143,929539692,898871184,3811953827,586098529,24549947,6251013179],\"type\":\"treemap\"}],                        {\"template\":{\"data\":{\"bar\":[{\"error_x\":{\"color\":\"#2a3f5f\"},\"error_y\":{\"color\":\"#2a3f5f\"},\"marker\":{\"line\":{\"color\":\"#E5ECF6\",\"width\":0.5},\"pattern\":{\"fillmode\":\"overlay\",\"size\":10,\"solidity\":0.2}},\"type\":\"bar\"}],\"barpolar\":[{\"marker\":{\"line\":{\"color\":\"#E5ECF6\",\"width\":0.5},\"pattern\":{\"fillmode\":\"overlay\",\"size\":10,\"solidity\":0.2}},\"type\":\"barpolar\"}],\"carpet\":[{\"aaxis\":{\"endlinecolor\":\"#2a3f5f\",\"gridcolor\":\"white\",\"linecolor\":\"white\",\"minorgridcolor\":\"white\",\"startlinecolor\":\"#2a3f5f\"},\"baxis\":{\"endlinecolor\":\"#2a3f5f\",\"gridcolor\":\"white\",\"linecolor\":\"white\",\"minorgridcolor\":\"white\",\"startlinecolor\":\"#2a3f5f\"},\"type\":\"carpet\"}],\"choropleth\":[{\"colorbar\":{\"outlinewidth\":0,\"ticks\":\"\"},\"type\":\"choropleth\"}],\"contour\":[{\"colorbar\":{\"outlinewidth\":0,\"ticks\":\"\"},\"colorscale\":[[0.0,\"#0d0887\"],[0.1111111111111111,\"#46039f\"],[0.2222222222222222,\"#7201a8\"],[0.3333333333333333,\"#9c179e\"],[0.4444444444444444,\"#bd3786\"],[0.5555555555555556,\"#d8576b\"],[0.6666666666666666,\"#ed7953\"],[0.7777777777777778,\"#fb9f3a\"],[0.8888888888888888,\"#fdca26\"],[1.0,\"#f0f921\"]],\"type\":\"contour\"}],\"contourcarpet\":[{\"colorbar\":{\"outlinewidth\":0,\"ticks\":\"\"},\"type\":\"contourcarpet\"}],\"heatmap\":[{\"colorbar\":{\"outlinewidth\":0,\"ticks\":\"\"},\"colorscale\":[[0.0,\"#0d0887\"],[0.1111111111111111,\"#46039f\"],[0.2222222222222222,\"#7201a8\"],[0.3333333333333333,\"#9c179e\"],[0.4444444444444444,\"#bd3786\"],[0.5555555555555556,\"#d8576b\"],[0.6666666666666666,\"#ed7953\"],[0.7777777777777778,\"#fb9f3a\"],[0.8888888888888888,\"#fdca26\"],[1.0,\"#f0f921\"]],\"type\":\"heatmap\"}],\"heatmapgl\":[{\"colorbar\":{\"outlinewidth\":0,\"ticks\":\"\"},\"colorscale\":[[0.0,\"#0d0887\"],[0.1111111111111111,\"#46039f\"],[0.2222222222222222,\"#7201a8\"],[0.3333333333333333,\"#9c179e\"],[0.4444444444444444,\"#bd3786\"],[0.5555555555555556,\"#d8576b\"],[0.6666666666666666,\"#ed7953\"],[0.7777777777777778,\"#fb9f3a\"],[0.8888888888888888,\"#fdca26\"],[1.0,\"#f0f921\"]],\"type\":\"heatmapgl\"}],\"histogram\":[{\"marker\":{\"pattern\":{\"fillmode\":\"overlay\",\"size\":10,\"solidity\":0.2}},\"type\":\"histogram\"}],\"histogram2d\":[{\"colorbar\":{\"outlinewidth\":0,\"ticks\":\"\"},\"colorscale\":[[0.0,\"#0d0887\"],[0.1111111111111111,\"#46039f\"],[0.2222222222222222,\"#7201a8\"],[0.3333333333333333,\"#9c179e\"],[0.4444444444444444,\"#bd3786\"],[0.5555555555555556,\"#d8576b\"],[0.6666666666666666,\"#ed7953\"],[0.7777777777777778,\"#fb9f3a\"],[0.8888888888888888,\"#fdca26\"],[1.0,\"#f0f921\"]],\"type\":\"histogram2d\"}],\"histogram2dcontour\":[{\"colorbar\":{\"outlinewidth\":0,\"ticks\":\"\"},\"colorscale\":[[0.0,\"#0d0887\"],[0.1111111111111111,\"#46039f\"],[0.2222222222222222,\"#7201a8\"],[0.3333333333333333,\"#9c179e\"],[0.4444444444444444,\"#bd3786\"],[0.5555555555555556,\"#d8576b\"],[0.6666666666666666,\"#ed7953\"],[0.7777777777777778,\"#fb9f3a\"],[0.8888888888888888,\"#fdca26\"],[1.0,\"#f0f921\"]],\"type\":\"histogram2dcontour\"}],\"mesh3d\":[{\"colorbar\":{\"outlinewidth\":0,\"ticks\":\"\"},\"type\":\"mesh3d\"}],\"parcoords\":[{\"line\":{\"colorbar\":{\"outlinewidth\":0,\"ticks\":\"\"}},\"type\":\"parcoords\"}],\"pie\":[{\"automargin\":true,\"type\":\"pie\"}],\"scatter\":[{\"marker\":{\"colorbar\":{\"outlinewidth\":0,\"ticks\":\"\"}},\"type\":\"scatter\"}],\"scatter3d\":[{\"line\":{\"colorbar\":{\"outlinewidth\":0,\"ticks\":\"\"}},\"marker\":{\"colorbar\":{\"outlinewidth\":0,\"ticks\":\"\"}},\"type\":\"scatter3d\"}],\"scattercarpet\":[{\"marker\":{\"colorbar\":{\"outlinewidth\":0,\"ticks\":\"\"}},\"type\":\"scattercarpet\"}],\"scattergeo\":[{\"marker\":{\"colorbar\":{\"outlinewidth\":0,\"ticks\":\"\"}},\"type\":\"scattergeo\"}],\"scattergl\":[{\"marker\":{\"colorbar\":{\"outlinewidth\":0,\"ticks\":\"\"}},\"type\":\"scattergl\"}],\"scattermapbox\":[{\"marker\":{\"colorbar\":{\"outlinewidth\":0,\"ticks\":\"\"}},\"type\":\"scattermapbox\"}],\"scatterpolar\":[{\"marker\":{\"colorbar\":{\"outlinewidth\":0,\"ticks\":\"\"}},\"type\":\"scatterpolar\"}],\"scatterpolargl\":[{\"marker\":{\"colorbar\":{\"outlinewidth\":0,\"ticks\":\"\"}},\"type\":\"scatterpolargl\"}],\"scatterternary\":[{\"marker\":{\"colorbar\":{\"outlinewidth\":0,\"ticks\":\"\"}},\"type\":\"scatterternary\"}],\"surface\":[{\"colorbar\":{\"outlinewidth\":0,\"ticks\":\"\"},\"colorscale\":[[0.0,\"#0d0887\"],[0.1111111111111111,\"#46039f\"],[0.2222222222222222,\"#7201a8\"],[0.3333333333333333,\"#9c179e\"],[0.4444444444444444,\"#bd3786\"],[0.5555555555555556,\"#d8576b\"],[0.6666666666666666,\"#ed7953\"],[0.7777777777777778,\"#fb9f3a\"],[0.8888888888888888,\"#fdca26\"],[1.0,\"#f0f921\"]],\"type\":\"surface\"}],\"table\":[{\"cells\":{\"fill\":{\"color\":\"#EBF0F8\"},\"line\":{\"color\":\"white\"}},\"header\":{\"fill\":{\"color\":\"#C8D4E3\"},\"line\":{\"color\":\"white\"}},\"type\":\"table\"}]},\"layout\":{\"annotationdefaults\":{\"arrowcolor\":\"#2a3f5f\",\"arrowhead\":0,\"arrowwidth\":1},\"autotypenumbers\":\"strict\",\"coloraxis\":{\"colorbar\":{\"outlinewidth\":0,\"ticks\":\"\"}},\"colorscale\":{\"diverging\":[[0,\"#8e0152\"],[0.1,\"#c51b7d\"],[0.2,\"#de77ae\"],[0.3,\"#f1b6da\"],[0.4,\"#fde0ef\"],[0.5,\"#f7f7f7\"],[0.6,\"#e6f5d0\"],[0.7,\"#b8e186\"],[0.8,\"#7fbc41\"],[0.9,\"#4d9221\"],[1,\"#276419\"]],\"sequential\":[[0.0,\"#0d0887\"],[0.1111111111111111,\"#46039f\"],[0.2222222222222222,\"#7201a8\"],[0.3333333333333333,\"#9c179e\"],[0.4444444444444444,\"#bd3786\"],[0.5555555555555556,\"#d8576b\"],[0.6666666666666666,\"#ed7953\"],[0.7777777777777778,\"#fb9f3a\"],[0.8888888888888888,\"#fdca26\"],[1.0,\"#f0f921\"]],\"sequentialminus\":[[0.0,\"#0d0887\"],[0.1111111111111111,\"#46039f\"],[0.2222222222222222,\"#7201a8\"],[0.3333333333333333,\"#9c179e\"],[0.4444444444444444,\"#bd3786\"],[0.5555555555555556,\"#d8576b\"],[0.6666666666666666,\"#ed7953\"],[0.7777777777777778,\"#fb9f3a\"],[0.8888888888888888,\"#fdca26\"],[1.0,\"#f0f921\"]]},\"colorway\":[\"#636efa\",\"#EF553B\",\"#00cc96\",\"#ab63fa\",\"#FFA15A\",\"#19d3f3\",\"#FF6692\",\"#B6E880\",\"#FF97FF\",\"#FECB52\"],\"font\":{\"color\":\"#2a3f5f\"},\"geo\":{\"bgcolor\":\"white\",\"lakecolor\":\"white\",\"landcolor\":\"#E5ECF6\",\"showlakes\":true,\"showland\":true,\"subunitcolor\":\"white\"},\"hoverlabel\":{\"align\":\"left\"},\"hovermode\":\"closest\",\"mapbox\":{\"style\":\"light\"},\"paper_bgcolor\":\"white\",\"plot_bgcolor\":\"#E5ECF6\",\"polar\":{\"angularaxis\":{\"gridcolor\":\"white\",\"linecolor\":\"white\",\"ticks\":\"\"},\"bgcolor\":\"#E5ECF6\",\"radialaxis\":{\"gridcolor\":\"white\",\"linecolor\":\"white\",\"ticks\":\"\"}},\"scene\":{\"xaxis\":{\"backgroundcolor\":\"#E5ECF6\",\"gridcolor\":\"white\",\"gridwidth\":2,\"linecolor\":\"white\",\"showbackground\":true,\"ticks\":\"\",\"zerolinecolor\":\"white\"},\"yaxis\":{\"backgroundcolor\":\"#E5ECF6\",\"gridcolor\":\"white\",\"gridwidth\":2,\"linecolor\":\"white\",\"showbackground\":true,\"ticks\":\"\",\"zerolinecolor\":\"white\"},\"zaxis\":{\"backgroundcolor\":\"#E5ECF6\",\"gridcolor\":\"white\",\"gridwidth\":2,\"linecolor\":\"white\",\"showbackground\":true,\"ticks\":\"\",\"zerolinecolor\":\"white\"}},\"shapedefaults\":{\"line\":{\"color\":\"#2a3f5f\"}},\"ternary\":{\"aaxis\":{\"gridcolor\":\"white\",\"linecolor\":\"white\",\"ticks\":\"\"},\"baxis\":{\"gridcolor\":\"white\",\"linecolor\":\"white\",\"ticks\":\"\"},\"bgcolor\":\"#E5ECF6\",\"caxis\":{\"gridcolor\":\"white\",\"linecolor\":\"white\",\"ticks\":\"\"}},\"title\":{\"x\":0.05},\"xaxis\":{\"automargin\":true,\"gridcolor\":\"white\",\"linecolor\":\"white\",\"ticks\":\"\",\"title\":{\"standoff\":15},\"zerolinecolor\":\"white\",\"zerolinewidth\":2},\"yaxis\":{\"automargin\":true,\"gridcolor\":\"white\",\"linecolor\":\"white\",\"ticks\":\"\",\"title\":{\"standoff\":15},\"zerolinecolor\":\"white\",\"zerolinewidth\":2}}},\"coloraxis\":{\"colorbar\":{\"title\":{\"text\":\"lifeExp\"}},\"colorscale\":[[0.0,\"rgb(103,0,31)\"],[0.1,\"rgb(178,24,43)\"],[0.2,\"rgb(214,96,77)\"],[0.3,\"rgb(244,165,130)\"],[0.4,\"rgb(253,219,199)\"],[0.5,\"rgb(247,247,247)\"],[0.6,\"rgb(209,229,240)\"],[0.7,\"rgb(146,197,222)\"],[0.8,\"rgb(67,147,195)\"],[0.9,\"rgb(33,102,172)\"],[1.0,\"rgb(5,48,97)\"]]},\"legend\":{\"tracegroupgap\":0},\"margin\":{\"t\":50,\"l\":25,\"r\":25,\"b\":25}},                        {\"responsive\": true}                    ).then(function(){\n",
              "                            \n",
              "var gd = document.getElementById('c88aad96-8af6-4e4e-9880-ae8a332f2f29');\n",
              "var x = new MutationObserver(function (mutations, observer) {{\n",
              "        var display = window.getComputedStyle(gd).display;\n",
              "        if (!display || display === 'none') {{\n",
              "            console.log([gd, 'removed!']);\n",
              "            Plotly.purge(gd);\n",
              "            observer.disconnect();\n",
              "        }}\n",
              "}});\n",
              "\n",
              "// Listen for the removal of the full notebook cells\n",
              "var notebookContainer = gd.closest('#notebook-container');\n",
              "if (notebookContainer) {{\n",
              "    x.observe(notebookContainer, {childList: true});\n",
              "}}\n",
              "\n",
              "// Listen for the clearing of the current output cell\n",
              "var outputEl = gd.closest('.output');\n",
              "if (outputEl) {{\n",
              "    x.observe(outputEl, {childList: true});\n",
              "}}\n",
              "\n",
              "                        })                };                            </script>        </div>\n",
              "</body>\n",
              "</html>"
            ]
          },
          "metadata": {}
        }
      ]
    },
    {
      "cell_type": "markdown",
      "source": [
        "The above visualization is not fair; it does not consider the population size of different countries. So, let's normalize the color scale by population size. \n",
        "\n",
        "In plotly, we can achieve that by setting the mid-point of the color scale."
      ],
      "metadata": {
        "id": "E_avknw-zeP5"
      }
    },
    {
      "cell_type": "code",
      "source": [
        "# the life expectance is weighted by a country's population size\n",
        "midpoint = np.average(df_country['lifeExp'], weights=df_country['pop'])\n",
        "display(midpoint)"
      ],
      "metadata": {
        "colab": {
          "base_uri": "https://localhost:8080/",
          "height": 32
        },
        "id": "cccHOIDwz8W9",
        "outputId": "86d382b2-5c5d-4124-b7b8-28120b6a7dcd"
      },
      "execution_count": null,
      "outputs": [
        {
          "output_type": "display_data",
          "data": {
            "text/plain": [
              "68.91909251904043"
            ]
          },
          "metadata": {}
        }
      ]
    },
    {
      "cell_type": "code",
      "source": [
        "fig = px.treemap(\n",
        "  df_country, \n",
        "  path=[px.Constant(\"world\"), 'continent', 'country'], \n",
        "  values='pop',\n",
        "  color='lifeExp', \n",
        "  hover_data=['iso_alpha'], \n",
        "  color_continuous_scale='RdBu',\n",
        "  color_continuous_midpoint=midpoint,\n",
        ")\n",
        "\n",
        "fig.update_layout(\n",
        "  margin = dict(t=50, l=25, r=25, b=25)\n",
        ")\n",
        "\n",
        "fig.show()"
      ],
      "metadata": {
        "colab": {
          "base_uri": "https://localhost:8080/",
          "height": 542
        },
        "id": "UFSuUgrMzOQC",
        "outputId": "f567026d-f024-479c-ae2c-ee446ce21009"
      },
      "execution_count": null,
      "outputs": [
        {
          "output_type": "display_data",
          "data": {
            "text/html": [
              "<html>\n",
              "<head><meta charset=\"utf-8\" /></head>\n",
              "<body>\n",
              "    <div>            <script src=\"https://cdnjs.cloudflare.com/ajax/libs/mathjax/2.7.5/MathJax.js?config=TeX-AMS-MML_SVG\"></script><script type=\"text/javascript\">if (window.MathJax) {MathJax.Hub.Config({SVG: {font: \"STIX-Web\"}});}</script>                <script type=\"text/javascript\">window.PlotlyConfig = {MathJaxConfig: 'local'};</script>\n",
              "        <script src=\"https://cdn.plot.ly/plotly-2.8.3.min.js\"></script>                <div id=\"d6c02720-37db-42ad-8945-2a54487c121a\" class=\"plotly-graph-div\" style=\"height:525px; width:100%;\"></div>            <script type=\"text/javascript\">                                    window.PLOTLYENV=window.PLOTLYENV || {};                                    if (document.getElementById(\"d6c02720-37db-42ad-8945-2a54487c121a\")) {                    Plotly.newPlot(                        \"d6c02720-37db-42ad-8945-2a54487c121a\",                        [{\"branchvalues\":\"total\",\"customdata\":[[\"AFG\",43.828],[\"ALB\",76.423],[\"DZA\",72.301],[\"AGO\",42.731],[\"ARG\",75.32],[\"AUS\",81.235],[\"AUT\",79.829],[\"BHR\",75.635],[\"BGD\",64.062],[\"BEL\",79.441],[\"BEN\",56.728],[\"BOL\",65.554],[\"BIH\",74.852],[\"BWA\",50.728],[\"BRA\",72.39],[\"BGR\",73.005],[\"BFA\",52.295],[\"BDI\",49.58],[\"KHM\",59.723],[\"CMR\",50.43],[\"CAN\",80.65300000000002],[\"CAF\",44.74100000000001],[\"TCD\",50.651],[\"CHL\",78.553],[\"CHN\",72.961],[\"COL\",72.889],[\"COM\",65.152],[\"COD\",46.462],[\"COG\",55.322],[\"CRI\",78.782],[\"CIV\",48.328],[\"HRV\",75.748],[\"CUB\",78.273],[\"CZE\",76.486],[\"DNK\",78.332],[\"DJI\",54.791],[\"DOM\",72.235],[\"ECU\",74.994],[\"EGY\",71.33800000000002],[\"SLV\",71.878],[\"GNQ\",51.57899999999999],[\"ERI\",58.03999999999999],[\"ETH\",52.947],[\"FIN\",79.313],[\"FRA\",80.65699999999998],[\"GAB\",56.73500000000001],[\"GMB\",59.448],[\"DEU\",79.406],[\"GHA\",60.02199999999999],[\"GRC\",79.483],[\"GTM\",70.259],[\"GIN\",56.007],[\"GNB\",46.38800000000001],[\"HTI\",60.916],[\"HND\",70.19800000000001],[\"HKG\",82.208],[\"HUN\",73.33800000000002],[\"ISL\",81.757],[\"IND\",64.69800000000001],[\"IDN\",70.65],[\"IRN\",70.964],[\"IRQ\",59.545],[\"IRL\",78.885],[\"ISR\",80.745],[\"ITA\",80.546],[\"JAM\",72.567],[\"JPN\",82.603],[\"JOR\",72.535],[\"KEN\",54.11],[\"KOR\",67.297],[\"KOR\",78.623],[\"KWT\",77.58800000000002],[\"LBN\",71.993],[\"LSO\",42.592],[\"LBR\",45.678],[\"LBY\",73.952],[\"MDG\",59.443000000000005],[\"MWI\",48.303],[\"MYS\",74.241],[\"MLI\",54.467],[\"MRT\",64.164],[\"MUS\",72.801],[\"MEX\",76.195],[\"MNG\",66.803],[\"MNE\",74.543],[\"MAR\",71.164],[\"MOZ\",42.082],[\"MMR\",62.06900000000001],[\"NAM\",52.90600000000001],[\"NPL\",63.785],[\"NLD\",79.762],[\"NZL\",80.204],[\"NIC\",72.899],[\"NER\",56.867],[\"NGA\",46.859],[\"NOR\",80.196],[\"OMN\",75.64],[\"PAK\",65.483],[\"PAN\",75.53699999999998],[\"PRY\",71.752],[\"PER\",71.421],[\"PHL\",71.688],[\"POL\",75.563],[\"PRT\",78.098],[\"PRI\",78.74600000000002],[\"REU\",76.442],[\"ROU\",72.476],[\"RWA\",46.242],[\"STP\",65.528],[\"SAU\",72.777],[\"SEN\",63.062],[\"SRB\",74.002],[\"SLE\",42.56800000000001],[\"SGP\",79.972],[\"SVK\",74.663],[\"SVN\",77.926],[\"SOM\",48.159],[\"ZAF\",49.339],[\"ESP\",80.941],[\"LKA\",72.396],[\"SDN\",58.55599999999999],[\"SWZ\",39.613],[\"SWE\",80.884],[\"CHE\",81.70100000000002],[\"SYR\",74.143],[\"TWN\",78.4],[\"TZA\",52.517],[\"THA\",70.616],[\"TGO\",58.42],[\"TTO\",69.819],[\"TUN\",73.923],[\"TUR\",71.777],[\"UGA\",51.542],[\"GBR\",79.425],[\"USA\",78.242],[\"URY\",76.384],[\"VEN\",73.747],[\"VNM\",74.249],[\"PSE\",73.422],[\"YEM\",62.698],[\"ZMB\",42.38399999999999],[\"ZWE\",43.487],[\"(?)\",54.56441057558197],[\"(?)\",75.35668222743027],[\"(?)\",69.44386304205017],[\"(?)\",77.89057081069897],[\"(?)\",81.06215400970112],[\"(?)\",68.91909251904043]],\"domain\":{\"x\":[0.0,1.0],\"y\":[0.0,1.0]},\"hovertemplate\":\"labels=%{label}<br>pop=%{value}<br>parent=%{parent}<br>id=%{id}<br>iso_alpha=%{customdata[0]}<br>lifeExp=%{color}<extra></extra>\",\"ids\":[\"world/Asia/Afghanistan\",\"world/Europe/Albania\",\"world/Africa/Algeria\",\"world/Africa/Angola\",\"world/Americas/Argentina\",\"world/Oceania/Australia\",\"world/Europe/Austria\",\"world/Asia/Bahrain\",\"world/Asia/Bangladesh\",\"world/Europe/Belgium\",\"world/Africa/Benin\",\"world/Americas/Bolivia\",\"world/Europe/Bosnia and Herzegovina\",\"world/Africa/Botswana\",\"world/Americas/Brazil\",\"world/Europe/Bulgaria\",\"world/Africa/Burkina Faso\",\"world/Africa/Burundi\",\"world/Asia/Cambodia\",\"world/Africa/Cameroon\",\"world/Americas/Canada\",\"world/Africa/Central African Republic\",\"world/Africa/Chad\",\"world/Americas/Chile\",\"world/Asia/China\",\"world/Americas/Colombia\",\"world/Africa/Comoros\",\"world/Africa/Congo, Dem. Rep.\",\"world/Africa/Congo, Rep.\",\"world/Americas/Costa Rica\",\"world/Africa/Cote d'Ivoire\",\"world/Europe/Croatia\",\"world/Americas/Cuba\",\"world/Europe/Czech Republic\",\"world/Europe/Denmark\",\"world/Africa/Djibouti\",\"world/Americas/Dominican Republic\",\"world/Americas/Ecuador\",\"world/Africa/Egypt\",\"world/Americas/El Salvador\",\"world/Africa/Equatorial Guinea\",\"world/Africa/Eritrea\",\"world/Africa/Ethiopia\",\"world/Europe/Finland\",\"world/Europe/France\",\"world/Africa/Gabon\",\"world/Africa/Gambia\",\"world/Europe/Germany\",\"world/Africa/Ghana\",\"world/Europe/Greece\",\"world/Americas/Guatemala\",\"world/Africa/Guinea\",\"world/Africa/Guinea-Bissau\",\"world/Americas/Haiti\",\"world/Americas/Honduras\",\"world/Asia/Hong Kong, China\",\"world/Europe/Hungary\",\"world/Europe/Iceland\",\"world/Asia/India\",\"world/Asia/Indonesia\",\"world/Asia/Iran\",\"world/Asia/Iraq\",\"world/Europe/Ireland\",\"world/Asia/Israel\",\"world/Europe/Italy\",\"world/Americas/Jamaica\",\"world/Asia/Japan\",\"world/Asia/Jordan\",\"world/Africa/Kenya\",\"world/Asia/Korea, Dem. Rep.\",\"world/Asia/Korea, Rep.\",\"world/Asia/Kuwait\",\"world/Asia/Lebanon\",\"world/Africa/Lesotho\",\"world/Africa/Liberia\",\"world/Africa/Libya\",\"world/Africa/Madagascar\",\"world/Africa/Malawi\",\"world/Asia/Malaysia\",\"world/Africa/Mali\",\"world/Africa/Mauritania\",\"world/Africa/Mauritius\",\"world/Americas/Mexico\",\"world/Asia/Mongolia\",\"world/Europe/Montenegro\",\"world/Africa/Morocco\",\"world/Africa/Mozambique\",\"world/Asia/Myanmar\",\"world/Africa/Namibia\",\"world/Asia/Nepal\",\"world/Europe/Netherlands\",\"world/Oceania/New Zealand\",\"world/Americas/Nicaragua\",\"world/Africa/Niger\",\"world/Africa/Nigeria\",\"world/Europe/Norway\",\"world/Asia/Oman\",\"world/Asia/Pakistan\",\"world/Americas/Panama\",\"world/Americas/Paraguay\",\"world/Americas/Peru\",\"world/Asia/Philippines\",\"world/Europe/Poland\",\"world/Europe/Portugal\",\"world/Americas/Puerto Rico\",\"world/Africa/Reunion\",\"world/Europe/Romania\",\"world/Africa/Rwanda\",\"world/Africa/Sao Tome and Principe\",\"world/Asia/Saudi Arabia\",\"world/Africa/Senegal\",\"world/Europe/Serbia\",\"world/Africa/Sierra Leone\",\"world/Asia/Singapore\",\"world/Europe/Slovak Republic\",\"world/Europe/Slovenia\",\"world/Africa/Somalia\",\"world/Africa/South Africa\",\"world/Europe/Spain\",\"world/Asia/Sri Lanka\",\"world/Africa/Sudan\",\"world/Africa/Swaziland\",\"world/Europe/Sweden\",\"world/Europe/Switzerland\",\"world/Asia/Syria\",\"world/Asia/Taiwan\",\"world/Africa/Tanzania\",\"world/Asia/Thailand\",\"world/Africa/Togo\",\"world/Americas/Trinidad and Tobago\",\"world/Africa/Tunisia\",\"world/Europe/Turkey\",\"world/Africa/Uganda\",\"world/Europe/United Kingdom\",\"world/Americas/United States\",\"world/Americas/Uruguay\",\"world/Americas/Venezuela\",\"world/Asia/Vietnam\",\"world/Asia/West Bank and Gaza\",\"world/Asia/Yemen, Rep.\",\"world/Africa/Zambia\",\"world/Africa/Zimbabwe\",\"world/Africa\",\"world/Americas\",\"world/Asia\",\"world/Europe\",\"world/Oceania\",\"world\"],\"labels\":[\"Afghanistan\",\"Albania\",\"Algeria\",\"Angola\",\"Argentina\",\"Australia\",\"Austria\",\"Bahrain\",\"Bangladesh\",\"Belgium\",\"Benin\",\"Bolivia\",\"Bosnia and Herzegovina\",\"Botswana\",\"Brazil\",\"Bulgaria\",\"Burkina Faso\",\"Burundi\",\"Cambodia\",\"Cameroon\",\"Canada\",\"Central African Republic\",\"Chad\",\"Chile\",\"China\",\"Colombia\",\"Comoros\",\"Congo, Dem. Rep.\",\"Congo, Rep.\",\"Costa Rica\",\"Cote d'Ivoire\",\"Croatia\",\"Cuba\",\"Czech Republic\",\"Denmark\",\"Djibouti\",\"Dominican Republic\",\"Ecuador\",\"Egypt\",\"El Salvador\",\"Equatorial Guinea\",\"Eritrea\",\"Ethiopia\",\"Finland\",\"France\",\"Gabon\",\"Gambia\",\"Germany\",\"Ghana\",\"Greece\",\"Guatemala\",\"Guinea\",\"Guinea-Bissau\",\"Haiti\",\"Honduras\",\"Hong Kong, China\",\"Hungary\",\"Iceland\",\"India\",\"Indonesia\",\"Iran\",\"Iraq\",\"Ireland\",\"Israel\",\"Italy\",\"Jamaica\",\"Japan\",\"Jordan\",\"Kenya\",\"Korea, Dem. Rep.\",\"Korea, Rep.\",\"Kuwait\",\"Lebanon\",\"Lesotho\",\"Liberia\",\"Libya\",\"Madagascar\",\"Malawi\",\"Malaysia\",\"Mali\",\"Mauritania\",\"Mauritius\",\"Mexico\",\"Mongolia\",\"Montenegro\",\"Morocco\",\"Mozambique\",\"Myanmar\",\"Namibia\",\"Nepal\",\"Netherlands\",\"New Zealand\",\"Nicaragua\",\"Niger\",\"Nigeria\",\"Norway\",\"Oman\",\"Pakistan\",\"Panama\",\"Paraguay\",\"Peru\",\"Philippines\",\"Poland\",\"Portugal\",\"Puerto Rico\",\"Reunion\",\"Romania\",\"Rwanda\",\"Sao Tome and Principe\",\"Saudi Arabia\",\"Senegal\",\"Serbia\",\"Sierra Leone\",\"Singapore\",\"Slovak Republic\",\"Slovenia\",\"Somalia\",\"South Africa\",\"Spain\",\"Sri Lanka\",\"Sudan\",\"Swaziland\",\"Sweden\",\"Switzerland\",\"Syria\",\"Taiwan\",\"Tanzania\",\"Thailand\",\"Togo\",\"Trinidad and Tobago\",\"Tunisia\",\"Turkey\",\"Uganda\",\"United Kingdom\",\"United States\",\"Uruguay\",\"Venezuela\",\"Vietnam\",\"West Bank and Gaza\",\"Yemen, Rep.\",\"Zambia\",\"Zimbabwe\",\"Africa\",\"Americas\",\"Asia\",\"Europe\",\"Oceania\",\"world\"],\"marker\":{\"coloraxis\":\"coloraxis\",\"colors\":[43.828,76.423,72.301,42.731,75.32,81.235,79.829,75.635,64.062,79.441,56.728,65.554,74.852,50.728,72.39,73.005,52.295,49.58,59.723,50.43,80.65300000000002,44.74100000000001,50.651,78.553,72.961,72.889,65.152,46.462,55.322,78.782,48.328,75.748,78.273,76.486,78.332,54.791,72.235,74.994,71.33800000000002,71.878,51.57899999999999,58.03999999999999,52.947,79.313,80.65699999999998,56.73500000000001,59.448,79.406,60.02199999999999,79.483,70.259,56.007,46.38800000000001,60.916,70.19800000000001,82.208,73.33800000000002,81.757,64.69800000000001,70.65,70.964,59.545,78.885,80.745,80.546,72.567,82.603,72.535,54.11,67.297,78.623,77.58800000000002,71.993,42.592,45.678,73.952,59.443000000000005,48.303,74.241,54.467,64.164,72.801,76.195,66.803,74.543,71.164,42.082,62.06900000000001,52.90600000000001,63.785,79.762,80.204,72.899,56.867,46.859,80.196,75.64,65.483,75.53699999999998,71.752,71.421,71.688,75.563,78.098,78.74600000000002,76.442,72.476,46.242,65.528,72.777,63.062,74.002,42.56800000000001,79.972,74.663,77.926,48.159,49.339,80.941,72.396,58.55599999999999,39.613,80.884,81.70100000000002,74.143,78.4,52.517,70.616,58.42,69.819,73.923,71.777,51.542,79.425,78.242,76.384,73.747,74.249,73.422,62.698,42.38399999999999,43.487,54.56441057558197,75.35668222743027,69.44386304205017,77.89057081069897,81.06215400970112,68.91909251904043]},\"name\":\"\",\"parents\":[\"world/Asia\",\"world/Europe\",\"world/Africa\",\"world/Africa\",\"world/Americas\",\"world/Oceania\",\"world/Europe\",\"world/Asia\",\"world/Asia\",\"world/Europe\",\"world/Africa\",\"world/Americas\",\"world/Europe\",\"world/Africa\",\"world/Americas\",\"world/Europe\",\"world/Africa\",\"world/Africa\",\"world/Asia\",\"world/Africa\",\"world/Americas\",\"world/Africa\",\"world/Africa\",\"world/Americas\",\"world/Asia\",\"world/Americas\",\"world/Africa\",\"world/Africa\",\"world/Africa\",\"world/Americas\",\"world/Africa\",\"world/Europe\",\"world/Americas\",\"world/Europe\",\"world/Europe\",\"world/Africa\",\"world/Americas\",\"world/Americas\",\"world/Africa\",\"world/Americas\",\"world/Africa\",\"world/Africa\",\"world/Africa\",\"world/Europe\",\"world/Europe\",\"world/Africa\",\"world/Africa\",\"world/Europe\",\"world/Africa\",\"world/Europe\",\"world/Americas\",\"world/Africa\",\"world/Africa\",\"world/Americas\",\"world/Americas\",\"world/Asia\",\"world/Europe\",\"world/Europe\",\"world/Asia\",\"world/Asia\",\"world/Asia\",\"world/Asia\",\"world/Europe\",\"world/Asia\",\"world/Europe\",\"world/Americas\",\"world/Asia\",\"world/Asia\",\"world/Africa\",\"world/Asia\",\"world/Asia\",\"world/Asia\",\"world/Asia\",\"world/Africa\",\"world/Africa\",\"world/Africa\",\"world/Africa\",\"world/Africa\",\"world/Asia\",\"world/Africa\",\"world/Africa\",\"world/Africa\",\"world/Americas\",\"world/Asia\",\"world/Europe\",\"world/Africa\",\"world/Africa\",\"world/Asia\",\"world/Africa\",\"world/Asia\",\"world/Europe\",\"world/Oceania\",\"world/Americas\",\"world/Africa\",\"world/Africa\",\"world/Europe\",\"world/Asia\",\"world/Asia\",\"world/Americas\",\"world/Americas\",\"world/Americas\",\"world/Asia\",\"world/Europe\",\"world/Europe\",\"world/Americas\",\"world/Africa\",\"world/Europe\",\"world/Africa\",\"world/Africa\",\"world/Asia\",\"world/Africa\",\"world/Europe\",\"world/Africa\",\"world/Asia\",\"world/Europe\",\"world/Europe\",\"world/Africa\",\"world/Africa\",\"world/Europe\",\"world/Asia\",\"world/Africa\",\"world/Africa\",\"world/Europe\",\"world/Europe\",\"world/Asia\",\"world/Asia\",\"world/Africa\",\"world/Asia\",\"world/Africa\",\"world/Americas\",\"world/Africa\",\"world/Europe\",\"world/Africa\",\"world/Europe\",\"world/Americas\",\"world/Americas\",\"world/Americas\",\"world/Asia\",\"world/Asia\",\"world/Asia\",\"world/Africa\",\"world/Africa\",\"world\",\"world\",\"world\",\"world\",\"world\",\"\"],\"values\":[31889923,3600523,33333216,12420476,40301927,20434176,8199783,708573,150448339,10392226,8078314,9119152,4552198,1639131,190010647,7322858,14326203,8390505,14131858,17696293,33390141,4369038,10238807,16284741,1318683096,44227550,710960,64606759,3800610,4133884,18013409,4493312,11416987,10228744,5468120,496374,9319622,13755680,80264543,6939688,551201,4906585,76511887,5238460,61083916,1454867,1688359,82400996,22873338,10706290,12572928,9947814,1472041,8502814,7483763,6980412,9956108,301931,1110396331,223547000,69453570,27499638,4109086,6426679,58147733,2780132,127467972,6053193,35610177,23301725,49044790,2505559,3921278,2012649,3193942,6036914,19167654,13327079,24821286,12031795,3270065,1250882,108700891,2874127,684736,33757175,19951656,47761980,2055080,28901790,16570613,4115771,5675356,12894865,135031164,4627926,3204897,169270617,3242173,6667147,28674757,91077287,38518241,10642836,3942491,798094,22276056,8860588,199579,27601038,12267493,10150265,6144562,4553009,5447502,2009245,9118773,43997828,40448191,20378239,42292929,1133066,9031088,7554661,19314747,23174294,38139640,65068149,5701579,1056608,10276158,71158647,29170398,60776238,301139947,3447496,26084662,85262356,4018332,22211743,11746035,12311143,929539692,898871184,3811953827,586098529,24549947,6251013179],\"type\":\"treemap\"}],                        {\"template\":{\"data\":{\"bar\":[{\"error_x\":{\"color\":\"#2a3f5f\"},\"error_y\":{\"color\":\"#2a3f5f\"},\"marker\":{\"line\":{\"color\":\"#E5ECF6\",\"width\":0.5},\"pattern\":{\"fillmode\":\"overlay\",\"size\":10,\"solidity\":0.2}},\"type\":\"bar\"}],\"barpolar\":[{\"marker\":{\"line\":{\"color\":\"#E5ECF6\",\"width\":0.5},\"pattern\":{\"fillmode\":\"overlay\",\"size\":10,\"solidity\":0.2}},\"type\":\"barpolar\"}],\"carpet\":[{\"aaxis\":{\"endlinecolor\":\"#2a3f5f\",\"gridcolor\":\"white\",\"linecolor\":\"white\",\"minorgridcolor\":\"white\",\"startlinecolor\":\"#2a3f5f\"},\"baxis\":{\"endlinecolor\":\"#2a3f5f\",\"gridcolor\":\"white\",\"linecolor\":\"white\",\"minorgridcolor\":\"white\",\"startlinecolor\":\"#2a3f5f\"},\"type\":\"carpet\"}],\"choropleth\":[{\"colorbar\":{\"outlinewidth\":0,\"ticks\":\"\"},\"type\":\"choropleth\"}],\"contour\":[{\"colorbar\":{\"outlinewidth\":0,\"ticks\":\"\"},\"colorscale\":[[0.0,\"#0d0887\"],[0.1111111111111111,\"#46039f\"],[0.2222222222222222,\"#7201a8\"],[0.3333333333333333,\"#9c179e\"],[0.4444444444444444,\"#bd3786\"],[0.5555555555555556,\"#d8576b\"],[0.6666666666666666,\"#ed7953\"],[0.7777777777777778,\"#fb9f3a\"],[0.8888888888888888,\"#fdca26\"],[1.0,\"#f0f921\"]],\"type\":\"contour\"}],\"contourcarpet\":[{\"colorbar\":{\"outlinewidth\":0,\"ticks\":\"\"},\"type\":\"contourcarpet\"}],\"heatmap\":[{\"colorbar\":{\"outlinewidth\":0,\"ticks\":\"\"},\"colorscale\":[[0.0,\"#0d0887\"],[0.1111111111111111,\"#46039f\"],[0.2222222222222222,\"#7201a8\"],[0.3333333333333333,\"#9c179e\"],[0.4444444444444444,\"#bd3786\"],[0.5555555555555556,\"#d8576b\"],[0.6666666666666666,\"#ed7953\"],[0.7777777777777778,\"#fb9f3a\"],[0.8888888888888888,\"#fdca26\"],[1.0,\"#f0f921\"]],\"type\":\"heatmap\"}],\"heatmapgl\":[{\"colorbar\":{\"outlinewidth\":0,\"ticks\":\"\"},\"colorscale\":[[0.0,\"#0d0887\"],[0.1111111111111111,\"#46039f\"],[0.2222222222222222,\"#7201a8\"],[0.3333333333333333,\"#9c179e\"],[0.4444444444444444,\"#bd3786\"],[0.5555555555555556,\"#d8576b\"],[0.6666666666666666,\"#ed7953\"],[0.7777777777777778,\"#fb9f3a\"],[0.8888888888888888,\"#fdca26\"],[1.0,\"#f0f921\"]],\"type\":\"heatmapgl\"}],\"histogram\":[{\"marker\":{\"pattern\":{\"fillmode\":\"overlay\",\"size\":10,\"solidity\":0.2}},\"type\":\"histogram\"}],\"histogram2d\":[{\"colorbar\":{\"outlinewidth\":0,\"ticks\":\"\"},\"colorscale\":[[0.0,\"#0d0887\"],[0.1111111111111111,\"#46039f\"],[0.2222222222222222,\"#7201a8\"],[0.3333333333333333,\"#9c179e\"],[0.4444444444444444,\"#bd3786\"],[0.5555555555555556,\"#d8576b\"],[0.6666666666666666,\"#ed7953\"],[0.7777777777777778,\"#fb9f3a\"],[0.8888888888888888,\"#fdca26\"],[1.0,\"#f0f921\"]],\"type\":\"histogram2d\"}],\"histogram2dcontour\":[{\"colorbar\":{\"outlinewidth\":0,\"ticks\":\"\"},\"colorscale\":[[0.0,\"#0d0887\"],[0.1111111111111111,\"#46039f\"],[0.2222222222222222,\"#7201a8\"],[0.3333333333333333,\"#9c179e\"],[0.4444444444444444,\"#bd3786\"],[0.5555555555555556,\"#d8576b\"],[0.6666666666666666,\"#ed7953\"],[0.7777777777777778,\"#fb9f3a\"],[0.8888888888888888,\"#fdca26\"],[1.0,\"#f0f921\"]],\"type\":\"histogram2dcontour\"}],\"mesh3d\":[{\"colorbar\":{\"outlinewidth\":0,\"ticks\":\"\"},\"type\":\"mesh3d\"}],\"parcoords\":[{\"line\":{\"colorbar\":{\"outlinewidth\":0,\"ticks\":\"\"}},\"type\":\"parcoords\"}],\"pie\":[{\"automargin\":true,\"type\":\"pie\"}],\"scatter\":[{\"marker\":{\"colorbar\":{\"outlinewidth\":0,\"ticks\":\"\"}},\"type\":\"scatter\"}],\"scatter3d\":[{\"line\":{\"colorbar\":{\"outlinewidth\":0,\"ticks\":\"\"}},\"marker\":{\"colorbar\":{\"outlinewidth\":0,\"ticks\":\"\"}},\"type\":\"scatter3d\"}],\"scattercarpet\":[{\"marker\":{\"colorbar\":{\"outlinewidth\":0,\"ticks\":\"\"}},\"type\":\"scattercarpet\"}],\"scattergeo\":[{\"marker\":{\"colorbar\":{\"outlinewidth\":0,\"ticks\":\"\"}},\"type\":\"scattergeo\"}],\"scattergl\":[{\"marker\":{\"colorbar\":{\"outlinewidth\":0,\"ticks\":\"\"}},\"type\":\"scattergl\"}],\"scattermapbox\":[{\"marker\":{\"colorbar\":{\"outlinewidth\":0,\"ticks\":\"\"}},\"type\":\"scattermapbox\"}],\"scatterpolar\":[{\"marker\":{\"colorbar\":{\"outlinewidth\":0,\"ticks\":\"\"}},\"type\":\"scatterpolar\"}],\"scatterpolargl\":[{\"marker\":{\"colorbar\":{\"outlinewidth\":0,\"ticks\":\"\"}},\"type\":\"scatterpolargl\"}],\"scatterternary\":[{\"marker\":{\"colorbar\":{\"outlinewidth\":0,\"ticks\":\"\"}},\"type\":\"scatterternary\"}],\"surface\":[{\"colorbar\":{\"outlinewidth\":0,\"ticks\":\"\"},\"colorscale\":[[0.0,\"#0d0887\"],[0.1111111111111111,\"#46039f\"],[0.2222222222222222,\"#7201a8\"],[0.3333333333333333,\"#9c179e\"],[0.4444444444444444,\"#bd3786\"],[0.5555555555555556,\"#d8576b\"],[0.6666666666666666,\"#ed7953\"],[0.7777777777777778,\"#fb9f3a\"],[0.8888888888888888,\"#fdca26\"],[1.0,\"#f0f921\"]],\"type\":\"surface\"}],\"table\":[{\"cells\":{\"fill\":{\"color\":\"#EBF0F8\"},\"line\":{\"color\":\"white\"}},\"header\":{\"fill\":{\"color\":\"#C8D4E3\"},\"line\":{\"color\":\"white\"}},\"type\":\"table\"}]},\"layout\":{\"annotationdefaults\":{\"arrowcolor\":\"#2a3f5f\",\"arrowhead\":0,\"arrowwidth\":1},\"autotypenumbers\":\"strict\",\"coloraxis\":{\"colorbar\":{\"outlinewidth\":0,\"ticks\":\"\"}},\"colorscale\":{\"diverging\":[[0,\"#8e0152\"],[0.1,\"#c51b7d\"],[0.2,\"#de77ae\"],[0.3,\"#f1b6da\"],[0.4,\"#fde0ef\"],[0.5,\"#f7f7f7\"],[0.6,\"#e6f5d0\"],[0.7,\"#b8e186\"],[0.8,\"#7fbc41\"],[0.9,\"#4d9221\"],[1,\"#276419\"]],\"sequential\":[[0.0,\"#0d0887\"],[0.1111111111111111,\"#46039f\"],[0.2222222222222222,\"#7201a8\"],[0.3333333333333333,\"#9c179e\"],[0.4444444444444444,\"#bd3786\"],[0.5555555555555556,\"#d8576b\"],[0.6666666666666666,\"#ed7953\"],[0.7777777777777778,\"#fb9f3a\"],[0.8888888888888888,\"#fdca26\"],[1.0,\"#f0f921\"]],\"sequentialminus\":[[0.0,\"#0d0887\"],[0.1111111111111111,\"#46039f\"],[0.2222222222222222,\"#7201a8\"],[0.3333333333333333,\"#9c179e\"],[0.4444444444444444,\"#bd3786\"],[0.5555555555555556,\"#d8576b\"],[0.6666666666666666,\"#ed7953\"],[0.7777777777777778,\"#fb9f3a\"],[0.8888888888888888,\"#fdca26\"],[1.0,\"#f0f921\"]]},\"colorway\":[\"#636efa\",\"#EF553B\",\"#00cc96\",\"#ab63fa\",\"#FFA15A\",\"#19d3f3\",\"#FF6692\",\"#B6E880\",\"#FF97FF\",\"#FECB52\"],\"font\":{\"color\":\"#2a3f5f\"},\"geo\":{\"bgcolor\":\"white\",\"lakecolor\":\"white\",\"landcolor\":\"#E5ECF6\",\"showlakes\":true,\"showland\":true,\"subunitcolor\":\"white\"},\"hoverlabel\":{\"align\":\"left\"},\"hovermode\":\"closest\",\"mapbox\":{\"style\":\"light\"},\"paper_bgcolor\":\"white\",\"plot_bgcolor\":\"#E5ECF6\",\"polar\":{\"angularaxis\":{\"gridcolor\":\"white\",\"linecolor\":\"white\",\"ticks\":\"\"},\"bgcolor\":\"#E5ECF6\",\"radialaxis\":{\"gridcolor\":\"white\",\"linecolor\":\"white\",\"ticks\":\"\"}},\"scene\":{\"xaxis\":{\"backgroundcolor\":\"#E5ECF6\",\"gridcolor\":\"white\",\"gridwidth\":2,\"linecolor\":\"white\",\"showbackground\":true,\"ticks\":\"\",\"zerolinecolor\":\"white\"},\"yaxis\":{\"backgroundcolor\":\"#E5ECF6\",\"gridcolor\":\"white\",\"gridwidth\":2,\"linecolor\":\"white\",\"showbackground\":true,\"ticks\":\"\",\"zerolinecolor\":\"white\"},\"zaxis\":{\"backgroundcolor\":\"#E5ECF6\",\"gridcolor\":\"white\",\"gridwidth\":2,\"linecolor\":\"white\",\"showbackground\":true,\"ticks\":\"\",\"zerolinecolor\":\"white\"}},\"shapedefaults\":{\"line\":{\"color\":\"#2a3f5f\"}},\"ternary\":{\"aaxis\":{\"gridcolor\":\"white\",\"linecolor\":\"white\",\"ticks\":\"\"},\"baxis\":{\"gridcolor\":\"white\",\"linecolor\":\"white\",\"ticks\":\"\"},\"bgcolor\":\"#E5ECF6\",\"caxis\":{\"gridcolor\":\"white\",\"linecolor\":\"white\",\"ticks\":\"\"}},\"title\":{\"x\":0.05},\"xaxis\":{\"automargin\":true,\"gridcolor\":\"white\",\"linecolor\":\"white\",\"ticks\":\"\",\"title\":{\"standoff\":15},\"zerolinecolor\":\"white\",\"zerolinewidth\":2},\"yaxis\":{\"automargin\":true,\"gridcolor\":\"white\",\"linecolor\":\"white\",\"ticks\":\"\",\"title\":{\"standoff\":15},\"zerolinecolor\":\"white\",\"zerolinewidth\":2}}},\"coloraxis\":{\"colorbar\":{\"title\":{\"text\":\"lifeExp\"}},\"colorscale\":[[0.0,\"rgb(103,0,31)\"],[0.1,\"rgb(178,24,43)\"],[0.2,\"rgb(214,96,77)\"],[0.3,\"rgb(244,165,130)\"],[0.4,\"rgb(253,219,199)\"],[0.5,\"rgb(247,247,247)\"],[0.6,\"rgb(209,229,240)\"],[0.7,\"rgb(146,197,222)\"],[0.8,\"rgb(67,147,195)\"],[0.9,\"rgb(33,102,172)\"],[1.0,\"rgb(5,48,97)\"]],\"cmid\":68.91909251904043},\"legend\":{\"tracegroupgap\":0},\"margin\":{\"t\":50,\"l\":25,\"r\":25,\"b\":25}},                        {\"responsive\": true}                    ).then(function(){\n",
              "                            \n",
              "var gd = document.getElementById('d6c02720-37db-42ad-8945-2a54487c121a');\n",
              "var x = new MutationObserver(function (mutations, observer) {{\n",
              "        var display = window.getComputedStyle(gd).display;\n",
              "        if (!display || display === 'none') {{\n",
              "            console.log([gd, 'removed!']);\n",
              "            Plotly.purge(gd);\n",
              "            observer.disconnect();\n",
              "        }}\n",
              "}});\n",
              "\n",
              "// Listen for the removal of the full notebook cells\n",
              "var notebookContainer = gd.closest('#notebook-container');\n",
              "if (notebookContainer) {{\n",
              "    x.observe(notebookContainer, {childList: true});\n",
              "}}\n",
              "\n",
              "// Listen for the clearing of the current output cell\n",
              "var outputEl = gd.closest('.output');\n",
              "if (outputEl) {{\n",
              "    x.observe(outputEl, {childList: true});\n",
              "}}\n",
              "\n",
              "                        })                };                            </script>        </div>\n",
              "</body>\n",
              "</html>"
            ]
          },
          "metadata": {}
        }
      ]
    },
    {
      "cell_type": "markdown",
      "source": [
        "# Sankey Diagram (Edge/Flow visualization)\n",
        "Up until now, we haven't paid attention to edge of a tree. Enter [Sankey](https://en.wikipedia.org/wiki/Sankey_diagram) diagram.\n",
        "\n",
        "A Sankey diagram is a flow diagram, in which the width of arrows is proportional to the flow quantity.\n",
        "\n",
        "[Ref](https://plotly.com/python/sankey-diagram/)\n"
      ],
      "metadata": {
        "id": "35Fqo8Ip1bdK"
      }
    },
    {
      "cell_type": "markdown",
      "source": [
        "## Basic Sankey Diagram\n",
        "\n",
        "`source` to represent the source node, \n",
        "\n",
        "`target` for the target node, \n",
        "\n",
        "`value` to set the flow volume, and \n",
        "\n",
        "`label` that shows the node name"
      ],
      "metadata": {
        "id": "2eKEPlIt2bo2"
      }
    },
    {
      "cell_type": "code",
      "source": [
        "line = {'color': \"black\", 'width': 0.5}\n",
        "print(line)\n",
        "\n",
        "node = {'pad': 15, \n",
        "        'thickness': 20, \n",
        "        'line': line,\n",
        "        'label': [\"A1\", \"A2\", \"B1\", \"B2\", \"C1\", \"C2\"],\n",
        "        'color': \"blue\"\n",
        "      }\n",
        "print(node)\n",
        "\n",
        "link = {\n",
        "      'source': [0, 1, 0, 2, 3, 3], # indices correspond to labels, (e.g., A1=0, A2=1) and (souce_i, target_i) are tuple  \n",
        "      'target': [2, 3, 3, 4, 4, 5],\n",
        "      'value' : [8, 4, 2, 8, 4, 2]\n",
        "    }\n",
        "print(link)"
      ],
      "metadata": {
        "colab": {
          "base_uri": "https://localhost:8080/"
        },
        "id": "nsVLUGwP-3iW",
        "outputId": "0a7ea279-96da-4e64-a8bc-f61c2fedeee2"
      },
      "execution_count": null,
      "outputs": [
        {
          "output_type": "stream",
          "name": "stdout",
          "text": [
            "{'color': 'black', 'width': 0.5}\n",
            "{'pad': 15, 'thickness': 20, 'line': {'color': 'black', 'width': 0.5}, 'label': ['A1', 'A2', 'B1', 'B2', 'C1', 'C2'], 'color': 'blue'}\n",
            "{'source': [0, 1, 0, 2, 3, 3], 'target': [2, 3, 3, 4, 4, 5], 'value': [8, 4, 2, 8, 4, 2]}\n"
          ]
        }
      ]
    },
    {
      "cell_type": "code",
      "source": [
        "fig = go.Figure(\n",
        "  data = [go.Sankey(node = node, link = link)]\n",
        ")\n",
        "\n",
        "fig.update_layout(\n",
        "  title_text=\"Basic Sankey Diagram\", \n",
        "  font_size=10\n",
        ")\n",
        "fig.show()"
      ],
      "metadata": {
        "colab": {
          "base_uri": "https://localhost:8080/",
          "height": 542
        },
        "id": "wQ86lcAM2kVU",
        "outputId": "39fab869-7b10-46f6-92ec-e0325a577d51"
      },
      "execution_count": null,
      "outputs": [
        {
          "output_type": "display_data",
          "data": {
            "text/html": [
              "<html>\n",
              "<head><meta charset=\"utf-8\" /></head>\n",
              "<body>\n",
              "    <div>            <script src=\"https://cdnjs.cloudflare.com/ajax/libs/mathjax/2.7.5/MathJax.js?config=TeX-AMS-MML_SVG\"></script><script type=\"text/javascript\">if (window.MathJax) {MathJax.Hub.Config({SVG: {font: \"STIX-Web\"}});}</script>                <script type=\"text/javascript\">window.PlotlyConfig = {MathJaxConfig: 'local'};</script>\n",
              "        <script src=\"https://cdn.plot.ly/plotly-2.8.3.min.js\"></script>                <div id=\"f75b8d42-6138-4007-a3dc-1a21673ada36\" class=\"plotly-graph-div\" style=\"height:525px; width:100%;\"></div>            <script type=\"text/javascript\">                                    window.PLOTLYENV=window.PLOTLYENV || {};                                    if (document.getElementById(\"f75b8d42-6138-4007-a3dc-1a21673ada36\")) {                    Plotly.newPlot(                        \"f75b8d42-6138-4007-a3dc-1a21673ada36\",                        [{\"link\":{\"source\":[0,1,0,2,3,3],\"target\":[2,3,3,4,4,5],\"value\":[8,4,2,8,4,2]},\"node\":{\"color\":\"blue\",\"label\":[\"A1\",\"A2\",\"B1\",\"B2\",\"C1\",\"C2\"],\"line\":{\"color\":\"black\",\"width\":0.5},\"pad\":15,\"thickness\":20},\"type\":\"sankey\"}],                        {\"template\":{\"data\":{\"bar\":[{\"error_x\":{\"color\":\"#2a3f5f\"},\"error_y\":{\"color\":\"#2a3f5f\"},\"marker\":{\"line\":{\"color\":\"#E5ECF6\",\"width\":0.5},\"pattern\":{\"fillmode\":\"overlay\",\"size\":10,\"solidity\":0.2}},\"type\":\"bar\"}],\"barpolar\":[{\"marker\":{\"line\":{\"color\":\"#E5ECF6\",\"width\":0.5},\"pattern\":{\"fillmode\":\"overlay\",\"size\":10,\"solidity\":0.2}},\"type\":\"barpolar\"}],\"carpet\":[{\"aaxis\":{\"endlinecolor\":\"#2a3f5f\",\"gridcolor\":\"white\",\"linecolor\":\"white\",\"minorgridcolor\":\"white\",\"startlinecolor\":\"#2a3f5f\"},\"baxis\":{\"endlinecolor\":\"#2a3f5f\",\"gridcolor\":\"white\",\"linecolor\":\"white\",\"minorgridcolor\":\"white\",\"startlinecolor\":\"#2a3f5f\"},\"type\":\"carpet\"}],\"choropleth\":[{\"colorbar\":{\"outlinewidth\":0,\"ticks\":\"\"},\"type\":\"choropleth\"}],\"contour\":[{\"colorbar\":{\"outlinewidth\":0,\"ticks\":\"\"},\"colorscale\":[[0.0,\"#0d0887\"],[0.1111111111111111,\"#46039f\"],[0.2222222222222222,\"#7201a8\"],[0.3333333333333333,\"#9c179e\"],[0.4444444444444444,\"#bd3786\"],[0.5555555555555556,\"#d8576b\"],[0.6666666666666666,\"#ed7953\"],[0.7777777777777778,\"#fb9f3a\"],[0.8888888888888888,\"#fdca26\"],[1.0,\"#f0f921\"]],\"type\":\"contour\"}],\"contourcarpet\":[{\"colorbar\":{\"outlinewidth\":0,\"ticks\":\"\"},\"type\":\"contourcarpet\"}],\"heatmap\":[{\"colorbar\":{\"outlinewidth\":0,\"ticks\":\"\"},\"colorscale\":[[0.0,\"#0d0887\"],[0.1111111111111111,\"#46039f\"],[0.2222222222222222,\"#7201a8\"],[0.3333333333333333,\"#9c179e\"],[0.4444444444444444,\"#bd3786\"],[0.5555555555555556,\"#d8576b\"],[0.6666666666666666,\"#ed7953\"],[0.7777777777777778,\"#fb9f3a\"],[0.8888888888888888,\"#fdca26\"],[1.0,\"#f0f921\"]],\"type\":\"heatmap\"}],\"heatmapgl\":[{\"colorbar\":{\"outlinewidth\":0,\"ticks\":\"\"},\"colorscale\":[[0.0,\"#0d0887\"],[0.1111111111111111,\"#46039f\"],[0.2222222222222222,\"#7201a8\"],[0.3333333333333333,\"#9c179e\"],[0.4444444444444444,\"#bd3786\"],[0.5555555555555556,\"#d8576b\"],[0.6666666666666666,\"#ed7953\"],[0.7777777777777778,\"#fb9f3a\"],[0.8888888888888888,\"#fdca26\"],[1.0,\"#f0f921\"]],\"type\":\"heatmapgl\"}],\"histogram\":[{\"marker\":{\"pattern\":{\"fillmode\":\"overlay\",\"size\":10,\"solidity\":0.2}},\"type\":\"histogram\"}],\"histogram2d\":[{\"colorbar\":{\"outlinewidth\":0,\"ticks\":\"\"},\"colorscale\":[[0.0,\"#0d0887\"],[0.1111111111111111,\"#46039f\"],[0.2222222222222222,\"#7201a8\"],[0.3333333333333333,\"#9c179e\"],[0.4444444444444444,\"#bd3786\"],[0.5555555555555556,\"#d8576b\"],[0.6666666666666666,\"#ed7953\"],[0.7777777777777778,\"#fb9f3a\"],[0.8888888888888888,\"#fdca26\"],[1.0,\"#f0f921\"]],\"type\":\"histogram2d\"}],\"histogram2dcontour\":[{\"colorbar\":{\"outlinewidth\":0,\"ticks\":\"\"},\"colorscale\":[[0.0,\"#0d0887\"],[0.1111111111111111,\"#46039f\"],[0.2222222222222222,\"#7201a8\"],[0.3333333333333333,\"#9c179e\"],[0.4444444444444444,\"#bd3786\"],[0.5555555555555556,\"#d8576b\"],[0.6666666666666666,\"#ed7953\"],[0.7777777777777778,\"#fb9f3a\"],[0.8888888888888888,\"#fdca26\"],[1.0,\"#f0f921\"]],\"type\":\"histogram2dcontour\"}],\"mesh3d\":[{\"colorbar\":{\"outlinewidth\":0,\"ticks\":\"\"},\"type\":\"mesh3d\"}],\"parcoords\":[{\"line\":{\"colorbar\":{\"outlinewidth\":0,\"ticks\":\"\"}},\"type\":\"parcoords\"}],\"pie\":[{\"automargin\":true,\"type\":\"pie\"}],\"scatter\":[{\"marker\":{\"colorbar\":{\"outlinewidth\":0,\"ticks\":\"\"}},\"type\":\"scatter\"}],\"scatter3d\":[{\"line\":{\"colorbar\":{\"outlinewidth\":0,\"ticks\":\"\"}},\"marker\":{\"colorbar\":{\"outlinewidth\":0,\"ticks\":\"\"}},\"type\":\"scatter3d\"}],\"scattercarpet\":[{\"marker\":{\"colorbar\":{\"outlinewidth\":0,\"ticks\":\"\"}},\"type\":\"scattercarpet\"}],\"scattergeo\":[{\"marker\":{\"colorbar\":{\"outlinewidth\":0,\"ticks\":\"\"}},\"type\":\"scattergeo\"}],\"scattergl\":[{\"marker\":{\"colorbar\":{\"outlinewidth\":0,\"ticks\":\"\"}},\"type\":\"scattergl\"}],\"scattermapbox\":[{\"marker\":{\"colorbar\":{\"outlinewidth\":0,\"ticks\":\"\"}},\"type\":\"scattermapbox\"}],\"scatterpolar\":[{\"marker\":{\"colorbar\":{\"outlinewidth\":0,\"ticks\":\"\"}},\"type\":\"scatterpolar\"}],\"scatterpolargl\":[{\"marker\":{\"colorbar\":{\"outlinewidth\":0,\"ticks\":\"\"}},\"type\":\"scatterpolargl\"}],\"scatterternary\":[{\"marker\":{\"colorbar\":{\"outlinewidth\":0,\"ticks\":\"\"}},\"type\":\"scatterternary\"}],\"surface\":[{\"colorbar\":{\"outlinewidth\":0,\"ticks\":\"\"},\"colorscale\":[[0.0,\"#0d0887\"],[0.1111111111111111,\"#46039f\"],[0.2222222222222222,\"#7201a8\"],[0.3333333333333333,\"#9c179e\"],[0.4444444444444444,\"#bd3786\"],[0.5555555555555556,\"#d8576b\"],[0.6666666666666666,\"#ed7953\"],[0.7777777777777778,\"#fb9f3a\"],[0.8888888888888888,\"#fdca26\"],[1.0,\"#f0f921\"]],\"type\":\"surface\"}],\"table\":[{\"cells\":{\"fill\":{\"color\":\"#EBF0F8\"},\"line\":{\"color\":\"white\"}},\"header\":{\"fill\":{\"color\":\"#C8D4E3\"},\"line\":{\"color\":\"white\"}},\"type\":\"table\"}]},\"layout\":{\"annotationdefaults\":{\"arrowcolor\":\"#2a3f5f\",\"arrowhead\":0,\"arrowwidth\":1},\"autotypenumbers\":\"strict\",\"coloraxis\":{\"colorbar\":{\"outlinewidth\":0,\"ticks\":\"\"}},\"colorscale\":{\"diverging\":[[0,\"#8e0152\"],[0.1,\"#c51b7d\"],[0.2,\"#de77ae\"],[0.3,\"#f1b6da\"],[0.4,\"#fde0ef\"],[0.5,\"#f7f7f7\"],[0.6,\"#e6f5d0\"],[0.7,\"#b8e186\"],[0.8,\"#7fbc41\"],[0.9,\"#4d9221\"],[1,\"#276419\"]],\"sequential\":[[0.0,\"#0d0887\"],[0.1111111111111111,\"#46039f\"],[0.2222222222222222,\"#7201a8\"],[0.3333333333333333,\"#9c179e\"],[0.4444444444444444,\"#bd3786\"],[0.5555555555555556,\"#d8576b\"],[0.6666666666666666,\"#ed7953\"],[0.7777777777777778,\"#fb9f3a\"],[0.8888888888888888,\"#fdca26\"],[1.0,\"#f0f921\"]],\"sequentialminus\":[[0.0,\"#0d0887\"],[0.1111111111111111,\"#46039f\"],[0.2222222222222222,\"#7201a8\"],[0.3333333333333333,\"#9c179e\"],[0.4444444444444444,\"#bd3786\"],[0.5555555555555556,\"#d8576b\"],[0.6666666666666666,\"#ed7953\"],[0.7777777777777778,\"#fb9f3a\"],[0.8888888888888888,\"#fdca26\"],[1.0,\"#f0f921\"]]},\"colorway\":[\"#636efa\",\"#EF553B\",\"#00cc96\",\"#ab63fa\",\"#FFA15A\",\"#19d3f3\",\"#FF6692\",\"#B6E880\",\"#FF97FF\",\"#FECB52\"],\"font\":{\"color\":\"#2a3f5f\"},\"geo\":{\"bgcolor\":\"white\",\"lakecolor\":\"white\",\"landcolor\":\"#E5ECF6\",\"showlakes\":true,\"showland\":true,\"subunitcolor\":\"white\"},\"hoverlabel\":{\"align\":\"left\"},\"hovermode\":\"closest\",\"mapbox\":{\"style\":\"light\"},\"paper_bgcolor\":\"white\",\"plot_bgcolor\":\"#E5ECF6\",\"polar\":{\"angularaxis\":{\"gridcolor\":\"white\",\"linecolor\":\"white\",\"ticks\":\"\"},\"bgcolor\":\"#E5ECF6\",\"radialaxis\":{\"gridcolor\":\"white\",\"linecolor\":\"white\",\"ticks\":\"\"}},\"scene\":{\"xaxis\":{\"backgroundcolor\":\"#E5ECF6\",\"gridcolor\":\"white\",\"gridwidth\":2,\"linecolor\":\"white\",\"showbackground\":true,\"ticks\":\"\",\"zerolinecolor\":\"white\"},\"yaxis\":{\"backgroundcolor\":\"#E5ECF6\",\"gridcolor\":\"white\",\"gridwidth\":2,\"linecolor\":\"white\",\"showbackground\":true,\"ticks\":\"\",\"zerolinecolor\":\"white\"},\"zaxis\":{\"backgroundcolor\":\"#E5ECF6\",\"gridcolor\":\"white\",\"gridwidth\":2,\"linecolor\":\"white\",\"showbackground\":true,\"ticks\":\"\",\"zerolinecolor\":\"white\"}},\"shapedefaults\":{\"line\":{\"color\":\"#2a3f5f\"}},\"ternary\":{\"aaxis\":{\"gridcolor\":\"white\",\"linecolor\":\"white\",\"ticks\":\"\"},\"baxis\":{\"gridcolor\":\"white\",\"linecolor\":\"white\",\"ticks\":\"\"},\"bgcolor\":\"#E5ECF6\",\"caxis\":{\"gridcolor\":\"white\",\"linecolor\":\"white\",\"ticks\":\"\"}},\"title\":{\"x\":0.05},\"xaxis\":{\"automargin\":true,\"gridcolor\":\"white\",\"linecolor\":\"white\",\"ticks\":\"\",\"title\":{\"standoff\":15},\"zerolinecolor\":\"white\",\"zerolinewidth\":2},\"yaxis\":{\"automargin\":true,\"gridcolor\":\"white\",\"linecolor\":\"white\",\"ticks\":\"\",\"title\":{\"standoff\":15},\"zerolinecolor\":\"white\",\"zerolinewidth\":2}}},\"title\":{\"text\":\"Basic Sankey Diagram\"},\"font\":{\"size\":10}},                        {\"responsive\": true}                    ).then(function(){\n",
              "                            \n",
              "var gd = document.getElementById('f75b8d42-6138-4007-a3dc-1a21673ada36');\n",
              "var x = new MutationObserver(function (mutations, observer) {{\n",
              "        var display = window.getComputedStyle(gd).display;\n",
              "        if (!display || display === 'none') {{\n",
              "            console.log([gd, 'removed!']);\n",
              "            Plotly.purge(gd);\n",
              "            observer.disconnect();\n",
              "        }}\n",
              "}});\n",
              "\n",
              "// Listen for the removal of the full notebook cells\n",
              "var notebookContainer = gd.closest('#notebook-container');\n",
              "if (notebookContainer) {{\n",
              "    x.observe(notebookContainer, {childList: true});\n",
              "}}\n",
              "\n",
              "// Listen for the clearing of the current output cell\n",
              "var outputEl = gd.closest('.output');\n",
              "if (outputEl) {{\n",
              "    x.observe(outputEl, {childList: true});\n",
              "}}\n",
              "\n",
              "                        })                };                            </script>        </div>\n",
              "</body>\n",
              "</html>"
            ]
          },
          "metadata": {}
        }
      ]
    },
    {
      "cell_type": "markdown",
      "source": [
        "## Complex one"
      ],
      "metadata": {
        "id": "EoPhc6uMBRuZ"
      }
    },
    {
      "cell_type": "code",
      "source": [
        "# Get the data in the format Plotly wants\n",
        "label_dict = { df[\"Item and Group\"][i] : i for i in range(0, len(df) ) }\n",
        "\n",
        "# Initialize empty arrays\n",
        "source = []\n",
        "target = []\n",
        "value = []\n",
        "\n",
        "for i, row in df.iterrows():\n",
        "    # Skip the root level\n",
        "    if row[\"Item and Group\"] != 'All items': \n",
        "        source.append(label_dict[row[\"Parent\"]])\n",
        "        target.append(label_dict[row[\"Item and Group\"]])\n",
        "        value.append(row[\"Weight\"])   \n",
        "\n",
        "\n",
        "# define three variables\n",
        "line = {'color': \"black\", 'width': 0.5}\n",
        "\n",
        "link = {\n",
        "      'source': source,\n",
        "      'target': target,\n",
        "      'value' : value\n",
        "    }\n",
        "\n",
        "node = {'pad': 15, \n",
        "        'thickness': 20, \n",
        "        'line': line,\n",
        "        'label': df[\"Item and Group\"].to_list(),\n",
        "        'color': \"blue\",\n",
        "        'hovertemplate': '%{label} is %{value} of spending'\n",
        "      }\n",
        "\n",
        "\n",
        "fig = go.Figure(\n",
        "  data = [go.Sankey(node = node, link = link)]\n",
        ")\n",
        "\n",
        "fig.update_layout(\n",
        "  title_text=\"Complext Sankey Diagram\", \n",
        "  font_size=10\n",
        ")\n",
        "fig.show()"
      ],
      "metadata": {
        "id": "VjZ7WDYwBTZG"
      },
      "execution_count": null,
      "outputs": []
    },
    {
      "cell_type": "markdown",
      "source": [
        "# Node/Edge Visualization\n",
        "\n",
        "d3 is better"
      ],
      "metadata": {
        "id": "Y4ZQwsNp-sYl"
      }
    },
    {
      "cell_type": "markdown",
      "source": [
        "## [Background] List, Dictionary, and JSON Basics\n",
        "\n",
        "This question refreshes the concepts of a list, dictionary, and JSON format in Python. There are plenty of online resources (e.g., https://medium.com/analytics-vidhya/python-dictionary-and-json-a-comprehensive-guide-ceed58a3e2ed) on these topics. Feel free to check those out.\n",
        "\n",
        "**Short version:**\n",
        "\n",
        "In Python, a square bracket (e.g., ```[..]```) indicates a list, and a curly bracket (e.g., ```{...}``` indicates a dictionary. \n",
        "\n",
        "For example, \n",
        "\n",
        "```\n",
        "ages = [23, 21, 40, 43]\n",
        "student = {'id': 1, 'name': 'jack', 'score': 90}\n",
        "\n",
        "```\n",
        "Here, \n",
        "* ```ages``` is a list containing 4 elements that are separated by ```,```\n",
        "* ```student``` is a dictionary that contains 3 key-value pairs, separated by ```,``` \n",
        "** A key-value pair looks like ```key```:```value```. Notice that a ```:``` is separating a ```key``` from its ```value```. \n",
        "\n",
        "So, the dictionary ```student``` has 3 keys, 'id', 'name', and 'score' with values 1, 'jack', 'score', respectively. \n",
        "\n",
        "We can create a list of lists or a list of dictionaries. See the following codes:\n",
        "```\n",
        "age_group = [[0, 12], [13, 19], [20,29], [30, 39]]\n",
        "students = [{'id': 1, 'name': 'jack', 'score': 90}, {'id': 2, 'name': 'nina', 'score': 91}, {'id': 3, 'name': 'robin', 'score': 84}]\n",
        "```\n",
        "\n",
        "Here,\n",
        "* ```age_group``` is a list that contains 4 sub-lists\n",
        "* ```students``` is a list that contains 3 dictionaries, where each dictionary contains 3 key-value pairs.\n",
        "\n",
        "**JSON is nothing but a representation of lists and dictionaries in the above format**\n"
      ],
      "metadata": {
        "id": "X35NRo_37Gcb"
      }
    },
    {
      "cell_type": "markdown",
      "source": [
        "Create a dictionary named ```node_val``` that contans 2 keys ('id', 'label') with values 1, and 'Jason', respectively."
      ],
      "metadata": {
        "id": "pRXmS4gp7OCy"
      }
    },
    {
      "cell_type": "code",
      "source": [
        "node_val = {'id':1, 'label':'Jason'}"
      ],
      "metadata": {
        "id": "ck5WoE8v7Y9K"
      },
      "execution_count": null,
      "outputs": []
    },
    {
      "cell_type": "markdown",
      "source": [
        "Create another dictionary named ```edge_val``` that has two keys (```source```, and ```target```) where ```source``` has value 1 and ```target``` has value 2"
      ],
      "metadata": {
        "id": "gsoHJLhu7aAt"
      }
    },
    {
      "cell_type": "code",
      "source": [
        "edge_val = {'source': 1, 'target': 2}"
      ],
      "metadata": {
        "id": "FMTyvvmc7dUV"
      },
      "execution_count": null,
      "outputs": []
    },
    {
      "cell_type": "markdown",
      "source": [
        "Create a dictionary named ```baby_graph``` that contains two dictionaries with keys ```'node'``` and ```'edge'``` and values ```node_val``` and ```edge_val```, respectively. "
      ],
      "metadata": {
        "id": "76asOeMN7ftP"
      }
    },
    {
      "cell_type": "code",
      "source": [
        "baby_graph = { 'node': node_val, 'edge': edge_val}"
      ],
      "metadata": {
        "id": "tCcIRfpe7kU-"
      },
      "execution_count": null,
      "outputs": []
    },
    {
      "cell_type": "markdown",
      "source": [
        "Create a list named ```nodes_vals```containing four dictionaries of ```node_val```. You can use random values for each key in individual ```node_val```\n",
        "\n",
        "Similarly, create a list named ```edge_vals```containing four dictionaries of ```edge_val```. Use random values of each key in the individual ```edge_val``` dictionary. \n",
        "\n",
        "Finally, create a dictionary named ```graph``` containing two dictionaries with keys ```'nodes'``` and ```'edges'``` and values would ```node_vals``` and ```edge_vals```, respectively. "
      ],
      "metadata": {
        "id": "bQGjTkpl7m9l"
      }
    },
    {
      "cell_type": "code",
      "source": [
        "# create 4 node_val dict.\n",
        "node_val1 = {'id':1, 'label':'Jason'}\n",
        "node_val2 = {'id':2, 'label':'Peter'}\n",
        "node_val3 = {'id':3, 'label':'Jane'}\n",
        "node_val4 = {'id':4, 'label':'Jasmine'}\n",
        "\n",
        "# create node_vals list\n",
        "nodes_vals = [node_val1, node_val2, node_val3, node_val4]\n",
        "\n",
        "\n",
        "# create 4 edge_val dict.\n",
        "edge_val1 = {'source': 1, 'target': 2}\n",
        "edge_val2 = {'source': 1, 'target': 3}\n",
        "edge_val3 = {'source': 1, 'target': 4}\n",
        "edge_val4 = {'source': 2, 'target': 3}\n",
        "\n",
        "# create edge_vals list\n",
        "edges = [edge_val1, edge_val2, edge_val3, edge_val4]\n",
        "\n",
        "# create graph dict.\n",
        "graph = { 'node': node_val, 'edge': edge_val}"
      ],
      "metadata": {
        "id": "1aGr3aZB7qrP"
      },
      "execution_count": null,
      "outputs": []
    },
    {
      "cell_type": "markdown",
      "source": [
        "## Dash"
      ],
      "metadata": {
        "id": "QAiVxumeEMcJ"
      }
    },
    {
      "cell_type": "code",
      "source": [
        "!pip install jupyter-dash -q"
      ],
      "metadata": {
        "colab": {
          "base_uri": "https://localhost:8080/"
        },
        "id": "VKJ1_KiZEYVt",
        "outputId": "f8191d5f-1365-4b64-950e-9db4169e28ff"
      },
      "execution_count": null,
      "outputs": [
        {
          "output_type": "stream",
          "name": "stdout",
          "text": [
            "\u001b[K     |████████████████████████████████| 3.6 MB 4.3 MB/s \n",
            "\u001b[?25h"
          ]
        }
      ]
    },
    {
      "cell_type": "code",
      "source": [
        "!pip install dash_cytoscape -q"
      ],
      "metadata": {
        "id": "eNR6Mg4eFCxX"
      },
      "execution_count": null,
      "outputs": []
    },
    {
      "cell_type": "code",
      "source": [
        "from jupyter_dash import JupyterDash \n",
        "\n",
        "# dash imports\n",
        "import dash\n",
        "import dash_html_components as html\n",
        "from dash import dcc\n",
        "from dash.dependencies import Output, Input\n",
        "from dash import no_update\n",
        "\n",
        "import dash_cytoscape as cyto"
      ],
      "metadata": {
        "id": "Teg4eGcZEc3R"
      },
      "execution_count": null,
      "outputs": []
    },
    {
      "cell_type": "code",
      "source": [
        "# this css creates columns and row layout\n",
        "external_stylesheets = ['https://codepen.io/chriddyp/pen/bWLwgP.css']\n",
        "\n",
        "\n",
        "## Uncomment the following line for runnning in Google Colab\n",
        "app = JupyterDash(__name__, external_stylesheets=external_stylesheets)\n",
        "\n",
        "## Uncomment the following line for running in a webbrowser\n",
        "# app = dash.Dash(__name__, external_stylesheets=external_stylesheets)\n",
        "\n",
        "\n",
        "\n",
        "# layout\n",
        "app.layout = html.Div([\n",
        "    html.P(\"Dash Cytoscape:\"),\n",
        "    cyto.Cytoscape(\n",
        "        id='cytoscape',\n",
        "        elements=[\n",
        "            {'data': {'id': 'ca', 'label': 'Canada'}}, \n",
        "            {'data': {'id': 'on', 'label': 'Ontario'}}, \n",
        "            {'data': {'id': 'qc', 'label': 'Quebec'}},\n",
        "            {'data': {'source': 'ca', 'target': 'on'}}, \n",
        "            {'data': {'source': 'ca', 'target': 'qc'}}\n",
        "        ],\n",
        "        layout={'name': 'breadthfirst'},\n",
        "        #style={'width': '400px', 'height': '500px'}\n",
        "    )\n",
        "])\n",
        "\n",
        "  \n",
        "# run the code\n",
        "# uncomment the following line to run in Google Colab\n",
        "app.run_server(mode='inline', port=8030)\n",
        "\n",
        "# uncomment the following lines to run in Browser via command line/terminal\n",
        "#if __name__ == '__main__':\n",
        "#  app.run_server(debug=True, host='127.0.0.1', port=8000)\n",
        "#  app.run_server(debug=True)"
      ],
      "metadata": {
        "colab": {
          "base_uri": "https://localhost:8080/",
          "height": 670
        },
        "id": "AIcNcNTiEOhN",
        "outputId": "cd492df2-703c-4ac0-a2a0-9ab5953967a0"
      },
      "execution_count": null,
      "outputs": [
        {
          "output_type": "display_data",
          "data": {
            "text/plain": [
              "<IPython.core.display.Javascript object>"
            ],
            "application/javascript": [
              "(async (port, path, width, height, cache, element) => {\n",
              "    if (!google.colab.kernel.accessAllowed && !cache) {\n",
              "      return;\n",
              "    }\n",
              "    element.appendChild(document.createTextNode(''));\n",
              "    const url = await google.colab.kernel.proxyPort(port, {cache});\n",
              "    const iframe = document.createElement('iframe');\n",
              "    iframe.src = new URL(path, url).toString();\n",
              "    iframe.height = height;\n",
              "    iframe.width = width;\n",
              "    iframe.style.border = 0;\n",
              "    element.appendChild(iframe);\n",
              "  })(8030, \"/\", \"100%\", 650, false, window.element)"
            ]
          },
          "metadata": {}
        }
      ]
    }
  ]
}