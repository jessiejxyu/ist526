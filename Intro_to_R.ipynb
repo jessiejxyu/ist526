{
  "nbformat": 4,
  "nbformat_minor": 0,
  "metadata": {
    "colab": {
      "provenance": [],
      "toc_visible": true,
      "include_colab_link": true
    },
    "kernelspec": {
      "name": "ir",
      "display_name": "R"
    },
    "language_info": {
      "name": "R"
    }
  },
  "cells": [
    {
      "cell_type": "markdown",
      "metadata": {
        "id": "view-in-github",
        "colab_type": "text"
      },
      "source": [
        "<a href=\"https://colab.research.google.com/github/jessiejxyu2/ist526/blob/main/Intro_to_R.ipynb\" target=\"_parent\"><img src=\"https://colab.research.google.com/assets/colab-badge.svg\" alt=\"Open In Colab\"/></a>"
      ]
    },
    {
      "cell_type": "markdown",
      "source": [
        "# Help wanted!"
      ],
      "metadata": {
        "id": "3jgz86Y3kKPT"
      }
    },
    {
      "cell_type": "code",
      "execution_count": null,
      "metadata": {
        "id": "og3lpCx1B0pq"
      },
      "outputs": [],
      "source": [
        "help(solve)"
      ]
    },
    {
      "cell_type": "code",
      "source": [
        "?solve"
      ],
      "metadata": {
        "id": "GYtQuX4TDAWJ"
      },
      "execution_count": null,
      "outputs": []
    },
    {
      "cell_type": "markdown",
      "source": [
        "# Manually creating Data, Vectors, and Assignment Statement"
      ],
      "metadata": {
        "id": "woJYf8S8DK8J"
      }
    },
    {
      "cell_type": "code",
      "source": [
        "# a vector starts with 'c', the short of concatenation \n",
        "c(10.4, 5.6, 3.1, 6.4, 21.7)\n"
      ],
      "metadata": {
        "colab": {
          "base_uri": "https://localhost:8080/",
          "height": 34
        },
        "id": "MAc-_lvXDR2l",
        "outputId": "4844a629-696e-4581-b844-86cdb4f181e0"
      },
      "execution_count": null,
      "outputs": [
        {
          "output_type": "display_data",
          "data": {
            "text/html": [
              "<style>\n",
              ".list-inline {list-style: none; margin:0; padding: 0}\n",
              ".list-inline>li {display: inline-block}\n",
              ".list-inline>li:not(:last-child)::after {content: \"\\00b7\"; padding: 0 .5ex}\n",
              "</style>\n",
              "<ol class=list-inline><li>10.4</li><li>5.6</li><li>3.1</li><li>6.4</li><li>21.7</li></ol>\n"
            ],
            "text/markdown": "1. 10.4\n2. 5.6\n3. 3.1\n4. 6.4\n5. 21.7\n\n\n",
            "text/latex": "\\begin{enumerate*}\n\\item 10.4\n\\item 5.6\n\\item 3.1\n\\item 6.4\n\\item 21.7\n\\end{enumerate*}\n",
            "text/plain": [
              "[1] 10.4  5.6  3.1  6.4 21.7"
            ]
          },
          "metadata": {}
        }
      ]
    },
    {
      "cell_type": "code",
      "source": [
        "# we need to assign it to a varible, say x.\n",
        "# R supports multiple ways to do so\n",
        "\n",
        "x <- c(10.4, 5.6, 3.1, 6.4, 21.7) # R-way\n",
        "assign(\"x\", c(10.4, 5.6, 3.1, 6.4, 21.7)) # function\n",
        "c(10.4, 5.6, 3.1, 6.4, 21.7) -> x # R-way\n",
        "x = c(10.4, 5.6, 3.1, 6.4, 21.7) # the regular way"
      ],
      "metadata": {
        "id": "t5By8vfyEBoQ"
      },
      "execution_count": null,
      "outputs": []
    },
    {
      "cell_type": "code",
      "source": [
        "# use x. Let's inverse each element in x\n",
        "1/x"
      ],
      "metadata": {
        "colab": {
          "base_uri": "https://localhost:8080/",
          "height": 34
        },
        "id": "yVQpStKlDgaq",
        "outputId": "5b664435-f365-4ea6-b12e-b0091035093e"
      },
      "execution_count": null,
      "outputs": [
        {
          "output_type": "display_data",
          "data": {
            "text/html": [
              "<style>\n",
              ".list-inline {list-style: none; margin:0; padding: 0}\n",
              ".list-inline>li {display: inline-block}\n",
              ".list-inline>li:not(:last-child)::after {content: \"\\00b7\"; padding: 0 .5ex}\n",
              "</style>\n",
              "<ol class=list-inline><li>0.0961538461538461</li><li>0.178571428571429</li><li>0.32258064516129</li><li>0.15625</li><li>0.0460829493087558</li></ol>\n"
            ],
            "text/markdown": "1. 0.0961538461538461\n2. 0.178571428571429\n3. 0.32258064516129\n4. 0.15625\n5. 0.0460829493087558\n\n\n",
            "text/latex": "\\begin{enumerate*}\n\\item 0.0961538461538461\n\\item 0.178571428571429\n\\item 0.32258064516129\n\\item 0.15625\n\\item 0.0460829493087558\n\\end{enumerate*}\n",
            "text/plain": [
              "[1] 0.09615385 0.17857143 0.32258065 0.15625000 0.04608295"
            ]
          },
          "metadata": {}
        }
      ]
    },
    {
      "cell_type": "markdown",
      "source": [
        "# Normal Distribution\n",
        "https://www.tutorialspoint.com/r/r_normal_distribution.htm"
      ],
      "metadata": {
        "id": "T-pZ6JrEUjnt"
      }
    },
    {
      "cell_type": "markdown",
      "source": [
        "## dnorm: density function of the normal distribution\n",
        "\n",
        "This function gives height of the probability distribution at each point for a given mean and standard deviation."
      ],
      "metadata": {
        "id": "3C5Y5rY6V3GX"
      }
    },
    {
      "cell_type": "code",
      "source": [
        "# Create a sequence of numbers between 0 and 5 incrementing by 0.01\n",
        "x <- seq(0, 5, by = .01)\n",
        "\n",
        "# Choose the mean as 2.5 and standard deviation as 0.5.\n",
        "y <- dnorm(x, mean = 2.5, sd = 0.5)\n",
        "\n",
        "# creating a data frame\n",
        "df_norm <- data.frame(\"x\" = x, \"y\" = y)\n",
        "\n",
        "# for quick and dirty printing\n",
        "plot(x,y)\n",
        "\n",
        "# # for pretty printing\n",
        "# library(ggplot2)\n",
        "# ggplot(df, aes(x = x, y = y)) + geom_point()"
      ],
      "metadata": {
        "colab": {
          "base_uri": "https://localhost:8080/",
          "height": 437
        },
        "id": "LBu-znO1UmA8",
        "outputId": "2dbfe4c1-401c-47e6-9566-b68918b8291d"
      },
      "execution_count": null,
      "outputs": [
        {
          "output_type": "display_data",
          "data": {
            "text/plain": [
              "plot without title"
            ],
            "image/png": "[encoded data removed]"
          },
          "metadata": {
            "image/png": {
              "width": 420,
              "height": 420
            }
          }
        }
      ]
    },
    {
      "cell_type": "code",
      "source": [
        "# the density of at a particular point\n",
        "print(df_norm$y[df_norm$x == 2.5])"
      ],
      "metadata": {
        "colab": {
          "base_uri": "https://localhost:8080/"
        },
        "id": "0aEHgJMOVz04",
        "outputId": "cec87378-98b5-46b6-d29e-d7105573ca4a"
      },
      "execution_count": null,
      "outputs": [
        {
          "output_type": "stream",
          "name": "stdout",
          "text": [
            "[1] 0.7978846\n"
          ]
        }
      ]
    },
    {
      "cell_type": "code",
      "source": [
        "# the cumulative area x > 4.5\n",
        "print(sum(df$y[df_norm$x >= 4.5 ]))"
      ],
      "metadata": {
        "colab": {
          "base_uri": "https://localhost:8080/"
        },
        "id": "FaHmx-s3YV04",
        "outputId": "778a237a-5c8b-4109-b6d8-f7c86e90d8f3"
      },
      "execution_count": null,
      "outputs": [
        {
          "output_type": "stream",
          "name": "stdout",
          "text": [
            "[1] 0.0003707893\n"
          ]
        }
      ]
    },
    {
      "cell_type": "code",
      "source": [
        "# # the cumulative area between two tails: x < -4.5 or x > 4.5\n",
        "print(sum(df_norm$y[df_norm$x < -4.5 | df_norm$x > 4.5 ]))"
      ],
      "metadata": {
        "colab": {
          "base_uri": "https://localhost:8080/"
        },
        "id": "YGlqUEKGY56i",
        "outputId": "47ceac51-a9c7-4c65-b636-ade71c0637a6"
      },
      "execution_count": null,
      "outputs": [
        {
          "output_type": "stream",
          "name": "stdout",
          "text": [
            "[1] 0.003007875\n"
          ]
        }
      ]
    },
    {
      "cell_type": "markdown",
      "source": [
        "## pnorm: probability density function (cumulative) of the normal distribution\n",
        "\n",
        "This function gives the probability of a normally distributed random number to be less that the value of a given number. It is also called \"Cumulative Distribution Function\"\n",
        "\n"
      ],
      "metadata": {
        "id": "U7_e4hPxV2YS"
      }
    },
    {
      "cell_type": "code",
      "source": [
        "# Create a sequence of numbers between 0 and 5 incrementing by 0.01\n",
        "x <- seq(0, 5, by = .01)\n",
        "\n",
        "# Choose the mean as 2.5 and standard deviation as 0.5.\n",
        "y <- pnorm(x, mean = 2.5, sd = 0.5, lower.tail = TRUE)\n",
        "\n",
        "# creating a data frame\n",
        "df_cdf <- data.frame(\"x\" = x, \"y\" = y)\n",
        "\n",
        "plot(x,y)"
      ],
      "metadata": {
        "colab": {
          "base_uri": "https://localhost:8080/",
          "height": 437
        },
        "id": "-B6VOUavWIUE",
        "outputId": "01842bf6-97c8-4cbb-c496-da0366bf96fe"
      },
      "execution_count": null,
      "outputs": [
        {
          "output_type": "display_data",
          "data": {
            "text/plain": [
              "plot without title"
            ],
            "image/png": "[encoded data removed]"
          },
          "metadata": {
            "image/png": {
              "width": 420,
              "height": 420
            }
          }
        }
      ]
    },
    {
      "cell_type": "code",
      "source": [
        "# the total area at the mean (hint: half of 1) \n",
        "print(df_cdf$y[df_cdf$x == 2.5])"
      ],
      "metadata": {
        "colab": {
          "base_uri": "https://localhost:8080/"
        },
        "id": "nt_UELpraAbU",
        "outputId": "59131ccb-6dba-45b0-adee-d0529b46da48"
      },
      "execution_count": null,
      "outputs": [
        {
          "output_type": "stream",
          "name": "stdout",
          "text": [
            "[1] 0.5\n"
          ]
        }
      ]
    },
    {
      "cell_type": "code",
      "source": [
        "# the total area at x >= 4.5\n",
        "print(df_cdf$y[df_cdf$x == 4.5])"
      ],
      "metadata": {
        "colab": {
          "base_uri": "https://localhost:8080/"
        },
        "id": "-sJeq_jeaa1e",
        "outputId": "c8b6caca-98bd-4805-8b19-186377636f65"
      },
      "execution_count": null,
      "outputs": [
        {
          "output_type": "stream",
          "name": "stdout",
          "text": [
            "[1] 0.9999683\n"
          ]
        }
      ]
    },
    {
      "cell_type": "code",
      "source": [
        "# take other end of the tail\n",
        "\n",
        "# Create a sequence of numbers between 0 and 5 incrementing by 0.01\n",
        "x <- seq(0, 5, by = .01)\n",
        "\n",
        "# Choose the mean as 2.5 and standard deviation as 0.5.\n",
        "y <- pnorm(x, mean = 2.5, sd = 0.5, lower.tail = FALSE)\n",
        "\n",
        "# creating a data frame\n",
        "df_cdf_tail <- data.frame(\"x\" = x, \"y\" = y)\n",
        "\n",
        "plot(x,y)"
      ],
      "metadata": {
        "colab": {
          "base_uri": "https://localhost:8080/",
          "height": 437
        },
        "id": "JRIwKU91bnaE",
        "outputId": "bc511030-bdfc-4b7f-bd1c-42e901810c5b"
      },
      "execution_count": null,
      "outputs": [
        {
          "output_type": "display_data",
          "data": {
            "text/plain": [
              "plot without title"
            ],
            "image/png": "[encoded data removed]"
          },
          "metadata": {
            "image/png": {
              "width": 420,
              "height": 420
            }
          }
        }
      ]
    },
    {
      "cell_type": "code",
      "source": [
        "# the total area at x <= 4.5\n",
        "print(df_cdf_tail$y[df_cdf_tail$x == 4.5])"
      ],
      "metadata": {
        "colab": {
          "base_uri": "https://localhost:8080/"
        },
        "id": "Y1WRyYFRbwJH",
        "outputId": "796ce3f0-223c-433a-b584-ad783d8bccd8"
      },
      "execution_count": null,
      "outputs": [
        {
          "output_type": "stream",
          "name": "stdout",
          "text": [
            "[1] 0.00003167124\n"
          ]
        }
      ]
    },
    {
      "cell_type": "code",
      "source": [
        "options(scipen=999)\n",
        "# the total area at x <= 4.5\n",
        "print(df_cdf_tail$y[df_cdf_tail$x == 4.5])"
      ],
      "metadata": {
        "colab": {
          "base_uri": "https://localhost:8080/"
        },
        "id": "GkPP03V1cLIR",
        "outputId": "50d52c0d-8f55-4a95-88f0-84aedc09d11c"
      },
      "execution_count": null,
      "outputs": [
        {
          "output_type": "stream",
          "name": "stdout",
          "text": [
            "[1] 0.00003167124\n"
          ]
        }
      ]
    },
    {
      "cell_type": "markdown",
      "source": [
        "## qnorm():  quantile function of the normal distribution \n",
        "This function takes the probability value and gives a number whose cumulative value matches the probability value. Thus, it is simply the inverse of the cumulative density function (iCDF). In other words, quantile function maps from probabilities to values. Let’s take a look at the quantile function for `𝑃[𝑋<=𝑥]`\n",
        "\n"
      ],
      "metadata": {
        "id": "WLJslz-YWPVv"
      }
    },
    {
      "cell_type": "code",
      "source": [
        "# Create a sequence of numbers between 0 and 5 incrementing by 0.01\n",
        "x <- seq(0, 5, by = .01)\n",
        "\n",
        "# Choose the mean as 2.5 and standard deviation as 0.5.\n",
        "y <- qnorm(x, mean = 2.5, sd = 0.5)\n",
        "\n",
        "# creating a data frame\n",
        "df_qnorm <- data.frame(\"x\" = x, \"y\" = y, lower.tail = FALSE)\n",
        "\n",
        "plot(x,y)"
      ],
      "metadata": {
        "colab": {
          "base_uri": "https://localhost:8080/",
          "height": 471
        },
        "id": "bl1-lTb9WZjh",
        "outputId": "46ff661b-d32f-4277-ff0d-b0683101f274"
      },
      "execution_count": null,
      "outputs": [
        {
          "output_type": "stream",
          "name": "stderr",
          "text": [
            "Warning message in qnorm(x, mean = 2.5, sd = 0.5):\n",
            "“NaNs produced”\n"
          ]
        },
        {
          "output_type": "display_data",
          "data": {
            "text/plain": [
              "plot without title"
            ],
            "image/png": "[encoded data removed]"
          },
          "metadata": {
            "image/png": {
              "width": 420,
              "height": 420
            }
          }
        }
      ]
    },
    {
      "cell_type": "code",
      "source": [
        "?qnorm"
      ],
      "metadata": {
        "id": "X9imG0DEfzQ0"
      },
      "execution_count": null,
      "outputs": []
    },
    {
      "cell_type": "code",
      "source": [
        "# the total area at x >= 2.5\n",
        "print(df_cdf_tail$y[df_cdf_tail$x == 2.5])"
      ],
      "metadata": {
        "colab": {
          "base_uri": "https://localhost:8080/"
        },
        "id": "Ksuegv_wfOeH",
        "outputId": "ee6b0aec-0265-4ae9-ecff-86e011affb4f"
      },
      "execution_count": null,
      "outputs": [
        {
          "output_type": "stream",
          "name": "stdout",
          "text": [
            "[1] 0.5\n"
          ]
        }
      ]
    },
    {
      "cell_type": "code",
      "source": [
        "print(df_qnorm$y[df_qnorm$x == 0.5])"
      ],
      "metadata": {
        "colab": {
          "base_uri": "https://localhost:8080/"
        },
        "id": "UvQLk9U8fWg7",
        "outputId": "67d7e674-6de5-4b85-89e6-2b669a4d7fb4"
      },
      "execution_count": null,
      "outputs": [
        {
          "output_type": "stream",
          "name": "stdout",
          "text": [
            "[1] 2.5\n"
          ]
        }
      ]
    },
    {
      "cell_type": "markdown",
      "source": [
        "## rnorm(): random sampling from the normal distribution\n",
        "This function is used to generate random numbers whose distribution is normal. It takes the sample size as input and generates that many random numbers. We draw a histogram to show the distribution of the generated numbers."
      ],
      "metadata": {
        "id": "hkCRUQsNWiCG"
      }
    },
    {
      "cell_type": "code",
      "source": [
        "# fix random seed for reproducibility\n",
        "set.seed(1)\n",
        "\n",
        "# Create a sample of 50 numbers which are normally distributed.\n",
        "y <- rnorm(50)\n",
        "\n",
        "# Plot the histogram for this sample.\n",
        "hist(y, main = \"Normal DIstribution\")"
      ],
      "metadata": {
        "colab": {
          "base_uri": "https://localhost:8080/",
          "height": 437
        },
        "id": "aj__U83SWkuD",
        "outputId": "6ebdea51-d492-4db3-f48c-781fb32943b1"
      },
      "execution_count": null,
      "outputs": [
        {
          "output_type": "display_data",
          "data": {
            "text/plain": [
              "Plot with title “Normal DIstribution”"
            ],
            "image/png": "[encoded data removed]"
          },
          "metadata": {
            "image/png": {
              "width": 420,
              "height": 420
            }
          }
        }
      ]
    },
    {
      "cell_type": "markdown",
      "source": [
        "# Loading Built-in data"
      ],
      "metadata": {
        "id": "CVoWUM9Aj2D-"
      }
    },
    {
      "cell_type": "code",
      "source": [
        "# list of pre-loaded data\n",
        "data()"
      ],
      "metadata": {
        "id": "Nx5fLgbGjurq"
      },
      "execution_count": null,
      "outputs": []
    },
    {
      "cell_type": "code",
      "source": [
        "# Loading\n",
        "data(mtcars)\n",
        "\n",
        "# Print the first 6 rows\n",
        "head(mtcars, 6)"
      ],
      "metadata": {
        "id": "OetkUaKqkgdO"
      },
      "execution_count": null,
      "outputs": []
    },
    {
      "cell_type": "code",
      "source": [
        "# describe data\n",
        "?mtcars"
      ],
      "metadata": {
        "id": "9wSSlYLUUGEb"
      },
      "execution_count": null,
      "outputs": []
    },
    {
      "cell_type": "code",
      "source": [
        "# show total cols\n",
        "ncol(mtcars)"
      ],
      "metadata": {
        "colab": {
          "base_uri": "https://localhost:8080/",
          "height": 34
        },
        "id": "Whijvy5lUASR",
        "outputId": "136e119c-6f99-4da1-fecb-7e248bf84430"
      },
      "execution_count": null,
      "outputs": [
        {
          "output_type": "display_data",
          "data": {
            "text/html": [
              "11"
            ],
            "text/markdown": "11",
            "text/latex": "11",
            "text/plain": [
              "[1] 11"
            ]
          },
          "metadata": {}
        }
      ]
    },
    {
      "cell_type": "code",
      "source": [
        "# show total rows\n",
        "nrow(mtcars)"
      ],
      "metadata": {
        "colab": {
          "base_uri": "https://localhost:8080/",
          "height": 34
        },
        "id": "WXMAAXRcUC4q",
        "outputId": "a614a2a0-8896-40df-abab-7a6343eaac8b"
      },
      "execution_count": null,
      "outputs": [
        {
          "output_type": "display_data",
          "data": {
            "text/html": [
              "32"
            ],
            "text/markdown": "32",
            "text/latex": "32",
            "text/plain": [
              "[1] 32"
            ]
          },
          "metadata": {}
        }
      ]
    },
    {
      "cell_type": "code",
      "source": [
        "# show an attribute\n",
        "mtcars$mpg"
      ],
      "metadata": {
        "colab": {
          "base_uri": "https://localhost:8080/",
          "height": 51
        },
        "id": "albooLfUUQ-F",
        "outputId": "78fdb29f-15b1-40af-a96d-9dc99536f3d3"
      },
      "execution_count": null,
      "outputs": [
        {
          "output_type": "display_data",
          "data": {
            "text/html": [
              "<style>\n",
              ".list-inline {list-style: none; margin:0; padding: 0}\n",
              ".list-inline>li {display: inline-block}\n",
              ".list-inline>li:not(:last-child)::after {content: \"\\00b7\"; padding: 0 .5ex}\n",
              "</style>\n",
              "<ol class=list-inline><li>21</li><li>21</li><li>22.8</li><li>21.4</li><li>18.7</li><li>18.1</li><li>14.3</li><li>24.4</li><li>22.8</li><li>19.2</li><li>17.8</li><li>16.4</li><li>17.3</li><li>15.2</li><li>10.4</li><li>10.4</li><li>14.7</li><li>32.4</li><li>30.4</li><li>33.9</li><li>21.5</li><li>15.5</li><li>15.2</li><li>13.3</li><li>19.2</li><li>27.3</li><li>26</li><li>30.4</li><li>15.8</li><li>19.7</li><li>15</li><li>21.4</li></ol>\n"
            ],
            "text/markdown": "1. 21\n2. 21\n3. 22.8\n4. 21.4\n5. 18.7\n6. 18.1\n7. 14.3\n8. 24.4\n9. 22.8\n10. 19.2\n11. 17.8\n12. 16.4\n13. 17.3\n14. 15.2\n15. 10.4\n16. 10.4\n17. 14.7\n18. 32.4\n19. 30.4\n20. 33.9\n21. 21.5\n22. 15.5\n23. 15.2\n24. 13.3\n25. 19.2\n26. 27.3\n27. 26\n28. 30.4\n29. 15.8\n30. 19.7\n31. 15\n32. 21.4\n\n\n",
            "text/latex": "\\begin{enumerate*}\n\\item 21\n\\item 21\n\\item 22.8\n\\item 21.4\n\\item 18.7\n\\item 18.1\n\\item 14.3\n\\item 24.4\n\\item 22.8\n\\item 19.2\n\\item 17.8\n\\item 16.4\n\\item 17.3\n\\item 15.2\n\\item 10.4\n\\item 10.4\n\\item 14.7\n\\item 32.4\n\\item 30.4\n\\item 33.9\n\\item 21.5\n\\item 15.5\n\\item 15.2\n\\item 13.3\n\\item 19.2\n\\item 27.3\n\\item 26\n\\item 30.4\n\\item 15.8\n\\item 19.7\n\\item 15\n\\item 21.4\n\\end{enumerate*}\n",
            "text/plain": [
              " [1] 21.0 21.0 22.8 21.4 18.7 18.1 14.3 24.4 22.8 19.2 17.8 16.4 17.3 15.2 10.4\n",
              "[16] 10.4 14.7 32.4 30.4 33.9 21.5 15.5 15.2 13.3 19.2 27.3 26.0 30.4 15.8 19.7\n",
              "[31] 15.0 21.4"
            ]
          },
          "metadata": {}
        }
      ]
    },
    {
      "cell_type": "markdown",
      "source": [
        "# Regression model"
      ],
      "metadata": {
        "id": "69HhTOFRW9fQ"
      }
    },
    {
      "cell_type": "markdown",
      "source": [
        "### Loading data"
      ],
      "metadata": {
        "id": "ABAM-WW2li-3"
      }
    },
    {
      "cell_type": "code",
      "source": [
        "# Select some columns form mtcars. Note that we are selecting all rows; hence [empty] before the comma in mtcars[ , ...].\n",
        "input <- mtcars[,c(\"am\", \"mpg\", \"cyl\",\"hp\",\"wt\")]\n",
        "\n",
        "print(head(input))"
      ],
      "metadata": {
        "colab": {
          "base_uri": "https://localhost:8080/"
        },
        "id": "LeFMN_qIXAO2",
        "outputId": "bd566d1a-3f17-411e-863c-70374934b9fc"
      },
      "execution_count": null,
      "outputs": [
        {
          "output_type": "stream",
          "name": "stdout",
          "text": [
            "                  am  mpg cyl  hp    wt\n",
            "Mazda RX4          1 21.0   6 110 2.620\n",
            "Mazda RX4 Wag      1 21.0   6 110 2.875\n",
            "Datsun 710         1 22.8   4  93 2.320\n",
            "Hornet 4 Drive     0 21.4   6 110 3.215\n",
            "Hornet Sportabout  0 18.7   8 175 3.440\n",
            "Valiant            0 18.1   6 105 3.460\n"
          ]
        }
      ]
    },
    {
      "cell_type": "markdown",
      "source": [
        "### Building a linear model"
      ],
      "metadata": {
        "id": "jC9037NNln9D"
      }
    },
    {
      "cell_type": "code",
      "source": [
        "# assuming mpg is a dependent variable and hp is an independent variable\n",
        "# y = m * x + c (intercept)\n",
        "# mpg = beta_1 * hp + beta_0\n",
        "\n",
        "# filter our dataset\n",
        "input_data <- mtcars[,c(\"mpg\",\"hp\")]\n",
        "\n",
        "# now, make a linear model (lm) \n",
        "model = lm(formula = mpg ~ hp, data = input_data)\n",
        "\n",
        "print(summary(model))"
      ],
      "metadata": {
        "colab": {
          "base_uri": "https://localhost:8080/"
        },
        "id": "GzhC0OjiXEpU",
        "outputId": "9a71dd76-b151-4940-ff41-647f86d73aa0"
      },
      "execution_count": null,
      "outputs": [
        {
          "output_type": "stream",
          "name": "stdout",
          "text": [
            "\n",
            "Call:\n",
            "lm(formula = mpg ~ hp, data = input_data)\n",
            "\n",
            "Residuals:\n",
            "    Min      1Q  Median      3Q     Max \n",
            "-5.7121 -2.1122 -0.8854  1.5819  8.2360 \n",
            "\n",
            "Coefficients:\n",
            "            Estimate Std. Error t value             Pr(>|t|)    \n",
            "(Intercept) 30.09886    1.63392  18.421 < 0.0000000000000002 ***\n",
            "hp          -0.06823    0.01012  -6.742          0.000000179 ***\n",
            "---\n",
            "Signif. codes:  0 ‘***’ 0.001 ‘**’ 0.01 ‘*’ 0.05 ‘.’ 0.1 ‘ ’ 1\n",
            "\n",
            "Residual standard error: 3.863 on 30 degrees of freedom\n",
            "Multiple R-squared:  0.6024,\tAdjusted R-squared:  0.5892 \n",
            "F-statistic: 45.46 on 1 and 30 DF,  p-value: 0.0000001788\n",
            "\n"
          ]
        }
      ]
    },
    {
      "cell_type": "markdown",
      "source": [
        "### Predict"
      ],
      "metadata": {
        "id": "xZvh7HozlsFW"
      }
    },
    {
      "cell_type": "code",
      "source": [
        "# predict\n",
        "# note that for prediction, we must pass a data.frame in the predict function\n",
        "\n",
        "# create a data.frame with the input\n",
        "to_predict <- data.frame(\"hp\" = 110)\n",
        "\n",
        "# predict the mpg of the car \n",
        "result <-  predict(model, to_predict)\n",
        "\n",
        "print(result)"
      ],
      "metadata": {
        "colab": {
          "base_uri": "https://localhost:8080/"
        },
        "id": "lTp1jC2zYCMr",
        "outputId": "fe2b304e-6ba7-4148-fc2c-e3cbccf60240"
      },
      "execution_count": null,
      "outputs": [
        {
          "output_type": "stream",
          "name": "stdout",
          "text": [
            "       1 \n",
            "22.59375 \n"
          ]
        }
      ]
    },
    {
      "cell_type": "markdown",
      "source": [
        "## Practice a Linear Model"
      ],
      "metadata": {
        "id": "FvLNpjPHlwVI"
      }
    },
    {
      "cell_type": "code",
      "source": [
        "# sample data\n",
        "x <- c(151, 174, 138, 186, 128, 136, 179, 163, 152, 131)\n",
        "y <- c(63, 81, 56, 91, 47, 57, 76, 72, 62, 48)\n",
        "\n",
        "# Apply the lm() function.\n",
        "lm_model <- lm(y~x)\n",
        "\n",
        "print(summary(lm_model))"
      ],
      "metadata": {
        "colab": {
          "base_uri": "https://localhost:8080/"
        },
        "id": "bSWvjQTmXkgM",
        "outputId": "fa47adb5-d90d-40ca-c47f-d4fa0823257f"
      },
      "execution_count": null,
      "outputs": [
        {
          "output_type": "stream",
          "name": "stdout",
          "text": [
            "\n",
            "Call:\n",
            "lm(formula = y ~ x)\n",
            "\n",
            "Residuals:\n",
            "    Min      1Q  Median      3Q     Max \n",
            "-6.3002 -1.6629  0.0412  1.8944  3.9775 \n",
            "\n",
            "Coefficients:\n",
            "             Estimate Std. Error t value   Pr(>|t|)    \n",
            "(Intercept) -38.45509    8.04901  -4.778    0.00139 ** \n",
            "x             0.67461    0.05191  12.997 0.00000116 ***\n",
            "---\n",
            "Signif. codes:  0 ‘***’ 0.001 ‘**’ 0.01 ‘*’ 0.05 ‘.’ 0.1 ‘ ’ 1\n",
            "\n",
            "Residual standard error: 3.253 on 8 degrees of freedom\n",
            "Multiple R-squared:  0.9548,\tAdjusted R-squared:  0.9491 \n",
            "F-statistic: 168.9 on 1 and 8 DF,  p-value: 0.000001164\n",
            "\n"
          ]
        }
      ]
    },
    {
      "cell_type": "code",
      "source": [
        "# predict\n",
        "\n",
        "# create a data.frame\n",
        "to_predict <- data.frame(x = 170)\n",
        "\n",
        "# now predict\n",
        "result <-  predict(lm_model, to_predict)\n",
        "\n",
        "# print result\n",
        "print(result)"
      ],
      "metadata": {
        "colab": {
          "base_uri": "https://localhost:8080/"
        },
        "id": "ewJ7D69hZZti",
        "outputId": "485356c4-9d92-4e27-c085-6beeb9e61015"
      },
      "execution_count": null,
      "outputs": [
        {
          "output_type": "stream",
          "name": "stdout",
          "text": [
            "       1 \n",
            "76.22869 \n"
          ]
        }
      ]
    },
    {
      "cell_type": "markdown",
      "source": [
        "# Load Your Data"
      ],
      "metadata": {
        "id": "X7EV0jqWUMN-"
      }
    },
    {
      "cell_type": "markdown",
      "source": [
        "## Load data with drive"
      ],
      "metadata": {
        "id": "OguKhoXb73Ka"
      }
    },
    {
      "cell_type": "code",
      "source": [
        "# load data (click on the folder icon on the left, upload a data file under sample_data)\n",
        "# more operation: https://swcarpentry.github.io/r-novice-inflammation/11-supp-read-write-csv/\n",
        "# https://people.sc.fsu.edu/~jburkardt/data/csv/airtravel.csv\n",
        "data <- read.csv('/content/sample_data/airtravel.csv')\n",
        "head(data)\n",
        "\n",
        "# /content/sample_data/airtravel.csv"
      ],
      "metadata": {
        "id": "xjc4gML7FpXI",
        "colab": {
          "base_uri": "https://localhost:8080/",
          "height": 283
        },
        "outputId": "e97a4088-0abc-40c6-8f77-f1b1f5a433f4"
      },
      "execution_count": null,
      "outputs": [
        {
          "output_type": "display_data",
          "data": {
            "text/html": [
              "<table class=\"dataframe\">\n",
              "<caption>A data.frame: 6 × 4</caption>\n",
              "<thead>\n",
              "\t<tr><th></th><th scope=col>Month</th><th scope=col>X1958</th><th scope=col>X1959</th><th scope=col>X1960</th></tr>\n",
              "\t<tr><th></th><th scope=col>&lt;chr&gt;</th><th scope=col>&lt;int&gt;</th><th scope=col>&lt;int&gt;</th><th scope=col>&lt;int&gt;</th></tr>\n",
              "</thead>\n",
              "<tbody>\n",
              "\t<tr><th scope=row>1</th><td>JAN</td><td>340</td><td>360</td><td>417</td></tr>\n",
              "\t<tr><th scope=row>2</th><td>FEB</td><td>318</td><td>342</td><td>391</td></tr>\n",
              "\t<tr><th scope=row>3</th><td>MAR</td><td>362</td><td>406</td><td>419</td></tr>\n",
              "\t<tr><th scope=row>4</th><td>APR</td><td>348</td><td>396</td><td>461</td></tr>\n",
              "\t<tr><th scope=row>5</th><td>MAY</td><td>363</td><td>420</td><td>472</td></tr>\n",
              "\t<tr><th scope=row>6</th><td>JUN</td><td>435</td><td>472</td><td>535</td></tr>\n",
              "</tbody>\n",
              "</table>\n"
            ],
            "text/markdown": "\nA data.frame: 6 × 4\n\n| <!--/--> | Month &lt;chr&gt; | X1958 &lt;int&gt; | X1959 &lt;int&gt; | X1960 &lt;int&gt; |\n|---|---|---|---|---|\n| 1 | JAN | 340 | 360 | 417 |\n| 2 | FEB | 318 | 342 | 391 |\n| 3 | MAR | 362 | 406 | 419 |\n| 4 | APR | 348 | 396 | 461 |\n| 5 | MAY | 363 | 420 | 472 |\n| 6 | JUN | 435 | 472 | 535 |\n\n",
            "text/latex": "A data.frame: 6 × 4\n\\begin{tabular}{r|llll}\n  & Month & X1958 & X1959 & X1960\\\\\n  & <chr> & <int> & <int> & <int>\\\\\n\\hline\n\t1 & JAN & 340 & 360 & 417\\\\\n\t2 & FEB & 318 & 342 & 391\\\\\n\t3 & MAR & 362 & 406 & 419\\\\\n\t4 & APR & 348 & 396 & 461\\\\\n\t5 & MAY & 363 & 420 & 472\\\\\n\t6 & JUN & 435 & 472 & 535\\\\\n\\end{tabular}\n",
            "text/plain": [
              "  Month X1958 X1959 X1960\n",
              "1 JAN   340   360   417  \n",
              "2 FEB   318   342   391  \n",
              "3 MAR   362   406   419  \n",
              "4 APR   348   396   461  \n",
              "5 MAY   363   420   472  \n",
              "6 JUN   435   472   535  "
            ]
          },
          "metadata": {}
        }
      ]
    },
    {
      "cell_type": "markdown",
      "source": [
        "## Load Data from URL\n",
        "https://stats.oarc.ucla.edu/r/whatstat/what-statistical-analysis-should-i-usestatistical-analyses-using-r/#1sampt"
      ],
      "metadata": {
        "id": "zZ7UjoFd76-Q"
      }
    },
    {
      "cell_type": "code",
      "source": [
        "my_data <- read.csv(\"https://stats.idre.ucla.edu/stat/data/hsb2.csv\")\n",
        "head(my_data)"
      ],
      "metadata": {
        "colab": {
          "base_uri": "https://localhost:8080/",
          "height": 283
        },
        "id": "8lz6T0lb8o1H",
        "outputId": "bbbece55-3001-45d9-961d-89c730bd91d3"
      },
      "execution_count": null,
      "outputs": [
        {
          "output_type": "display_data",
          "data": {
            "text/html": [
              "<table class=\"dataframe\">\n",
              "<caption>A data.frame: 6 × 11</caption>\n",
              "<thead>\n",
              "\t<tr><th></th><th scope=col>id</th><th scope=col>female</th><th scope=col>race</th><th scope=col>ses</th><th scope=col>schtyp</th><th scope=col>prog</th><th scope=col>read</th><th scope=col>write</th><th scope=col>math</th><th scope=col>science</th><th scope=col>socst</th></tr>\n",
              "\t<tr><th></th><th scope=col>&lt;int&gt;</th><th scope=col>&lt;int&gt;</th><th scope=col>&lt;int&gt;</th><th scope=col>&lt;int&gt;</th><th scope=col>&lt;int&gt;</th><th scope=col>&lt;int&gt;</th><th scope=col>&lt;int&gt;</th><th scope=col>&lt;int&gt;</th><th scope=col>&lt;int&gt;</th><th scope=col>&lt;int&gt;</th><th scope=col>&lt;int&gt;</th></tr>\n",
              "</thead>\n",
              "<tbody>\n",
              "\t<tr><th scope=row>1</th><td> 70</td><td>0</td><td>4</td><td>1</td><td>1</td><td>1</td><td>57</td><td>52</td><td>41</td><td>47</td><td>57</td></tr>\n",
              "\t<tr><th scope=row>2</th><td>121</td><td>1</td><td>4</td><td>2</td><td>1</td><td>3</td><td>68</td><td>59</td><td>53</td><td>63</td><td>61</td></tr>\n",
              "\t<tr><th scope=row>3</th><td> 86</td><td>0</td><td>4</td><td>3</td><td>1</td><td>1</td><td>44</td><td>33</td><td>54</td><td>58</td><td>31</td></tr>\n",
              "\t<tr><th scope=row>4</th><td>141</td><td>0</td><td>4</td><td>3</td><td>1</td><td>3</td><td>63</td><td>44</td><td>47</td><td>53</td><td>56</td></tr>\n",
              "\t<tr><th scope=row>5</th><td>172</td><td>0</td><td>4</td><td>2</td><td>1</td><td>2</td><td>47</td><td>52</td><td>57</td><td>53</td><td>61</td></tr>\n",
              "\t<tr><th scope=row>6</th><td>113</td><td>0</td><td>4</td><td>2</td><td>1</td><td>2</td><td>44</td><td>52</td><td>51</td><td>63</td><td>61</td></tr>\n",
              "</tbody>\n",
              "</table>\n"
            ],
            "text/markdown": "\nA data.frame: 6 × 11\n\n| <!--/--> | id &lt;int&gt; | female &lt;int&gt; | race &lt;int&gt; | ses &lt;int&gt; | schtyp &lt;int&gt; | prog &lt;int&gt; | read &lt;int&gt; | write &lt;int&gt; | math &lt;int&gt; | science &lt;int&gt; | socst &lt;int&gt; |\n|---|---|---|---|---|---|---|---|---|---|---|---|\n| 1 |  70 | 0 | 4 | 1 | 1 | 1 | 57 | 52 | 41 | 47 | 57 |\n| 2 | 121 | 1 | 4 | 2 | 1 | 3 | 68 | 59 | 53 | 63 | 61 |\n| 3 |  86 | 0 | 4 | 3 | 1 | 1 | 44 | 33 | 54 | 58 | 31 |\n| 4 | 141 | 0 | 4 | 3 | 1 | 3 | 63 | 44 | 47 | 53 | 56 |\n| 5 | 172 | 0 | 4 | 2 | 1 | 2 | 47 | 52 | 57 | 53 | 61 |\n| 6 | 113 | 0 | 4 | 2 | 1 | 2 | 44 | 52 | 51 | 63 | 61 |\n\n",
            "text/latex": "A data.frame: 6 × 11\n\\begin{tabular}{r|lllllllllll}\n  & id & female & race & ses & schtyp & prog & read & write & math & science & socst\\\\\n  & <int> & <int> & <int> & <int> & <int> & <int> & <int> & <int> & <int> & <int> & <int>\\\\\n\\hline\n\t1 &  70 & 0 & 4 & 1 & 1 & 1 & 57 & 52 & 41 & 47 & 57\\\\\n\t2 & 121 & 1 & 4 & 2 & 1 & 3 & 68 & 59 & 53 & 63 & 61\\\\\n\t3 &  86 & 0 & 4 & 3 & 1 & 1 & 44 & 33 & 54 & 58 & 31\\\\\n\t4 & 141 & 0 & 4 & 3 & 1 & 3 & 63 & 44 & 47 & 53 & 56\\\\\n\t5 & 172 & 0 & 4 & 2 & 1 & 2 & 47 & 52 & 57 & 53 & 61\\\\\n\t6 & 113 & 0 & 4 & 2 & 1 & 2 & 44 & 52 & 51 & 63 & 61\\\\\n\\end{tabular}\n",
            "text/plain": [
              "  id  female race ses schtyp prog read write math science socst\n",
              "1  70 0      4    1   1      1    57   52    41   47      57   \n",
              "2 121 1      4    2   1      3    68   59    53   63      61   \n",
              "3  86 0      4    3   1      1    44   33    54   58      31   \n",
              "4 141 0      4    3   1      3    63   44    47   53      56   \n",
              "5 172 0      4    2   1      2    47   52    57   53      61   \n",
              "6 113 0      4    2   1      2    44   52    51   63      61   "
            ]
          },
          "metadata": {}
        }
      ]
    },
    {
      "cell_type": "code",
      "source": [
        "my_data <- read.csv(\"https://stats.idre.ucla.edu/stat/data/hsb2.csv\")\n",
        "my_data$race <- as.factor(my_data$race)\n",
        "my_data$schtyp <- as.factor(my_data$schtyp)\n",
        "my_data$prog <- as.factor(my_data$prog)\n",
        "\n",
        "my_data$female <- as.factor(my_data$female)\n",
        "my_data$ses <- as.factor(my_data$ses)\n",
        "my_data$race <- as.factor(my_data$race)\n",
        "\n",
        "head(my_data)"
      ],
      "metadata": {
        "colab": {
          "base_uri": "https://localhost:8080/",
          "height": 283
        },
        "id": "0xck8dsk79WW",
        "outputId": "1a3288b6-4f76-4d57-8fcc-22a687e94c70"
      },
      "execution_count": null,
      "outputs": [
        {
          "output_type": "display_data",
          "data": {
            "text/html": [
              "<table class=\"dataframe\">\n",
              "<caption>A data.frame: 6 × 11</caption>\n",
              "<thead>\n",
              "\t<tr><th></th><th scope=col>id</th><th scope=col>female</th><th scope=col>race</th><th scope=col>ses</th><th scope=col>schtyp</th><th scope=col>prog</th><th scope=col>read</th><th scope=col>write</th><th scope=col>math</th><th scope=col>science</th><th scope=col>socst</th></tr>\n",
              "\t<tr><th></th><th scope=col>&lt;int&gt;</th><th scope=col>&lt;fct&gt;</th><th scope=col>&lt;fct&gt;</th><th scope=col>&lt;fct&gt;</th><th scope=col>&lt;fct&gt;</th><th scope=col>&lt;fct&gt;</th><th scope=col>&lt;int&gt;</th><th scope=col>&lt;int&gt;</th><th scope=col>&lt;int&gt;</th><th scope=col>&lt;int&gt;</th><th scope=col>&lt;int&gt;</th></tr>\n",
              "</thead>\n",
              "<tbody>\n",
              "\t<tr><th scope=row>1</th><td> 70</td><td>0</td><td>4</td><td>1</td><td>1</td><td>1</td><td>57</td><td>52</td><td>41</td><td>47</td><td>57</td></tr>\n",
              "\t<tr><th scope=row>2</th><td>121</td><td>1</td><td>4</td><td>2</td><td>1</td><td>3</td><td>68</td><td>59</td><td>53</td><td>63</td><td>61</td></tr>\n",
              "\t<tr><th scope=row>3</th><td> 86</td><td>0</td><td>4</td><td>3</td><td>1</td><td>1</td><td>44</td><td>33</td><td>54</td><td>58</td><td>31</td></tr>\n",
              "\t<tr><th scope=row>4</th><td>141</td><td>0</td><td>4</td><td>3</td><td>1</td><td>3</td><td>63</td><td>44</td><td>47</td><td>53</td><td>56</td></tr>\n",
              "\t<tr><th scope=row>5</th><td>172</td><td>0</td><td>4</td><td>2</td><td>1</td><td>2</td><td>47</td><td>52</td><td>57</td><td>53</td><td>61</td></tr>\n",
              "\t<tr><th scope=row>6</th><td>113</td><td>0</td><td>4</td><td>2</td><td>1</td><td>2</td><td>44</td><td>52</td><td>51</td><td>63</td><td>61</td></tr>\n",
              "</tbody>\n",
              "</table>\n"
            ],
            "text/markdown": "\nA data.frame: 6 × 11\n\n| <!--/--> | id &lt;int&gt; | female &lt;fct&gt; | race &lt;fct&gt; | ses &lt;fct&gt; | schtyp &lt;fct&gt; | prog &lt;fct&gt; | read &lt;int&gt; | write &lt;int&gt; | math &lt;int&gt; | science &lt;int&gt; | socst &lt;int&gt; |\n|---|---|---|---|---|---|---|---|---|---|---|---|\n| 1 |  70 | 0 | 4 | 1 | 1 | 1 | 57 | 52 | 41 | 47 | 57 |\n| 2 | 121 | 1 | 4 | 2 | 1 | 3 | 68 | 59 | 53 | 63 | 61 |\n| 3 |  86 | 0 | 4 | 3 | 1 | 1 | 44 | 33 | 54 | 58 | 31 |\n| 4 | 141 | 0 | 4 | 3 | 1 | 3 | 63 | 44 | 47 | 53 | 56 |\n| 5 | 172 | 0 | 4 | 2 | 1 | 2 | 47 | 52 | 57 | 53 | 61 |\n| 6 | 113 | 0 | 4 | 2 | 1 | 2 | 44 | 52 | 51 | 63 | 61 |\n\n",
            "text/latex": "A data.frame: 6 × 11\n\\begin{tabular}{r|lllllllllll}\n  & id & female & race & ses & schtyp & prog & read & write & math & science & socst\\\\\n  & <int> & <fct> & <fct> & <fct> & <fct> & <fct> & <int> & <int> & <int> & <int> & <int>\\\\\n\\hline\n\t1 &  70 & 0 & 4 & 1 & 1 & 1 & 57 & 52 & 41 & 47 & 57\\\\\n\t2 & 121 & 1 & 4 & 2 & 1 & 3 & 68 & 59 & 53 & 63 & 61\\\\\n\t3 &  86 & 0 & 4 & 3 & 1 & 1 & 44 & 33 & 54 & 58 & 31\\\\\n\t4 & 141 & 0 & 4 & 3 & 1 & 3 & 63 & 44 & 47 & 53 & 56\\\\\n\t5 & 172 & 0 & 4 & 2 & 1 & 2 & 47 & 52 & 57 & 53 & 61\\\\\n\t6 & 113 & 0 & 4 & 2 & 1 & 2 & 44 & 52 & 51 & 63 & 61\\\\\n\\end{tabular}\n",
            "text/plain": [
              "  id  female race ses schtyp prog read write math science socst\n",
              "1  70 0      4    1   1      1    57   52    41   47      57   \n",
              "2 121 1      4    2   1      3    68   59    53   63      61   \n",
              "3  86 0      4    3   1      1    44   33    54   58      31   \n",
              "4 141 0      4    3   1      3    63   44    47   53      56   \n",
              "5 172 0      4    2   1      2    47   52    57   53      61   \n",
              "6 113 0      4    2   1      2    44   52    51   63      61   "
            ]
          },
          "metadata": {}
        }
      ]
    },
    {
      "cell_type": "markdown",
      "source": [
        "# Statistical tests\n",
        "https://stats.oarc.ucla.edu/r/whatstat/what-statistical-analysis-should-i-usestatistical-analyses-using-r/"
      ],
      "metadata": {
        "id": "LGti6xEsoaf7"
      }
    },
    {
      "cell_type": "markdown",
      "source": [
        "### Centrality measures"
      ],
      "metadata": {
        "id": "1xeKb8CkxNaR"
      }
    },
    {
      "cell_type": "code",
      "source": [
        "# simple aggregation functions:\n",
        "sum(.), mean(.), median(.), max(.), min(.), sd(.), var(.), length(.), summary(.) "
      ],
      "metadata": {
        "id": "fFiG_YEyos4f"
      },
      "execution_count": null,
      "outputs": []
    },
    {
      "cell_type": "code",
      "source": [
        "summary(mtcars)"
      ],
      "metadata": {
        "colab": {
          "base_uri": "https://localhost:8080/",
          "height": 374
        },
        "id": "51VdGElpxV3R",
        "outputId": "c7e061f5-52e9-432c-9688-98f3a755d38a"
      },
      "execution_count": null,
      "outputs": [
        {
          "output_type": "display_data",
          "data": {
            "text/plain": [
              "      mpg             cyl             disp             hp       \n",
              " Min.   :10.40   Min.   :4.000   Min.   : 71.1   Min.   : 52.0  \n",
              " 1st Qu.:15.43   1st Qu.:4.000   1st Qu.:120.8   1st Qu.: 96.5  \n",
              " Median :19.20   Median :6.000   Median :196.3   Median :123.0  \n",
              " Mean   :20.09   Mean   :6.188   Mean   :230.7   Mean   :146.7  \n",
              " 3rd Qu.:22.80   3rd Qu.:8.000   3rd Qu.:326.0   3rd Qu.:180.0  \n",
              " Max.   :33.90   Max.   :8.000   Max.   :472.0   Max.   :335.0  \n",
              "      drat             wt             qsec             vs        \n",
              " Min.   :2.760   Min.   :1.513   Min.   :14.50   Min.   :0.0000  \n",
              " 1st Qu.:3.080   1st Qu.:2.581   1st Qu.:16.89   1st Qu.:0.0000  \n",
              " Median :3.695   Median :3.325   Median :17.71   Median :0.0000  \n",
              " Mean   :3.597   Mean   :3.217   Mean   :17.85   Mean   :0.4375  \n",
              " 3rd Qu.:3.920   3rd Qu.:3.610   3rd Qu.:18.90   3rd Qu.:1.0000  \n",
              " Max.   :4.930   Max.   :5.424   Max.   :22.90   Max.   :1.0000  \n",
              "       am              gear            carb      \n",
              " Min.   :0.0000   Min.   :3.000   Min.   :1.000  \n",
              " 1st Qu.:0.0000   1st Qu.:3.000   1st Qu.:2.000  \n",
              " Median :0.0000   Median :4.000   Median :2.000  \n",
              " Mean   :0.4062   Mean   :3.688   Mean   :2.812  \n",
              " 3rd Qu.:1.0000   3rd Qu.:4.000   3rd Qu.:4.000  \n",
              " Max.   :1.0000   Max.   :5.000   Max.   :8.000  "
            ]
          },
          "metadata": {}
        }
      ]
    },
    {
      "cell_type": "code",
      "source": [
        "# to apply a simplificed summary, use sapply\n",
        "sapply(mtcars, mean, na.rm=TRUE)"
      ],
      "metadata": {
        "colab": {
          "base_uri": "https://localhost:8080/",
          "height": 51
        },
        "id": "w-GE3Yj-xi5G",
        "outputId": "6783a021-d4cd-4a87-cf81-8a64076b4323"
      },
      "execution_count": null,
      "outputs": [
        {
          "output_type": "display_data",
          "data": {
            "text/html": [
              "<style>\n",
              ".dl-inline {width: auto; margin:0; padding: 0}\n",
              ".dl-inline>dt, .dl-inline>dd {float: none; width: auto; display: inline-block}\n",
              ".dl-inline>dt::after {content: \":\\0020\"; padding-right: .5ex}\n",
              ".dl-inline>dt:not(:first-of-type) {padding-left: .5ex}\n",
              "</style><dl class=dl-inline><dt>mpg</dt><dd>20.090625</dd><dt>cyl</dt><dd>6.1875</dd><dt>disp</dt><dd>230.721875</dd><dt>hp</dt><dd>146.6875</dd><dt>drat</dt><dd>3.5965625</dd><dt>wt</dt><dd>3.21725</dd><dt>qsec</dt><dd>17.84875</dd><dt>vs</dt><dd>0.4375</dd><dt>am</dt><dd>0.40625</dd><dt>gear</dt><dd>3.6875</dd><dt>carb</dt><dd>2.8125</dd></dl>\n"
            ],
            "text/markdown": "mpg\n:   20.090625cyl\n:   6.1875disp\n:   230.721875hp\n:   146.6875drat\n:   3.5965625wt\n:   3.21725qsec\n:   17.84875vs\n:   0.4375am\n:   0.40625gear\n:   3.6875carb\n:   2.8125\n\n",
            "text/latex": "\\begin{description*}\n\\item[mpg] 20.090625\n\\item[cyl] 6.1875\n\\item[disp] 230.721875\n\\item[hp] 146.6875\n\\item[drat] 3.5965625\n\\item[wt] 3.21725\n\\item[qsec] 17.84875\n\\item[vs] 0.4375\n\\item[am] 0.40625\n\\item[gear] 3.6875\n\\item[carb] 2.8125\n\\end{description*}\n",
            "text/plain": [
              "       mpg        cyl       disp         hp       drat         wt       qsec \n",
              " 20.090625   6.187500 230.721875 146.687500   3.596563   3.217250  17.848750 \n",
              "        vs         am       gear       carb \n",
              "  0.437500   0.406250   3.687500   2.812500 "
            ]
          },
          "metadata": {}
        }
      ]
    },
    {
      "cell_type": "code",
      "source": [
        "sapply(mtcars, median, na.rm=TRUE)"
      ],
      "metadata": {
        "id": "Gicr_SSeyg1m",
        "outputId": "1a03e9c6-623d-4ee8-e668-9669ac07d452",
        "colab": {
          "base_uri": "https://localhost:8080/",
          "height": 34
        }
      },
      "execution_count": null,
      "outputs": [
        {
          "output_type": "display_data",
          "data": {
            "text/html": [
              "<style>\n",
              ".dl-inline {width: auto; margin:0; padding: 0}\n",
              ".dl-inline>dt, .dl-inline>dd {float: none; width: auto; display: inline-block}\n",
              ".dl-inline>dt::after {content: \":\\0020\"; padding-right: .5ex}\n",
              ".dl-inline>dt:not(:first-of-type) {padding-left: .5ex}\n",
              "</style><dl class=dl-inline><dt>mpg</dt><dd>19.2</dd><dt>cyl</dt><dd>6</dd><dt>disp</dt><dd>196.3</dd><dt>hp</dt><dd>123</dd><dt>drat</dt><dd>3.695</dd><dt>wt</dt><dd>3.325</dd><dt>qsec</dt><dd>17.71</dd><dt>vs</dt><dd>0</dd><dt>am</dt><dd>0</dd><dt>gear</dt><dd>4</dd><dt>carb</dt><dd>2</dd></dl>\n"
            ],
            "text/markdown": "mpg\n:   19.2cyl\n:   6disp\n:   196.3hp\n:   123drat\n:   3.695wt\n:   3.325qsec\n:   17.71vs\n:   0am\n:   0gear\n:   4carb\n:   2\n\n",
            "text/latex": "\\begin{description*}\n\\item[mpg] 19.2\n\\item[cyl] 6\n\\item[disp] 196.3\n\\item[hp] 123\n\\item[drat] 3.695\n\\item[wt] 3.325\n\\item[qsec] 17.71\n\\item[vs] 0\n\\item[am] 0\n\\item[gear] 4\n\\item[carb] 2\n\\end{description*}\n",
            "text/plain": [
              "    mpg     cyl    disp      hp    drat      wt    qsec      vs      am    gear \n",
              " 19.200   6.000 196.300 123.000   3.695   3.325  17.710   0.000   0.000   4.000 \n",
              "   carb \n",
              "  2.000 "
            ]
          },
          "metadata": {}
        }
      ]
    },
    {
      "cell_type": "markdown",
      "source": [
        "## t-test\n",
        "t.test(x, y, alternative, mu, paired, var.equal, …)\n",
        "\n",
        "```\n",
        "x – a numeric sample.\n",
        "y – a second numeric sample (if this is missing the command carries out a 1-sample test).\n",
        "alternative – how to compare means, the default is “two.sided”. You can also specify “less” or “greater”.\n",
        "mu – the true value of the mean (or mean difference). The default is 0.\n",
        "paired – the default is paired = FALSE. This assumes independent samples. The alternative paired = TRUE is used for matched pair tests.\n",
        "equal – the default is var.equal = FALSE. This treats the variance of the two samples separately. If you set var.equal = TRUE you conduct a classic t-test using pooled variance.\n",
        "… – there are additional parameters that we aren’t concerned with here.\n",
        "```"
      ],
      "metadata": {
        "id": "TFMhO9kjogsH"
      }
    },
    {
      "cell_type": "markdown",
      "source": [
        "### Generate Data"
      ],
      "metadata": {
        "id": "0FwfRWx3uJqE"
      }
    },
    {
      "cell_type": "code",
      "source": [
        "# fix random seed for reproducibility\n",
        "set.seed(1)\n",
        "\n",
        "n_sample <- 25\n",
        "# Create a sample of 25 numbers with mean 2.5 and sd 0.1\n",
        "y1 <- rnorm(n=n_sample, mean = 2.5, sd = 0.1)\n",
        "\n",
        "# Plot the histogram for this sample.\n",
        "hist(y1, main = \"y1\")\n",
        "\n",
        "\n",
        "# Create a sample of 25 numbers with mean 2.5 and sd 0.1\n",
        "y2 <- rnorm(n=n_sample, mean = 2.5, sd = 0.1)\n",
        "\n",
        "# Plot the histogram for this sample.\n",
        "hist(y2, main = \"y2\")\n",
        "\n",
        "# creating a data frame\n",
        "df_stat <- data.frame(\"y1\" = y1, \"y2\" = y2)"
      ],
      "metadata": {
        "colab": {
          "base_uri": "https://localhost:8080/",
          "height": 857
        },
        "id": "vhZ3SGMCqFFh",
        "outputId": "04be758b-b469-4c23-b688-eecb5b12ef1a"
      },
      "execution_count": null,
      "outputs": [
        {
          "output_type": "display_data",
          "data": {
            "text/plain": [
              "Plot with title “y1”"
            ],
            "image/png": "[encoded data removed]"
          },
          "metadata": {
            "image/png": {
              "width": 420,
              "height": 420
            }
          }
        },
        {
          "output_type": "display_data",
          "data": {
            "text/plain": [
              "Plot with title “y2”"
            ],
            "image/png": "[encoded data removed]"
          },
          "metadata": {
            "image/png": {
              "width": 420,
              "height": 420
            }
          }
        }
      ]
    },
    {
      "cell_type": "markdown",
      "source": [
        "### Two independent samples"
      ],
      "metadata": {
        "id": "4vdQb5wSBIhF"
      }
    },
    {
      "cell_type": "code",
      "source": [
        "t.test(y1, y2, paired = FALSE, var.equal = FALSE, conf.level=0.95)"
      ],
      "metadata": {
        "colab": {
          "base_uri": "https://localhost:8080/",
          "height": 204
        },
        "id": "wGLi3vFmrJM_",
        "outputId": "dc7478ea-708b-4b40-91bd-bd1ada50a1a9"
      },
      "execution_count": null,
      "outputs": [
        {
          "output_type": "display_data",
          "data": {
            "text/plain": [
              "\n",
              "\tWelch Two Sample t-test\n",
              "\n",
              "data:  y1 and y2\n",
              "t = 0.57622, df = 44.32, p-value = 0.5674\n",
              "alternative hypothesis: true difference in means is not equal to 0\n",
              "95 percent confidence interval:\n",
              " -0.03406537  0.06135215\n",
              "sample estimates:\n",
              "mean of x mean of y \n",
              " 2.516867  2.503223 \n"
            ]
          },
          "metadata": {}
        }
      ]
    },
    {
      "cell_type": "markdown",
      "source": [
        "### Two dependent samples"
      ],
      "metadata": {
        "id": "mm5qNxIbBBGT"
      }
    },
    {
      "cell_type": "code",
      "source": [
        "t.test(y1, y2, paired = TRUE, var.equal = TRUE, conf.level=0.95)"
      ],
      "metadata": {
        "colab": {
          "base_uri": "https://localhost:8080/",
          "height": 204
        },
        "id": "Y_J_yzA2vAZz",
        "outputId": "d1295247-3163-4d11-d642-fad6021fbf00"
      },
      "execution_count": null,
      "outputs": [
        {
          "output_type": "display_data",
          "data": {
            "text/plain": [
              "\n",
              "\tPaired t-test\n",
              "\n",
              "data:  y1 and y2\n",
              "t = 0.55737, df = 24, p-value = 0.5824\n",
              "alternative hypothesis: true mean difference is not equal to 0\n",
              "95 percent confidence interval:\n",
              " -0.03687728  0.06416405\n",
              "sample estimates:\n",
              "mean difference \n",
              "     0.01364339 \n"
            ]
          },
          "metadata": {}
        }
      ]
    },
    {
      "cell_type": "markdown",
      "source": [
        "### Single Independent Sample"
      ],
      "metadata": {
        "id": "gpLo1v7MBPWa"
      }
    },
    {
      "cell_type": "code",
      "source": [
        "# test if the mean is 2.5\n",
        "t.test(y1, mu = 2.5)"
      ],
      "metadata": {
        "colab": {
          "base_uri": "https://localhost:8080/",
          "height": 204
        },
        "id": "jYxjq2pyBS_7",
        "outputId": "6193dfeb-d96f-41bf-acc3-54c3b32e2b7b"
      },
      "execution_count": null,
      "outputs": [
        {
          "output_type": "display_data",
          "data": {
            "text/plain": [
              "\n",
              "\tOne Sample t-test\n",
              "\n",
              "data:  y1\n",
              "t = 0.88761, df = 24, p-value = 0.3836\n",
              "alternative hypothesis: true mean is not equal to 2.5\n",
              "95 percent confidence interval:\n",
              " 2.477648 2.556085\n",
              "sample estimates:\n",
              "mean of x \n",
              " 2.516867 \n"
            ]
          },
          "metadata": {}
        }
      ]
    },
    {
      "cell_type": "markdown",
      "source": [
        "### t-test with data.frame"
      ],
      "metadata": {
        "id": "8b6OCZkfEdX9"
      }
    },
    {
      "cell_type": "code",
      "source": [
        "t.test(my_data$write ~ my_data$female)"
      ],
      "metadata": {
        "colab": {
          "base_uri": "https://localhost:8080/",
          "height": 204
        },
        "id": "oOqK7wZAElt2",
        "outputId": "31dab78c-0f86-4ebb-803e-369123ae5d8f"
      },
      "execution_count": null,
      "outputs": [
        {
          "output_type": "display_data",
          "data": {
            "text/plain": [
              "\n",
              "\tWelch Two Sample t-test\n",
              "\n",
              "data:  my_data$write by my_data$female\n",
              "t = -3.6564, df = 169.71, p-value = 0.0003409\n",
              "alternative hypothesis: true difference in means between group 0 and group 1 is not equal to 0\n",
              "95 percent confidence interval:\n",
              " -7.499159 -2.240734\n",
              "sample estimates:\n",
              "mean in group 0 mean in group 1 \n",
              "       50.12088        54.99083 \n"
            ]
          },
          "metadata": {}
        }
      ]
    },
    {
      "cell_type": "markdown",
      "source": [
        "## Normality test: Shapiro Wilk Test\n",
        "The R function shapiro.test() can be used to perform the Shapiro-Wilk test of normality for one variable (univariate):"
      ],
      "metadata": {
        "id": "lM0ZKkx8szYS"
      }
    },
    {
      "cell_type": "code",
      "source": [
        "shapiro.test(y1)"
      ],
      "metadata": {
        "colab": {
          "base_uri": "https://localhost:8080/",
          "height": 102
        },
        "id": "Fr-1cKlrrlwp",
        "outputId": "656327f5-f9a1-4edd-e6cf-44215c6449f6"
      },
      "execution_count": null,
      "outputs": [
        {
          "output_type": "display_data",
          "data": {
            "text/plain": [
              "\n",
              "\tShapiro-Wilk normality test\n",
              "\n",
              "data:  y1\n",
              "W = 0.73808, p-value < 0.00000000000000022\n"
            ]
          },
          "metadata": {}
        }
      ]
    },
    {
      "cell_type": "markdown",
      "source": [
        "## Wilcoxon Test (non-parametric): a.k.a. Mann-Whitney Test \n",
        "Similar to t-test but for not-normally distributed data\n",
        "\n",
        "`wilcox.test(x, y, alternative, mu, paired, …)'\n",
        "\n",
        "```\n",
        "x – a numeric sample.\n",
        "y – a second numeric sample (if this is missing the command carries out a 1-sample test).\n",
        "alternative – how to compare means, the default is “two.sided”. You can also specify “less” or “greater”.\n",
        "mu – the true value of the median (or median difference). The default is 0.\n",
        "paired – the default is paired = FALSE. This assumes independent samples. The alternative paired = TRUE is used for matched pair tests.\n",
        "```"
      ],
      "metadata": {
        "id": "ZS2KmhzatHI6"
      }
    },
    {
      "cell_type": "code",
      "source": [
        "# independent samples\n",
        "# wilcox.test(y1, y2)\n",
        "\n",
        "# paired-samples\n",
        "wilcox.test(y1, y2, paired = TRUE)"
      ],
      "metadata": {
        "colab": {
          "base_uri": "https://localhost:8080/",
          "height": 153
        },
        "id": "U0-LnreztYec",
        "outputId": "37edf630-f239-417e-cb7a-a5c0efb57a20"
      },
      "execution_count": null,
      "outputs": [
        {
          "output_type": "stream",
          "name": "stderr",
          "text": [
            "Warning message in wilcox.test.default(y1, y2, paired = TRUE):\n",
            "“cannot compute exact p-value with zeroes”\n"
          ]
        },
        {
          "output_type": "display_data",
          "data": {
            "text/plain": [
              "\n",
              "\tWilcoxon signed rank test with continuity correction\n",
              "\n",
              "data:  y1 and y2\n",
              "V = 0, p-value = NA\n",
              "alternative hypothesis: true location shift is not equal to 0\n"
            ]
          },
          "metadata": {}
        }
      ]
    },
    {
      "cell_type": "markdown",
      "source": [
        "## ANOVA: Analysis of Variance\n",
        "More than 2 conditions, normally distributed samples"
      ],
      "metadata": {
        "id": "usjR3ijatefb"
      }
    },
    {
      "cell_type": "code",
      "source": [
        "summary(aov(my_data$write ~ my_data$prog))"
      ],
      "metadata": {
        "id": "xqcPaIVltiks",
        "colab": {
          "base_uri": "https://localhost:8080/",
          "height": 102
        },
        "outputId": "74463af9-02c4-415a-b5ba-8d5b194e6cd6"
      },
      "execution_count": null,
      "outputs": [
        {
          "output_type": "display_data",
          "data": {
            "text/plain": [
              "              Df Sum Sq Mean Sq F value        Pr(>F)    \n",
              "my_data$prog   2   3176  1587.8   21.27 0.00000000431 ***\n",
              "Residuals    197  14703    74.6                          \n",
              "---\n",
              "Signif. codes:  0 ‘***’ 0.001 ‘**’ 0.01 ‘*’ 0.05 ‘.’ 0.1 ‘ ’ 1"
            ]
          },
          "metadata": {}
        }
      ]
    },
    {
      "cell_type": "markdown",
      "source": [
        "## Repeated measure ANOVA\n",
        "https://crumplab.com/statisticsLab/lab-9-repeated-measures-anova.html"
      ],
      "metadata": {
        "id": "FqmnDUQatjCc"
      }
    },
    {
      "cell_type": "code",
      "source": [
        "my_data2 <- read.csv(\"https://raw.githubusercontent.com/smbillah/ist526/main/one_way_rep.csv\") \n",
        "head(my_data2)"
      ],
      "metadata": {
        "colab": {
          "base_uri": "https://localhost:8080/",
          "height": 283
        },
        "id": "ilOzGJYjcPRi",
        "outputId": "643de5b5-b977-49d9-cfb3-a681d849db87"
      },
      "execution_count": null,
      "outputs": [
        {
          "output_type": "display_data",
          "data": {
            "text/html": [
              "<table class=\"dataframe\">\n",
              "<caption>A data.frame: 6 × 3</caption>\n",
              "<thead>\n",
              "\t<tr><th></th><th scope=col>subject</th><th scope=col>time</th><th scope=col>resp</th></tr>\n",
              "\t<tr><th></th><th scope=col>&lt;chr&gt;</th><th scope=col>&lt;int&gt;</th><th scope=col>&lt;dbl&gt;</th></tr>\n",
              "</thead>\n",
              "<tbody>\n",
              "\t<tr><th scope=row>1</th><td>A</td><td>1</td><td>0.12</td></tr>\n",
              "\t<tr><th scope=row>2</th><td>B</td><td>1</td><td>1.25</td></tr>\n",
              "\t<tr><th scope=row>3</th><td>C</td><td>1</td><td>2.35</td></tr>\n",
              "\t<tr><th scope=row>4</th><td>D</td><td>1</td><td>3.31</td></tr>\n",
              "\t<tr><th scope=row>5</th><td>E</td><td>1</td><td>2.21</td></tr>\n",
              "\t<tr><th scope=row>6</th><td>F</td><td>1</td><td>2.47</td></tr>\n",
              "</tbody>\n",
              "</table>\n"
            ],
            "text/markdown": "\nA data.frame: 6 × 3\n\n| <!--/--> | subject &lt;chr&gt; | time &lt;int&gt; | resp &lt;dbl&gt; |\n|---|---|---|---|\n| 1 | A | 1 | 0.12 |\n| 2 | B | 1 | 1.25 |\n| 3 | C | 1 | 2.35 |\n| 4 | D | 1 | 3.31 |\n| 5 | E | 1 | 2.21 |\n| 6 | F | 1 | 2.47 |\n\n",
            "text/latex": "A data.frame: 6 × 3\n\\begin{tabular}{r|lll}\n  & subject & time & resp\\\\\n  & <chr> & <int> & <dbl>\\\\\n\\hline\n\t1 & A & 1 & 0.12\\\\\n\t2 & B & 1 & 1.25\\\\\n\t3 & C & 1 & 2.35\\\\\n\t4 & D & 1 & 3.31\\\\\n\t5 & E & 1 & 2.21\\\\\n\t6 & F & 1 & 2.47\\\\\n\\end{tabular}\n",
            "text/plain": [
              "  subject time resp\n",
              "1 A       1    0.12\n",
              "2 B       1    1.25\n",
              "3 C       1    2.35\n",
              "4 D       1    3.31\n",
              "5 E       1    2.21\n",
              "6 F       1    2.47"
            ]
          },
          "metadata": {}
        }
      ]
    },
    {
      "cell_type": "code",
      "source": [
        "model = aov(formula = my_data2$resp ~ my_data2$time + Error(my_data2$subject/my_data2$time))\n",
        "summary(model)"
      ],
      "metadata": {
        "id": "IlVwLbRptlp1",
        "colab": {
          "base_uri": "https://localhost:8080/",
          "height": 272
        },
        "outputId": "041c27fe-290e-428a-f23f-df36ba253cae"
      },
      "execution_count": null,
      "outputs": [
        {
          "output_type": "display_data",
          "data": {
            "text/plain": [
              "\n",
              "Error: my_data2$subject\n",
              "          Df Sum Sq Mean Sq F value Pr(>F)\n",
              "Residuals  5  6.895   1.379               \n",
              "\n",
              "Error: my_data2$subject:my_data2$time\n",
              "              Df Sum Sq Mean Sq F value  Pr(>F)   \n",
              "my_data2$time  1 28.024  28.024   37.63 0.00167 **\n",
              "Residuals      5  3.723   0.745                   \n",
              "---\n",
              "Signif. codes:  0 ‘***’ 0.001 ‘**’ 0.01 ‘*’ 0.05 ‘.’ 0.1 ‘ ’ 1\n",
              "\n",
              "Error: Within\n",
              "          Df Sum Sq Mean Sq F value Pr(>F)\n",
              "Residuals 12  2.026  0.1689               "
            ]
          },
          "metadata": {}
        }
      ]
    },
    {
      "cell_type": "markdown",
      "source": [
        "### Ad-Hoc test"
      ],
      "metadata": {
        "id": "gak6qKadgqQ8"
      }
    },
    {
      "cell_type": "code",
      "source": [
        "pairwise.t.test(\n",
        "  x = my_data2$resp,\n",
        "  g = my_data2$time,\n",
        "  p.adjust.method = 'bonferroni'          \n",
        ")"
      ],
      "metadata": {
        "id": "IdkgPCkytmcT",
        "colab": {
          "base_uri": "https://localhost:8080/",
          "height": 204
        },
        "outputId": "1405a26e-0db2-4727-9c33-14b5f144a8fc"
      },
      "execution_count": null,
      "outputs": [
        {
          "output_type": "display_data",
          "data": {
            "text/plain": [
              "\n",
              "\tPairwise comparisons using t tests with pooled SD \n",
              "\n",
              "data:  my_data2$resp and my_data2$time \n",
              "\n",
              "  1       2      3     \n",
              "2 0.1501  -      -     \n",
              "3 0.0074  1.0000 -     \n",
              "4 9.1e-06 0.0021 0.0456\n",
              "\n",
              "P value adjustment method: bonferroni "
            ]
          },
          "metadata": {}
        }
      ]
    },
    {
      "cell_type": "markdown",
      "source": [
        "## Kruskal–Wallis test (non-parametric)\n",
        "Similar to ANOVA but for non-parametric data (more than 2 conditions)"
      ],
      "metadata": {
        "id": "yEnZgG8-wHxr"
      }
    },
    {
      "cell_type": "code",
      "source": [
        "kruskal.test(my_data$write, my_data$prog)"
      ],
      "metadata": {
        "id": "nZi1j2YjwQaA",
        "colab": {
          "base_uri": "https://localhost:8080/",
          "height": 102
        },
        "outputId": "fb267cd2-844e-444e-a9ee-e1a5773e57e0"
      },
      "execution_count": null,
      "outputs": [
        {
          "output_type": "display_data",
          "data": {
            "text/plain": [
              "\n",
              "\tKruskal-Wallis rank sum test\n",
              "\n",
              "data:  my_data$write and my_data$prog\n",
              "Kruskal-Wallis chi-squared = 34.045, df = 2, p-value = 4.047e-08\n"
            ]
          },
          "metadata": {}
        }
      ]
    },
    {
      "cell_type": "markdown",
      "source": [
        "## Goodness of Fit\n",
        "Similar to Chi-squared but with one variable\n",
        "https://www.jmp.com/en_sg/statistics-knowledge-portal/chi-square-test/chi-square-goodness-of-fit-test.html"
      ],
      "metadata": {
        "id": "RdrpAFvqh44U"
      }
    },
    {
      "cell_type": "code",
      "source": [
        "chisq.test(table(my_data$race))"
      ],
      "metadata": {
        "colab": {
          "base_uri": "https://localhost:8080/",
          "height": 102
        },
        "id": "QP6cnBiEid6s",
        "outputId": "c27d4bb7-f77d-4a10-e0f2-17773e355c66"
      },
      "execution_count": null,
      "outputs": [
        {
          "output_type": "display_data",
          "data": {
            "text/plain": [
              "\n",
              "\tChi-squared test for given probabilities\n",
              "\n",
              "data:  table(my_data$race)\n",
              "X-squared = 242.44, df = 3, p-value < 2.2e-16\n"
            ]
          },
          "metadata": {}
        }
      ]
    },
    {
      "cell_type": "code",
      "source": [
        "# with given probabilities\n",
        "chisq.test(table(my_data$race), p = c(10, 10, 10, 70)/100)"
      ],
      "metadata": {
        "colab": {
          "base_uri": "https://localhost:8080/",
          "height": 102
        },
        "id": "O_U9xfbAiDF9",
        "outputId": "7f421f82-3839-406b-fded-f2a2ceb9ef0e"
      },
      "execution_count": null,
      "outputs": [
        {
          "output_type": "display_data",
          "data": {
            "text/plain": [
              "\n",
              "\tChi-squared test for given probabilities\n",
              "\n",
              "data:  table(my_data$race)\n",
              "X-squared = 5.0286, df = 3, p-value = 0.1697\n"
            ]
          },
          "metadata": {}
        }
      ]
    },
    {
      "cell_type": "code",
      "source": [
        "# with given probabilities\n",
        "chisq.test(table(my_data$race), p = c(10, 10, 10, 10)/40)"
      ],
      "metadata": {
        "colab": {
          "base_uri": "https://localhost:8080/",
          "height": 102
        },
        "id": "tKgp4o7ukjme",
        "outputId": "05f49262-e13c-4c57-c1ad-bf5e4bedbc95"
      },
      "execution_count": null,
      "outputs": [
        {
          "output_type": "display_data",
          "data": {
            "text/plain": [
              "\n",
              "\tChi-squared test for given probabilities\n",
              "\n",
              "data:  table(my_data$race)\n",
              "X-squared = 242.44, df = 3, p-value < 2.2e-16\n"
            ]
          },
          "metadata": {}
        }
      ]
    },
    {
      "cell_type": "markdown",
      "source": [
        "## Chi-Squared test "
      ],
      "metadata": {
        "id": "lVIKYSiKtZMj"
      }
    },
    {
      "cell_type": "code",
      "source": [
        "# make a confusion matrix first\n",
        "conf_matrix <- table(my_data$female, my_data$schtyp)"
      ],
      "metadata": {
        "id": "4coJKNRSgWRh"
      },
      "execution_count": null,
      "outputs": []
    },
    {
      "cell_type": "code",
      "source": [
        "chisq.test(conf_matrix)"
      ],
      "metadata": {
        "id": "U4I-NU4ltdsd",
        "colab": {
          "base_uri": "https://localhost:8080/",
          "height": 102
        },
        "outputId": "e8a46b9d-d10b-404e-a328-a7d8954755a3"
      },
      "execution_count": null,
      "outputs": [
        {
          "output_type": "display_data",
          "data": {
            "text/plain": [
              "\n",
              "\tPearson's Chi-squared test with Yates' continuity correction\n",
              "\n",
              "data:  conf_matrix\n",
              "X-squared = 0.00054009, df = 1, p-value = 0.9815\n"
            ]
          },
          "metadata": {}
        }
      ]
    },
    {
      "cell_type": "markdown",
      "source": [
        "## McNemar Test\n",
        "McNemar's Chi-squared test with continuity correction"
      ],
      "metadata": {
        "id": "et_mwwQElF93"
      }
    },
    {
      "cell_type": "code",
      "source": [
        "X <- matrix(c(172, 7, 6, 15), 2, 2)\n",
        "mcnemar.test(X)"
      ],
      "metadata": {
        "colab": {
          "base_uri": "https://localhost:8080/",
          "height": 102
        },
        "id": "_IfAL5dBlJf0",
        "outputId": "eca24b95-f60c-43c8-f0e4-ea9cf3c4eb78"
      },
      "execution_count": null,
      "outputs": [
        {
          "output_type": "display_data",
          "data": {
            "text/plain": [
              "\n",
              "\tMcNemar's Chi-squared test with continuity correction\n",
              "\n",
              "data:  X\n",
              "McNemar's chi-squared = 0, df = 1, p-value = 1\n"
            ]
          },
          "metadata": {}
        }
      ]
    },
    {
      "cell_type": "markdown",
      "source": [
        "## Factorial Analysis\n",
        "https://homepages.inf.ed.ac.uk/bwebb/statistics/Factorial_ANOVA_in_R.pdf"
      ],
      "metadata": {
        "id": "zLRqlnoSl2ql"
      }
    },
    {
      "cell_type": "code",
      "source": [
        "# anova(lm(write ~ female * ses, data = hsb2))\n",
        "\n",
        "model_aov = aov(my_data$write ~ my_data$female * my_data$ses, data = my_data)\n",
        "\n",
        "# Turn off stars showing significance values if you want?\n",
        "options(show.signif.stars=F)\n",
        "\n",
        "summary(model_aov)\n"
      ],
      "metadata": {
        "colab": {
          "base_uri": "https://localhost:8080/",
          "height": 102
        },
        "id": "udQArmNSl60Q",
        "outputId": "83cd4ca8-7f07-4138-b7cb-feebd0b6fe5f"
      },
      "execution_count": null,
      "outputs": [
        {
          "output_type": "display_data",
          "data": {
            "text/plain": [
              "                            Df Sum Sq Mean Sq F value   Pr(>F)\n",
              "my_data$female               1   1176  1176.2  14.627 0.000177\n",
              "my_data$ses                  2   1081   540.3   6.719 0.001509\n",
              "my_data$female:my_data$ses   2     21    10.7   0.133 0.875326\n",
              "Residuals                  194  15601    80.4                 "
            ]
          },
          "metadata": {}
        }
      ]
    },
    {
      "cell_type": "code",
      "source": [
        "TukeyHSD(model_aov)"
      ],
      "metadata": {
        "colab": {
          "base_uri": "https://localhost:8080/",
          "height": 561
        },
        "id": "1x6bVVtfmzA-",
        "outputId": "3fedf418-fb4c-4206-c78c-1d99df17aad9"
      },
      "execution_count": null,
      "outputs": [
        {
          "output_type": "display_data",
          "data": {
            "text/plain": [
              "  Tukey multiple comparisons of means\n",
              "    95% family-wise confidence level\n",
              "\n",
              "Fit: aov(formula = my_data$write ~ my_data$female * my_data$ses, data = my_data)\n",
              "\n",
              "$`my_data$female`\n",
              "        diff     lwr      upr     p adj\n",
              "1-0 4.869947 2.35854 7.381354 0.0001766\n",
              "\n",
              "$`my_data$ses`\n",
              "        diff        lwr       upr     p adj\n",
              "2-1 2.164398 -1.6126690  5.941465 0.3675490\n",
              "3-1 6.177507  2.0207656 10.334248 0.0016083\n",
              "3-2 4.013109  0.4837874  7.542430 0.0213722\n",
              "\n",
              "$`my_data$female:my_data$ses`\n",
              "             diff         lwr       upr     p adj\n",
              "1:1-0:1  5.900000 -2.17705027 13.977050 0.2902992\n",
              "0:2-0:1  2.953191 -4.70146599 10.607849 0.8765968\n",
              "1:2-0:1  7.650000  0.01465786 15.285342 0.0492523\n",
              "0:3-0:1  6.262069 -1.94723215 14.471370 0.2445320\n",
              "1:3-0:1 12.365517  4.15621613 20.574818 0.0003327\n",
              "0:2-1:1 -2.946809 -8.86261696  2.969000 0.7063733\n",
              "1:2-1:1  1.750000 -4.14079435  7.640794 0.9564731\n",
              "0:3-1:1  0.362069 -6.25575796  6.979896 0.9999864\n",
              "1:3-1:1  6.465517 -0.15230969 13.083344 0.0597412\n",
              "1:2-0:2  4.696809 -0.60002998  9.993647 0.1144158\n",
              "0:3-0:2  3.308877 -2.78625773  9.404013 0.6241209\n",
              "1:3-0:2  9.412326  3.31719054 15.507461 0.0002121\n",
              "0:3-1:2 -1.387931 -7.45879108  4.682929 0.9861798\n",
              "1:3-1:2  4.715517 -1.35534280 10.786377 0.2263055\n",
              "1:3-0:3  6.103448 -0.67515902 12.882056 0.1042123\n"
            ]
          },
          "metadata": {}
        }
      ]
    },
    {
      "cell_type": "code",
      "source": [
        "plot(TukeyHSD(model_aov))"
      ],
      "metadata": {
        "colab": {
          "base_uri": "https://localhost:8080/",
          "height": 1000
        },
        "id": "yhzydd-um8RP",
        "outputId": "aac720b9-c0b4-4f15-daee-8c12c8d0f1e4"
      },
      "execution_count": null,
      "outputs": [
        {
          "output_type": "display_data",
          "data": {
            "text/plain": [
              "Plot with title “95% family-wise confidence level\n",
              "”"
            ],
            "image/png": "[encoded data removed]"
          },
          "metadata": {
            "image/png": {
              "width": 420,
              "height": 420
            }
          }
        },
        {
          "output_type": "display_data",
          "data": {
            "text/plain": [
              "Plot with title “95% family-wise confidence level\n",
              "”"
            ],
            "image/png": "[encoded data removed]"
          },
          "metadata": {
            "image/png": {
              "width": 420,
              "height": 420
            }
          }
        },
        {
          "output_type": "display_data",
          "data": {
            "text/plain": [
              "Plot with title “95% family-wise confidence level\n",
              "”"
            ],
            "image/png": "[encoded data removed]"
          },
          "metadata": {
            "image/png": {
              "width": 420,
              "height": 420
            }
          }
        }
      ]
    },
    {
      "cell_type": "markdown",
      "source": [
        "## Friedman test"
      ],
      "metadata": {
        "id": "iMUJcWiZqmvh"
      }
    },
    {
      "cell_type": "code",
      "source": [
        "friedman.test(cbind(my_data$read, my_data$write, my_data$math))"
      ],
      "metadata": {
        "colab": {
          "base_uri": "https://localhost:8080/",
          "height": 102
        },
        "id": "_BYB1dBVqpbs",
        "outputId": "75432469-1e92-482a-fd1d-8bce811fcedd"
      },
      "execution_count": null,
      "outputs": [
        {
          "output_type": "display_data",
          "data": {
            "text/plain": [
              "\n",
              "\tFriedman rank sum test\n",
              "\n",
              "data:  cbind(my_data$read, my_data$write, my_data$math)\n",
              "Friedman chi-squared = 0.64491, df = 2, p-value = 0.7244\n"
            ]
          },
          "metadata": {}
        }
      ]
    },
    {
      "cell_type": "markdown",
      "source": [
        "## Correlation"
      ],
      "metadata": {
        "id": "osifGURJqm06"
      }
    },
    {
      "cell_type": "code",
      "source": [
        "cor(my_data$read, my_data$write)"
      ],
      "metadata": {
        "id": "vuk1qi6Pq9F1",
        "colab": {
          "base_uri": "https://localhost:8080/",
          "height": 34
        },
        "outputId": "f6d59921-1341-4a44-f168-5acff0acec89"
      },
      "execution_count": null,
      "outputs": [
        {
          "output_type": "display_data",
          "data": {
            "text/html": [
              "0.596776479088045"
            ],
            "text/markdown": "0.596776479088045",
            "text/latex": "0.596776479088045",
            "text/plain": [
              "[1] 0.5967765"
            ]
          },
          "metadata": {}
        }
      ]
    }
  ]
}